{
 "cells": [
  {
   "cell_type": "code",
   "execution_count": null,
   "id": "981fde9d-f4e6-4037-bc1b-51d0e4efca98",
   "metadata": {},
   "outputs": [],
   "source": [
    "# https://github.com/openai/whisper\n",
    "# https://github.com/linto-ai/whisper-timestamped/tree/master/whisper_timestamped"
   ]
  },
  {
   "cell_type": "code",
   "execution_count": 30,
   "id": "e0b51173-2a3b-4e13-855b-62dea4ce4fb2",
   "metadata": {
    "tags": []
   },
   "outputs": [],
   "source": [
    "link = \"https://www.youtube.com/watch?v=5p248yoa3oE\""
   ]
  },
  {
   "cell_type": "code",
   "execution_count": 51,
   "id": "4f4a09b1-1bb9-4d19-87d8-ac7ba9cb5703",
   "metadata": {
    "tags": []
   },
   "outputs": [],
   "source": [
    "from urllib.parse import urlparse, parse_qs\n",
    "\n",
    "def extract_main_domain_and_video_id(url):\n",
    "    parsed_url = urlparse(url)\n",
    "    domain_parts = parsed_url.netloc.split('.')\n",
    "    main_domain = domain_parts[-2] if len(domain_parts) >= 2 else None\n",
    "    query_params = parse_qs(parsed_url.query)\n",
    "    video_id = query_params.get('v', [None])[0]\n",
    "    return f\"{main_domain}_{video_id}\""
   ]
  },
  {
   "cell_type": "code",
   "execution_count": 52,
   "id": "4bf97d0d-0d10-4e6d-8511-684e70765ef6",
   "metadata": {
    "tags": []
   },
   "outputs": [
    {
     "data": {
      "text/plain": [
       "'youtube_5p248yoa3oE'"
      ]
     },
     "execution_count": 52,
     "metadata": {},
     "output_type": "execute_result"
    }
   ],
   "source": []
  },
  {
   "cell_type": "code",
   "execution_count": 42,
   "id": "11031da7-fb60-42d1-9026-0afdb70ebb9f",
   "metadata": {
    "tags": []
   },
   "outputs": [],
   "source": [
    "import json\n",
    "import os\n",
    "\n",
    "def write_to_json(file_path, data, overwrite=False):\n",
    "    \"\"\"\n",
    "    Write data to a JSON file.\n",
    "    \n",
    "    Parameters:\n",
    "        file_path (str): The path to the file.\n",
    "        data (dict): The data to write.\n",
    "        overwrite (bool): Whether to overwrite the file if it exists.\n",
    "    \"\"\"\n",
    "    # Check if the file already exists\n",
    "    if os.path.exists(file_path):\n",
    "        if not overwrite:\n",
    "            print(f\"File {file_path} already exists. Skipping.\")\n",
    "            return\n",
    "        else:\n",
    "            print(f\"File {file_path} already exists. Overwriting.\")\n",
    "    \n",
    "    # Write the data to the file\n",
    "    with open(file_path, 'w') as f:\n",
    "        json.dump(data, f)\n",
    "    print(f\"Data written to {file_path}\")\n"
   ]
  },
  {
   "cell_type": "code",
   "execution_count": 53,
   "id": "b6dc2e8c-89fb-4c47-80dc-aae595e0063e",
   "metadata": {
    "tags": []
   },
   "outputs": [
    {
     "name": "stdout",
     "output_type": "stream",
     "text": [
      "Data written to youtube_5p248yoa3oE\n"
     ]
    }
   ],
   "source": [
    "write_to_json(file_path=extract_main_domain_and_video_id(link), data=result)"
   ]
  },
  {
   "cell_type": "code",
   "execution_count": 2,
   "id": "9f3378c4-4172-49a1-9847-a35df981d506",
   "metadata": {
    "scrolled": true,
    "tags": []
   },
   "outputs": [
    {
     "name": "stdin",
     "output_type": "stream",
     "text": [
      "Enter the YouTube video URL:  https://www.youtube.com/watch?v=5p248yoa3oE\n"
     ]
    },
    {
     "name": "stdout",
     "output_type": "stream",
     "text": [
      "Audio downloaded to YoutubeAudios/audio.mp3\n"
     ]
    },
    {
     "name": "stderr",
     "output_type": "stream",
     "text": [
      "/Users/saazizi/miniconda3/lib/python3.10/site-packages/whisper/transcribe.py:114: UserWarning: FP16 is not supported on CPU; using FP32 instead\n",
      "  warnings.warn(\"FP16 is not supported on CPU; using FP32 instead\")\n"
     ]
    },
    {
     "name": "stdout",
     "output_type": "stream",
     "text": [
      " It is my pleasure to welcome Dr. Andrew Wu tonight. Andrew is the managing general partner of AI Fund, founder of Deep Learning AI, and lending AI, Chairman and co-founder of Coursera, and an unjunct professor of computer science here at Stanford. Previously he had started and led the Google Brain Team, which had helped Google adopt modern AI, and he was also director of the Stanford AI lab. From 8 million people, one in 1,000 persons on the planet have taken an AI class from him, and through both his education and his AI work, he has changed humor's lives. Please welcome Dr. Andrew Wu. Thank you Lisa, it's good to see everyone. So what I want to do today is chat to you about some opportunities in AI. So I've been saying AI is a new electricity. One of the difficult things to understand about AI is that it is a general purpose technology, meaning that it's not useful only for one thing, but it's useful for lots of different applications, kind of like electricity. If I was to ask you what is electricity good for, you know, it's not any one thing, there's a lot of things. So what I'd like to do is start off sharing with you, how I view the technology landscape, and just to lead into the set of opportunities. So a lot of excitement about AI. And I think a good way to think about AI is as a collection of tools. So this includes a technique called supervised learning, which is very good at recognizing things or labeling things, and genitive AI, which is relatively new, exciting development. If you're familiar with AI, you may have heard of other tools, but I'm going to talk less about these additional tools. And I'll focus today on what I think are currently the two most important tools, which are supervised learning and genitive AI. So supervised learning is very good at labeling things or very good at computing input to outputs or A to B mappings, given input A, give me an output B. For example, given an email, we can use supervised learning to label a spam or not spam. The most lucrative application of this that I've ever worked on is pervy online advertising where I give it an ad. We can label the users likely to click on it and therefore show more relevant ads. For self-driving cars, given the sense of readings of a car, we can label it with where the other cars. One project that my team AFN worked on was shift route optimization, where given a route to the ship is taking or considering taking, we can label that with how much fuel we think does to consume and use this to make ships more fuel efficient. Still a lot of work in automated visual inspection and factories, so you can take a picture of a smartphone that was just manufactured and label is a scratch when you're defecting it. Or if you want to build a restaurant review reputation monitoring system, you can have little piece of software that looks at online restaurant reviews and labels that as positive or negative sentiment. So one nice thing, one cool thing about supervised learning is that it's not useful for one thing, it's useful for all of these different applications and many more besides. Let me just walk through, concretely, the workflow of one example of a supervised learning labeling things kind of project. If you want to build a system to label restaurant reviews, you then collect a few data points, a collective dataset where it's say, the best time you sandwich great, you say that is positive, several slow, that's negative, my favorite should be curry, that's positive. And here I've shown three data points, but you're building this, you may get thousands of data points like this, thousands of training examples, we call it. And the workflow of a machine learning project, when AI project is you get labeled data, maybe thousands of data points, then you have an AI Android team train an AI model to learn from this data. And then finally, you would find maybe a cloud service to run the trained AI model and then you can feed it, let's both have a hat and that's positive sentiment. And so I think the last decade was maybe the decade of large-scale supervised learning. What we found starting about 10, 15 years ago was if you were to train a small AI model, so train a small neural network, small deep learning algorithm, basically a small AI model, maybe not on a very powerful computer, then as you feed more data, its performance would get better for a little bit, but then it would flatten out, it would plateau, and it would stop being able to use the data to get better and better. But if you were to train a very large AI model, lots of compute on maybe powerful GPUs, then as we scaled up the amount of data we gave the machine learning model, its performance would kind of keep on getting better and better. So this is why when I started and led the Google Brain team, the primary mission, the AI directed the team to solve at the time was let's just build really, really large neural networks that we then fed a lot of data to and that recipe fortunately worked. And I think the idea of driving large compute and large scale data that recipes really helped us driven a lot of AI progress over the last decade. So if that was the last decade of AI, I think this decade is turning out to be also doing everything we had in supervised learning, but adding to it, the exciting two of genitive AI. So many of you, maybe all of you, were played with charge GPD and bar and so on, but just given a piece of text, which we call prompt, I love eating, if you run this multiple times, maybe you get big screen trees or my mother's me low of all out of friends and the AI system can generate output like that. Given the amounts of buzz and excitement about genitive AI, I thought that it'd take just half a slide to say a little bit about how this works. So it turns out that genitive AI, at least this type of text generation, the core of it is using supervised learning that inputs output mappings to repeatedly predict the next word. And so if your system reads on the internet to sentence like, my favorite food is a bagel with cream cheese and locks, then this is translated into a few data points where if it sees my favorite food is a, in this case, try to guess that the right next word was bagel or my favorite food is a bagel, try to guess next word is worth and similarly, if it sees that, in this case, the right guess for the next word would have been cream. So by taking text that you find on the internet or other sources and by using this input output, supervised learning to try to repeatedly predict the next word, if you train a very large AI system on hundreds of billions of words, or in the case of the largest models, now more than a trillion words, then you get a large language model like chat gb. And there are additional other important technical details I talked about predicting the next word. Technically, these systems predict the next sub-world, a part of work called token, and then there are other techniques like RHDF for further tuning the AI output to be more helpful on this and harmless. But at the heart of it, is this using supervised learning to repeatedly predict the next word? That's really what's enabling the exciting, you know, really fantastic progress on large language models. So while many people have seen large language models as a fantastic consumer too, you can go to a website like chat gb's website or bots or other large language models and users. I think it's fantastic too. There's one of the trends I think is still underappreciated, which is the power of large language models, not as it, not as it, not just as a consumer too, but as a developer too. So it turns out that there are applications that used to take me months to build that a lot of people can now build much faster by using a large language model. So specifically, the workflow for supervised learning, building the restaurant review system would be that you need to get a bunch of label data and you know, maybe that takes a month to get a few thousand data points. And then have an AI team train and tune and really get, you know, optimized performance on your AI model. Maybe that'll take three months. Then find a cloud service to run it, make sure it's running robustly, make sure it's recognized, maybe that will take another three months. So a pretty realistic timeline for building a commercial grade machine learning system is like six to 12 months. So teams I've led will often tell roughly six to 12 months to build and deploy these systems and some of them turned out to really valuable, but this is a realistic timeline for building and deploying a commercial grade AI system. In contrast, with prompt-based AI, where you write a prompt, this is what the workflow looks like. You can specify a prompt that takes maybe minutes or hours and then you can deploy it to the cloud and that takes maybe hours or days. So there are now certain AI applications that used to take me, you know, literally six months, maybe a year to build, that many teams around the world can now build in maybe a week. And I think this is already starting, but the best is still yet to come. This is starting to open up a flood of a lot more AI applications that can be built by a lot of people. So I think many people still underestimate the magnitude of the flood of custom AI applications that I think is going to come down the pipe. Now, I know you probably were not expecting me to write code in this presentation, but that's what I'm going to do. So it turns out this is all the code I need in order to write a sentiment classifier. So I'm going to, you know, so you will know Python, I guess, import some tools from OpenAI. And then I have this prompt that says classified detects the low, delimited by three dashes, is having either a positive or negative sentiment. I know I'm a hard guy. Another fantastic time stand for GSB. We're in a lot and also made great new friends. All right. So that's my prompt. And now just I run it. And I've never run it before. So I really hope, thank goodness we've got the right answer. And this is literally all the code that takes the build a sentiment classifier. And so today, you know, developers around the world can take literally maybe like 10 minutes to build a system like this. And that's a very exciting development. So one of the things I've been working on was trying to teach, you know, online classes about how the youth prompting not just as a consumer to, but as a developer to. So just about the technology landscape. Let me now share my thoughts on what are some of the AI opportunities I see. This shows what I think is the value of different AI technologies today. I don't talk about three years from now. But the vast majority of financial value from AI today is I think supervised learning where for a single company like Google can be worth more than 100 billion US dollars a year. And also there are millions of developers building supervised learning applications. So it's already massively valuable. And also with tremendous momentum behind it, just because of the sheer effort in, you know, finding applications and building applications. And in Gen. of AI is the really exciting new entrance, which is much smaller right now. And then there are the other tools that I'm including for completeness because, you know, if the size of these circles represent the value today, this is one I think I might grow to in three years. So supervised learning already really massive may double say in the next three years from truly massive to even more massive. And Gen. of AI, which is much smaller today, I think we'll much more than double in the next three years because of the number of amount of developer interest, the amount of venture capital investments, the number of large corporate exploring applications. And I also just want to point out three years is a very short time horizon. If it continues to compound anything near this rate, then it's six years, you know, it'll be even faster larger. But just light shaded region in green or orange, that light shaded region is where the opportunities for either new startups or for large companies in companies to create and to enjoy value capture. But one thing I hope you take away from this slide is that all of these technologies are general purpose technologies. So in the case of supervised learning, a lot of the work that had to be done over the last decade, but it's continuing for the next decade is to identify and to execute on the concrete use cases. And that process is also kicking off for Gen. of AI. So for this part of the presentation, I hope you take away from it that general purpose technologies are useful for many different tasks. A lot of value remains be created using supervised learning. And even though we're nowhere near finishing figure out the exciting use cases of supervised learning, where there's other, you know, fantastic two of genus of AI, which further expands the set of things we can now do using AI. But one caveat, which is that there will be short term fads along the way. So I don't know if some of you might remember the app called Lenser. This is the app that will let you upload pictures of yourself and then render a cool picture of you as an astronaut or a scientist or something. And it was a good idea and people liked it. And it's obvious just took off like crazy like that through last December. And then it did that. And that's because Lenser was, it was a good idea. People liked it. But it was a relatively thin software layer on top of someone else's really powerful APIs. And so even though it was a useful product, it was in a defensive all business. And when I, when I, when I think about, you know, absolute Lenser, I'm actually reminded that when Steve Jobs gave us the iPhone, surely after someone wrote an app that I paid $199.4 to do this, to turn on the LED, to turn the phone into a flashlight. And that was also a good idea to write an app to turn on the LED light. But it also wasn't a defensible long term. It also didn't create very long term value because it was a easy replicated and underpriced and eventually incorporated into iOS. But with the rise of iOS, with the rise of iPhone, someone also figured out how to build things like Uber and Airbnb and Tinder. The very long term, very defensible businesses that created, you know, sustaining value. And I think with the rise of Gen2VI or the rise of new AI tools, I think what really, what excites me is the opportunity to create those really deep, really hard applications that hopefully can create very long term value. So the first trend I want to share is AI's general purpose technology. And a lot of the words that lies ahead of us is to find the very diverse use cases and to build them. The second trend I want to share with you, which relates to why AI isn't more widely adopted yet. It feels like a bunch of us have been talking about AI for like 15 years or something. But if you look at where the value of AI is today, a lot of it is still very concentrated and consumer-solve way internet. Once you go outside, you know, tech or consumer-solve internet, there's some air adoption, but the law views very early. So why is that? It turns out if you were to take all current and potential AI projects and sort them in decreasing order of value, then to the left of this curve, the head of this curve are the multi-billion dollar projects like advertising or web search or for e-commerce, your product recommendations or company Amazon. And it turns out that about 10-15 years ago, you know, various of my friends and I, we figured out a recipe for how to hire say a hundred engineers to write one piece of software to serve more relevant ads and apply that one piece of software to billion users and generate massive financial value. So that works. But once you go outside, consume a software internet, how do anyone has a hundred million or a billion users that you can write and apply one piece of software to? So once you go to other industries, as we go from the head of this curve on the left over to the long tail, these are some of the projects I see and I'm excited about. I was working with a piece of maker that was taking pictures of the piece that they were making because they needed to do things like make sure that the cheese is spread evenly. So this is about a five million dollar project, but that recipe of hiring a hundred engineers or dozens of engineers to work on a five million dollar project that doesn't make sense. Or another very example, working with an agricultural company that, well then we figured out that we used cameras to find out how tall is the wheat and wheat is often bent over because of wind or rain or something. And we can chop off the wheat at the right height, then that results in more food for the farmer to sell and is also better for the environment. But this is another five million dollar project that that old recipe of having a large group of high school engineers to work on this one project that doesn't make sense. And similarly, materials grading, cloth grading, sheet metal grading, many project like this. So whereas to the left in the head of this curve, there's a small number of let's say multi-billion dollar projects and we know how to execute those, you know, delivering value. In other industries, I'm seeing a very long tail of tens of thousands of, let's call them five million dollar projects that until now have been very difficult to excuse on because of the high cost of customization. The trend that I think is exciting is that the AI community has been building better tools that let's us aggregate these use cases and make it easy for the end user to do the customization. So specifically, I'm seeing a lot of exciting low code and no code tools that enable the user to customize the AI system. What this means is instead of me needing to worry that much about pictures of pizza, we have tools, we can start into C2s that can enable the IT department of the pizza making factory to train the AI system on their own pictures of pizza to realize this five billion dollars worth of value. And by the way, the pictures of pizza, you know, they don't exist on the internet. So Google and Bing don't have access to these pictures. We need tools that can be used by really the pizza factory themselves to build and deploy and maintain their own custom AI system that works on their own pictures of pizza. And broadly, the technology for enabling this, some of it is prompting, text prompting, visual prompting, but really large language models and similar tools like that. Or a technology called data-centric AI whereby instead of asking the pizza factory to write a lot of code, you know, which is challenging, we can ask them to provide data which turns out to be more feasible. And I think the second trend is important because I think this is a key part of the recipe for taking the value of AI, which so far still feels very concentrated in the tech world and the consumer's offer into that world and pushing this out to, you know, all industries really to the rest of the economy, which, you know, sometimes it's easy to forget. The rest of the economy is much bigger than the tech world. So, the two trends I shared, AI is a general purpose technology, lots of concrete use cases to be realized as well as local, no code, easy to use tools and enabling AI to be deployed in more industries. How do we go after these opportunities? So, about five years ago, there was a puzzle I want to solve, which is I felt that many valuable AI projects are now possible. I was thinking how do we get them done? And having led AI teams in, you know, Google and I do in big tech companies, I had a hard time figuring out how I could operate a team in a big tech company to go off. There are a very diverse set of opportunities and everything from maritime shipping to education to financial services and healthcare and all and all. It's just very diverse use cases, very diverse. Go to markets, very diverse, really, you know, customer bases and then applications. And I felt that the most efficient way to do this would be if we can start a lot of different companies to pursue these very diverse opportunities. So, that's why I end up starting AI fun, which is a venture studio that builds startups to pursue a diverse set of AI opportunities. And of course, in addition to lots of startups, incumbent companies also have a lot of opportunities to integrate AI into existing businesses. In fact, one pattern I'm seeing for incumbent businesses is distribution is often one of the cyclical advantages of incumbent companies that they play their cards right can allow them to integrate AI into their products quite efficiently. But just to be concrete, where are the opportunities? So, I think of this as a, this is what I think of as the AI stack. At the bottom level is the hardware semiconductor layer. Fantastic opportunities there, but very capital intensive, very concentrated. So, these are a lot of resources as well as a few winners. So, some people can and should play there. I personally don't like to play them myself. There's also the infrastructure layer. Also, fantastic opportunities, but very capital intensive, very concentrated. So, I tend not to play them myself either. And then there's a developer tool layer. What I showed you just now was I was actually using OpenAI's API as a developer tool. And then I think the developer tool sector is a hyper competitive. Look at all the startups chasing OpenAI right now, but there will be some mega winners. And so, I sometimes play here, but primarily when I think of a meaningful technology advantage, because I think that earns you the right or earns you a better shot at being one of the mega winners. And then lastly, even though a lot of the media attention in the buzz is in the infrastructure and developer tooling layer, it turns out that that layer can be successful only if the application layer is even more successful. And we saw this with the rise of SaaS as well. A lot of the buzz the excitement is on the technology, the tooling layer, which is fine, nothing wrong with that. But the only way for that to be successful is that the application layer is even more successful so that frankly, they can generate enough revenue to pay the infrastructure and the tooling layer. So, actually, let me mention one example. I'm on my right, as I actually just texting the CEO yesterday, but I'm on my right is a complete that we built that uses AI for romantic relationship coaching. And just to point out, I'm an AI guy, and I feel like I know nothing really about romance. And if you don't believe me, you can ask my wife, she will confirm that I know nothing about romance. But when we want to build this, we want to get together with the former CEO of Tinder, or Renata Nibble, and with my team's expertise in AI, and her expertise in relationships, she ran Tinder. She knows more about relationships. I think anyone I know, we're able to build something pretty unique using AI for romantic relationship mentoring. And the interesting thing about applications like these is when we look around, how many teams in the world are simultaneously expert in AI and in relationships. At the application layer, I'm seeing a lot of exciting opportunities that seem to the very large market, but where the competition set is very light relative to the magnitude of the opportunity. It's not that there are no competitors, but it's just much less intense compared to the developer tool or the infrastructure layer. And so because I've spent a lot of time iterating on a process of building startups, what I'm going to do is just very transparently tell you the recipe we've developed for building startups. And so after many years of iteration and improvement, this is how we now build startups. My team's always had access to a lot of different ideas, internally generated ideas from partners. And I want to walk through this with one example or something we did, which is a company bearing AI, which uses AI to make ships more fuel efficient. So this idea came to me when a few years ago, a large Japanese conglomerate called Mitsui, that is a major shareholder in the sort of operator major shipping lines. They came to me and they said, Hey, Andrew, you should build a business to use AI to make ships more fuel efficient. And the specific idea was, think of it as a Google Maps for ships. We can suggest a ship or tell a ship how to steer so that you still get your destination on time, but using turns out about 10% less fuel. And so what we now do is we spend about a month validating the idea. So double-check, this is idea even technically feasible and in top-of-the-prospective customers to make sure that is marketing. So we spend up to about a month doing that. And if it passes this stage, then we will go and recruit a CEO to work with us on the project. When I was starting, I used to spend a long time working on the project myself before bringing on the CEO, but after iterating, we realized that bringing on the leader at the very beginning to work with us, it reduces a lot of the burden of having to transfer knowledge or having a CEO come in and revaluate whether we discover it. So the process is we've learned much more efficient, which is bringing the leader at the very start. And so in the case of bearing AI, we found a fantastic CEO, Dylan Kyle, who's a repeat entrepreneur, won successfully exhibit four. And then we spent three months, six two weeks sprints to work with them to build a prototype, as well as do do deep customer validation. If it survives this stage and we have about a 2-thirds 66% survival rate, we never had the first check in, which then gives the company resources to hire an executive team, build the key team, get the MVP working, minimize the survival product working, and get some real customers. And then after that, hopefully then successfully raises additional external rounds of funding that you can keep on growing and scaling. So I'm really proud of the work that my team was able to do to support Mitsui's idea and Dylan Kyle as CEO. And today, there are hundreds of ships on the high seas right now that are steering themselves differently because of bearing AI. And 10% fuel savings translates to rough water man to maybe $450,000 in savings in fuel per ship per year. And of course, it's also frankly quite a bit better for the environment. And I think this is not a, I think would not have existed if not for Dylan's fantastic work. And then also, you know, Mitsui brain this idea to me. And I like this example because this is another one is like, you know, this is a started idea that just a point out I would never have come up with myself, right? Because, you know, I've been on a boat, but what do I know about maritime shipping? But is the deep subject matter expertise of Mitsui that had to zen site together with Dylan and then my team's expertise in AI that made this possible? And so as I operate an AI, one thing I've learned is my swim lane is AI. And that's it because I don't have time. It's very difficult for me to be expert in maritime shipping and romantic relationships and healthcare and financial services and all and all and all. And so I've learned that if I can just help get an accurate technical validation and then use, you know, AI resources to make sure the AI tech has been quickly and well. And I think we've always managed to help the companies build a strong technical team than partnering with subject matter experts often results in exciting opportunities. And I want to share with you one other weird aspect of one of the weird lessons I've learned about, you know, building startups, which is I like to engage only when there's a concrete idea. And this runs counter to bother the advice you hear from the design thinking methodology, which often says don't rush to solutioning, right? Explore a lot of alternatives for the solution. Honestly, we tried that. It was very slow. But what we've learned is that at the ideation stage, if someone comes to me and says, Hey, Andrew, you should apply AI to financial services because I'm not a subject matter expert in financial services, it's very slow for me to learn enough about financial services to figure out what to do. I mean, eventually you could get a good outcome, but it's a very labor intensive, very slow, very expensive process. So me to try to learn industry after industry. In contrast, one of my partners wrote his ideas that Tony Cheat, not really seriously, but you know, let's say the concrete ideas by GPT, let's eliminate commercials by automatically buying every product advertised in exchange for not having seen ads. It's not a good idea, but it is a concrete idea. And it turns out concrete ideas can be validated or falsified efficiently. They also give a team a clear direction to execute. And I've learned it in today's world, especially with the excitement and buzz and exposure to the AI of a lot of people, it turns out that there are a lot of subject matter experts in today's world that have deeply thought about a problem for months, sometimes even one or two years, but they've not yet had a bill upon there. And when we get together with them and hear and they share the idea of us, it allows us to work with them to very quickly go into validation and building. And I find that this works because there are a lot of people that have already done the, you know, design thinking thing of exploring a lot of ideas and winning down to really good ideas. And there are, I find that there's so many good ideas sitting out there that no one is working on that finding those good ideas that someone has already had and wants to share of us and wants to build upon the floor. That turns down to a much more efficient engine. So, before I wrap up, we'll go to the question a second. Just a few slides to talk about risks and social impact. So, AI is a very powerful technology to state something you probably guess. My team's and I, we only work on projects that move humanity forward. And, you know, we have multiple times, code projects that we assess to be financially sound based on ethical grounds. It turns out, I've been surprised and sometimes this made at the creativity of people to come up with good ideas, sorry, to come up with really bad ideas that seem profitable, but really should not be built with a few projects on those, on those grounds. And then I think has to acknowledge that AI today does have problems with bias, fairness, accuracy, but also, you know, technology is improving quickly. So, I see that AI systems today less bias than six months ago and more fair than six months ago, which is not to dismiss the importance of these problems. They are problems and we should continue to work on them. But I'm also gratified at the number of AI tools working hard on these issues to make them much better. When I think of the biggest risk of AI, I think that the biggest risk, one of the biggest disruption to jobs, this is a diagram from a paper by our friend at the University of Pennsylvania and some folks at OpenAI, analyzing the exposure of different jobs to AI automation. And it turns out that whereas the previous wave of automation, mainly the most exposed jobs were often the lower ways jobs, such as when, you know, we put robots into factories. With this current wave of automation, it's actually the higher-wage jobs further the right of this axis that seems to have more of their tasks exposed to AI automation. So, even as we create tremendous value using AI, I feel like as citizens and our corporations and the governments and really our society, I feel a strong obligation to make sure that people, especially people who are lively who are disrupted, are still well taken care of, are still treated well. And then lastly, it feels like every time there's a big wave of progress in AI, you know, there's a big wave of hype about artificial gender intelligence as well. When deep learning started to work really well 10 years ago, there was a lot of hype about AI and now the general AI is working really well. There's another wave of hype about AI. But I think that artificial intelligence, AI didn't do anything human can do, it's still decades away, you know, maybe 30 to 50 years, maybe even longer. I hope we'll see in our lifetimes. But I don't think there's any time soon. One of the challenges is that the biological path to intelligence, like humans and the digital path to intelligence, you know, AI, they've taken very different paths. And the funny thing about the definition of AGI is, you know, benchmarking this very different digital path to intelligence with really the biological path to intelligence. So I think, you know, Russian gushmoldos are smarter than any of us in certain key dimensions, but much dumber than any of us in other dimensions. And so forcing it to do everything a human can do is like a funny comparison. But I hope we'll get there, maybe hopefully within our lifetimes. And then there's also a lot of, I think, overblown hype about AI creating extinction risk for humanity. Candidly, I don't see it. I just don't see how AI creates any meaningful extinction risk for humanity. I think that people worry we can't control AI, but we have lots of AI will be more powerful than any person, but we've lots of experience steering very powerful entities such as corporations or nation states that are far more powerful than any single person and making sure they for the most part benefit humanity. And also technology develops gradually. The so-called hot takeoff scenario, where it's not really working today, and then suddenly one day overnight, it works brilliantly with your super intelligence takes over the world. That's just not realistic. And I think the AI technology would develop slowly like all the technology, you know, and then it gives us plenty of time to make sure that we provide oversight and can manage it to be safe. And lastly, if you look at the real extinction risk of humanity, such as fingers crossed the next pandemic or climate change leading to a massive depopulation of some parts of the planet, or much lower odds, but maybe someday, an asteroid doing to us what it had done to the dinosaurs. I think we look at the actual real extinction risk humanity. AI having more intelligence, even artificial intelligence in the world, would be a key part of the solution. So I feel like if you want humanity to survive and thrive for the next thousand years, rather than slowing AI down, which some people propose, I would monitor, I would rather make AI go as fast as possible. So with that, just to summarize, this is my last slide. I think that AI, as a general purpose technology, trees a lot of new opportunities for everyone. And a lot of the exciting and important work that lies ahead of us all is to go and build those concrete use cases. And hopefully in the future, hopefully I have opportunities to maybe engage with more of you on those opportunities as well. So that, let me just say thank you all very much.\n"
     ]
    }
   ],
   "source": [
    "import os\n",
    "import whisper\n",
    "from pytube import YouTube\n",
    "\n",
    "def startfile(fn):\n",
    "    \"\"\"Open a file with the default application.\"\"\"\n",
    "    os.system(f'open {fn}')\n",
    "\n",
    "def create_and_open_txt(text, filename):\n",
    "    \"\"\"Create a txt file, write the text into it, and then open it.\"\"\"\n",
    "    with open(filename, \"w\") as file:\n",
    "        file.write(text)\n",
    "    startfile(filename)\n",
    "\n",
    "def main():\n",
    "    # Get YouTube video URL from the user\n",
    "    url = input(\"Enter the YouTube video URL: \")\n",
    "\n",
    "    # Initialize YouTube object\n",
    "    yt = YouTube(url)\n",
    "\n",
    "    # Get the audio stream\n",
    "    audio_stream = yt.streams.filter(only_audio=True).first()\n",
    "\n",
    "    # Define output path and filename\n",
    "    output_path = \"YoutubeAudios\"\n",
    "    filename = \"audio.mp3\"\n",
    "\n",
    "    # Download the audio\n",
    "    audio_stream.download(output_path=output_path, filename=filename)\n",
    "    print(f\"Audio downloaded to {output_path}/{filename}\")\n",
    "\n",
    "    # Transcribe the audio using Whisper\n",
    "    model = whisper.load_model(\"base\")\n",
    "    result = model.transcribe(f\"{output_path}/{filename}\")\n",
    "    transcribed_text = result[\"text\"]\n",
    "    print(transcribed_text)\n",
    "\n",
    "\n",
    "    # Create and open a txt file with the transcribed text\n",
    "    create_and_open_txt(transcribed_text, f\"output.txt\")\n",
    "\n",
    "if __name__ == \"__main__\":\n",
    "    main()\n"
   ]
  },
  {
   "cell_type": "code",
   "execution_count": 8,
   "id": "9a66fd4e-35a6-4d4a-b531-259f954e80fa",
   "metadata": {
    "scrolled": true,
    "tags": []
   },
   "outputs": [
    {
     "name": "stdout",
     "output_type": "stream",
     "text": [
      "Importing the dtw module. When using in academic works please cite:\n",
      "  T. Giorgino. Computing and Visualizing Dynamic Time Warping Alignments in R: The dtw Package.\n",
      "  J. Stat. Soft., doi:10.18637/jss.v031.i07.\n",
      "\n",
      "Help on function transcribe_timestamped in module whisper_timestamped.transcribe:\n",
      "\n",
      "transcribe_timestamped(model, audio, language=None, task='transcribe', remove_punctuation_from_words=False, compute_word_confidence=True, include_punctuation_in_confidence=False, refine_whisper_precision=0.5, min_word_duration=0.02, plot_word_alignment=False, word_alignement_most_top_layers=None, remove_empty_words=False, seed=1234, vad=False, detect_disfluencies=False, trust_whisper_timestamps=True, naive_approach=False, temperature=0.0, best_of=None, beam_size=None, patience=None, length_penalty=None, compression_ratio_threshold=2.4, logprob_threshold=-1.0, no_speech_threshold=0.6, fp16=None, condition_on_previous_text=True, initial_prompt=None, suppress_tokens='-1', sample_len=None, verbose=False)\n",
      "    Transcribe an audio file using Whisper\n",
      "    \n",
      "    Parameters\n",
      "    ----------\n",
      "    model: Whisper\n",
      "        The Whisper model instance.\n",
      "    \n",
      "    audio: Union[str, np.ndarray, torch.Tensor]\n",
      "        The path to the audio file to open, or the audio waveform in 16kHz.\n",
      "    \n",
      "    language: str\n",
      "        The language to use for the transcription. If None, the language is detected automatically.\n",
      "    \n",
      "    task: str\n",
      "        The task to perform: either \"transcribe\" or \"translate\".\n",
      "    \n",
      "    remove_punctuation_from_words: bool\n",
      "        If False, words will be glued with the next punctuation mark (if any).\n",
      "        If True, there will be no punctuation mark in the `words[:][\"text\"]` list.\n",
      "        It only affects these strings; This has no influence on the computation of the word confidence, whatever the value of `include_punctuation_in_confidence` is.\n",
      "    \n",
      "    include_punctuation_in_confidence: bool\n",
      "        Whether to include proba of punctuation in the computation of the (previous) word confidence.\n",
      "    \n",
      "    compute_word_confidence: bool\n",
      "        Whether to compute word confidence.\n",
      "        If True, a finer confidence for each segment will be computed as well.\n",
      "    \n",
      "    vad: bool\n",
      "        Whether to perform voice activity detection (VAD) on the audio file, to remove silent parts before transcribing with Whisper model.\n",
      "        This should decrease hallucinations from the Whisper model.\n",
      "    \n",
      "    detect_disfluencies: bool\n",
      "        Whether to detect disfluencies (i.e. hesitations, filler words, repetitions, corrections, etc.) that Whisper model might have omitted in the transcription.\n",
      "        This should make the word timestamp prediction more accurate.\n",
      "        And probable disfluencies will be marked as special words \"[*]\".\n",
      "    \n",
      "    trust_whisper_timestamps: bool\n",
      "        Whether to rely on Whisper's timestamps to get approximative first estimate of segment positions (up to refine_whisper_precision).\n",
      "    \n",
      "    refine_whisper_precision: float\n",
      "        How much can we refine Whisper segment positions, in seconds. Must be a multiple of 0.02.\n",
      "    \n",
      "    min_word_duration: float\n",
      "        Minimum duration of a word, in seconds. If a word is shorter than this, timestamps will be adjusted.\n",
      "    \n",
      "    plot_word_alignment: bool\n",
      "        Whether to plot the word alignment for each segment. matplotlib must be installed to use this option.\n",
      "    \n",
      "    remove_empty_words: bool\n",
      "        Whether to remove words with no duration occuring at the end of segments (probable Whisper hallucinations).\n",
      "    \n",
      "    seed: int\n",
      "        Random seed to use for temperature sampling, for the sake of reproducibility.\n",
      "        Choose None for unpredictable randomness.\n",
      "    \n",
      "    naive_approach: bool\n",
      "        Force the naive approach that consists in decoding twice the audio file, once to get the transcritpion and once with the decoded tokens to get the alignment.\n",
      "        Note that this approach is used anyway when beam_size is not None and/or when the temperature is a list with more than one element.\n",
      "    \n",
      "    temperature: float\n",
      "        Temperature for sampling.\n",
      "    \n",
      "    compression_ratio_threshold: float\n",
      "        If the gzip compression ratio is above this value, treat as failed.\n",
      "    \n",
      "    logprob_threshold: float\n",
      "        If the average log probability over sampled tokens is below this value, treat as failed.\n",
      "    \n",
      "    no_speech_threshold: float\n",
      "        If the no_speech probability is higher than this value AND the average log probability\n",
      "        over sampled tokens is below `logprob_threshold`, consider the segment as silent.\n",
      "    \n",
      "    condition_on_previous_text: bool\n",
      "        if True, the previous output of the model is provided as a prompt for the next window;\n",
      "        disabling may make the text inconsistent across windows, but the model becomes less prone to\n",
      "        getting stuck in a failure loop, such as repetition looping or timestamps going out of sync.\n",
      "    \n",
      "    initial_prompt: str\n",
      "        Optional text to provide as a prompt for the first window.\n",
      "    \n",
      "    suppress_tokens: str\n",
      "        Comma-separated list of token ids to suppress during sampling;\n",
      "        '-1' will suppress most special characters except common punctuations.\n",
      "    \n",
      "    verbose: bool\n",
      "        Whether to display the text being decoded to the console. If True, displays all the details,\n",
      "        If False, displays minimal details. If None, does not display anything\n",
      "    \n",
      "    Returns\n",
      "    -------\n",
      "    A dictionary containing the resulting text (\"text\") and segment-level details (\"segments\"), and\n",
      "    the spoken language (\"language\"), which is detected when `decode_options[\"language\"]` is None.\n",
      "\n"
     ]
    }
   ],
   "source": [
    "import whisper_timestamped\n",
    "help(whisper_timestamped.transcribe)"
   ]
  },
  {
   "cell_type": "code",
   "execution_count": 20,
   "id": "813d04a4-5778-4b89-b428-e4c6a707144c",
   "metadata": {
    "tags": []
   },
   "outputs": [],
   "source": [
    "import whisper_timestamped as whisper\n",
    "\n",
    "audio = whisper.load_audio(\"YoutubeAudios/audio.wav\")\n"
   ]
  },
  {
   "cell_type": "code",
   "execution_count": 21,
   "id": "f79f62a7-9b75-42ad-9be2-977bdb714a77",
   "metadata": {
    "tags": []
   },
   "outputs": [],
   "source": [
    "\n",
    "model = whisper.load_model(\"base\", device=\"cpu\")\n"
   ]
  },
  {
   "cell_type": "code",
   "execution_count": 22,
   "id": "1420cd8f-ce57-4f4e-a60d-2e344e393631",
   "metadata": {
    "scrolled": true,
    "tags": []
   },
   "outputs": [
    {
     "name": "stdout",
     "output_type": "stream",
     "text": [
      "Detected language: English\n"
     ]
    },
    {
     "name": "stderr",
     "output_type": "stream",
     "text": [
      "100%|██████████████████████████████████████████████████████████████████████████████████████████████| 221453/221453 [02:40<00:00, 1383.19frames/s]\n"
     ]
    }
   ],
   "source": [
    "\n",
    "result = whisper.transcribe(model, audio)\n",
    "\n",
    "# import json\n",
    "# print(json.dumps(result, indent = 2, ensure_ascii = False))"
   ]
  },
  {
   "cell_type": "code",
   "execution_count": 41,
   "id": "91eb5fa3-3ea4-48fe-8c03-2e6d3dedb54e",
   "metadata": {
    "tags": []
   },
   "outputs": [
    {
     "data": {
      "text/plain": [
       "dict_keys(['text', 'segments', 'language'])"
      ]
     },
     "execution_count": 41,
     "metadata": {},
     "output_type": "execute_result"
    }
   ],
   "source": [
    "result.keys()"
   ]
  },
  {
   "cell_type": "code",
   "execution_count": 64,
   "id": "2ff9163a-addb-48f9-b123-782433d83486",
   "metadata": {
    "tags": []
   },
   "outputs": [
    {
     "data": {
      "image/jpeg": "[encoded data removed]",
      "text/html": [
       "\n",
       "        <iframe\n",
       "            width=\"800\"\n",
       "            height=\"300\"\n",
       "            src=\"https://www.youtube.com/embed/5p248yoa3oE?start=37\"\n",
       "            frameborder=\"0\"\n",
       "            allowfullscreen\n",
       "            \n",
       "        ></iframe>\n",
       "        "
      ],
      "text/plain": [
       "<IPython.lib.display.YouTubeVideo at 0x298382a40>"
      ]
     },
     "execution_count": 64,
     "metadata": {},
     "output_type": "execute_result"
    }
   ],
   "source": [
    "from IPython.display import YouTubeVideo\n",
    "\n",
    "YouTubeVideo('5p248yoa3oE',start=37, width=800, height=300)"
   ]
  },
  {
   "cell_type": "code",
   "execution_count": 55,
   "id": "37eed0e8-45d3-4d99-a46e-24e58c263661",
   "metadata": {
    "tags": []
   },
   "outputs": [
    {
     "name": "stdout",
     "output_type": "stream",
     "text": [
      "Collecting markdown\n",
      "  Downloading Markdown-3.4.4-py3-none-any.whl (94 kB)\n",
      "\u001b[2K     \u001b[90m━━━━━━━━━━━━━━━━━━━━━━━━━━━━━━━━━━━━━━━━\u001b[0m \u001b[32m94.2/94.2 kB\u001b[0m \u001b[31m6.8 MB/s\u001b[0m eta \u001b[36m0:00:00\u001b[0m\n",
      "\u001b[?25hInstalling collected packages: markdown\n",
      "Successfully installed markdown-3.4.4\n",
      "Note: you may need to restart the kernel to use updated packages.\n"
     ]
    }
   ],
   "source": [
    "pip install markdown"
   ]
  },
  {
   "cell_type": "code",
   "execution_count": 40,
   "id": "95592e57-bcdd-4eb2-9493-264babba58bc",
   "metadata": {
    "tags": []
   },
   "outputs": [
    {
     "data": {
      "text/plain": [
       "'https://www.youtube.com/watch?v=5p248yoa3oE&t=37.34'"
      ]
     },
     "execution_count": 40,
     "metadata": {},
     "output_type": "execute_result"
    }
   ],
   "source": [
    "a = \"https://www.youtube.com/watch?v=5p248yoa3oE&t=37.34\"\n",
    "a"
   ]
  },
  {
   "cell_type": "code",
   "execution_count": null,
   "id": "a814542d-4839-495b-a52f-2b45f917d7aa",
   "metadata": {},
   "outputs": [],
   "source": []
  }
 ],
 "metadata": {
  "kernelspec": {
   "display_name": "summarizer",
   "language": "python",
   "name": "summarizer"
  },
  "language_info": {
   "codemirror_mode": {
    "name": "ipython",
    "version": 3
   },
   "file_extension": ".py",
   "mimetype": "text/x-python",
   "name": "python",
   "nbconvert_exporter": "python",
   "pygments_lexer": "ipython3",
   "version": "3.10.10"
  }
 },
 "nbformat": 4,
 "nbformat_minor": 5
}
