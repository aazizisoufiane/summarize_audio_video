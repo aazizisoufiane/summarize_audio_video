{
 "cells": [
  {
   "cell_type": "markdown",
   "id": "a3f8c346-4a0d-432d-be6c-097aa7ad6e24",
   "metadata": {
    "tags": []
   },
   "source": [
    "https://gpt-index.readthedocs.io/en/latest/examples/index_structs/doc_summary/DocSummary.html"
   ]
  },
  {
   "cell_type": "code",
   "execution_count": 1,
   "id": "7ee32f39-21d7-4ca2-ae75-6ba7653edf66",
   "metadata": {
    "tags": []
   },
   "outputs": [],
   "source": [
    "import phoenix as px"
   ]
  },
  {
   "cell_type": "code",
   "execution_count": 2,
   "id": "f91931b4-7676-4d8b-9ea0-f07303e8b5e1",
   "metadata": {
    "scrolled": true,
    "tags": []
   },
   "outputs": [
    {
     "name": "stderr",
     "output_type": "stream",
     "text": [
      "ERROR:    [Errno 48] error while attempting to bind on address ('127.0.0.1', 6060): address already in use\n",
      "Traceback (most recent call last):\n",
      "  File \"/Users/saazizi/miniconda3/lib/python3.10/site-packages/uvicorn/server.py\", line 160, in startup\n",
      "    server = await loop.create_server(\n",
      "  File \"uvloop/loop.pyx\", line 1790, in create_server\n",
      "OSError: [Errno 48] error while attempting to bind on address ('127.0.0.1', 6060): address already in use\n",
      "\n",
      "During handling of the above exception, another exception occurred:\n",
      "\n",
      "Traceback (most recent call last):\n",
      "  File \"/Users/saazizi/miniconda3/lib/python3.10/threading.py\", line 1016, in _bootstrap_inner\n",
      "    self.run()\n",
      "  File \"/Users/saazizi/miniconda3/lib/python3.10/threading.py\", line 953, in run\n",
      "    self._target(*self._args, **self._kwargs)\n",
      "  File \"/Users/saazizi/miniconda3/lib/python3.10/site-packages/uvicorn/server.py\", line 61, in run\n",
      "    return asyncio.run(self.serve(sockets=sockets))\n",
      "  File \"/Users/saazizi/miniconda3/lib/python3.10/asyncio/runners.py\", line 44, in run\n",
      "    return loop.run_until_complete(main)\n",
      "  File \"uvloop/loop.pyx\", line 1511, in uvloop.loop.Loop.run_until_complete\n",
      "  File \"uvloop/loop.pyx\", line 1504, in uvloop.loop.Loop.run_until_complete\n",
      "  File \"uvloop/loop.pyx\", line 1377, in uvloop.loop.Loop.run_forever\n",
      "  File \"uvloop/loop.pyx\", line 555, in uvloop.loop.Loop._run\n",
      "  File \"uvloop/loop.pyx\", line 474, in uvloop.loop.Loop._on_idle\n",
      "  File \"uvloop/cbhandles.pyx\", line 83, in uvloop.loop.Handle._run\n",
      "  File \"uvloop/cbhandles.pyx\", line 63, in uvloop.loop.Handle._run\n",
      "  File \"/Users/saazizi/miniconda3/lib/python3.10/site-packages/uvicorn/server.py\", line 78, in serve\n",
      "    await self.startup(sockets=sockets)\n",
      "  File \"/Users/saazizi/miniconda3/lib/python3.10/site-packages/uvicorn/server.py\", line 170, in startup\n",
      "    sys.exit(1)\n",
      "SystemExit: 1\n",
      "💥 Phoenix failed to start. Please try again (making sure that port 6060 is not occupied by another process) or file an issue with us at https://github.com/Arize-ai/phoenix\n"
     ]
    }
   ],
   "source": [
    "session = px.launch_app()"
   ]
  },
  {
   "cell_type": "code",
   "execution_count": 52,
   "id": "d4c7f05b-2ef8-4356-b7c6-98bdd4d554fb",
   "metadata": {
    "tags": []
   },
   "outputs": [],
   "source": [
    "VIDEO_ID = \"transcriptions/youtube_5p248yoa3oE.json\""
   ]
  },
  {
   "cell_type": "code",
   "execution_count": 3,
   "id": "ffe7b28b-9a30-46df-a13f-fb647c1b9b70",
   "metadata": {
    "tags": []
   },
   "outputs": [],
   "source": [
    "import json\n",
    "import os\n",
    "from getpass import getpass\n",
    "from urllib.request import urlopen\n",
    "\n",
    "import openai\n",
    "import pandas as pd\n",
    "import phoenix as px\n",
    "from gcsfs import GCSFileSystem\n",
    "from llama_index import ServiceContext, StorageContext, load_index_from_storage, set_global_handler\n",
    "from llama_index.embeddings import OpenAIEmbedding\n",
    "from llama_index.graph_stores.simple import SimpleGraphStore\n",
    "from llama_index.llms import OpenAI\n",
    "from phoenix.experimental.evals import (\n",
    "    OpenAIModel,\n",
    "    compute_precisions_at_k,\n",
    "    run_relevance_eval,\n",
    ")\n",
    "from tqdm import tqdm\n",
    "\n",
    "pd.set_option(\"display.max_colwidth\", 1000)"
   ]
  },
  {
   "cell_type": "code",
   "execution_count": 4,
   "id": "66a897b7-36fc-482c-8e50-709f0f1cf605",
   "metadata": {
    "tags": []
   },
   "outputs": [],
   "source": [
    "from dotenv import load_dotenv, find_dotenv\n",
    "\n",
    "_ = load_dotenv(find_dotenv())\n"
   ]
  },
  {
   "cell_type": "code",
   "execution_count": 5,
   "id": "dc11527c-04fe-467a-a7e3-9146ce73f65a",
   "metadata": {
    "tags": []
   },
   "outputs": [],
   "source": [
    "set_global_handler(\"arize_phoenix\")"
   ]
  },
  {
   "cell_type": "code",
   "execution_count": 6,
   "id": "060abc21-9542-4007-a663-96d2d7089385",
   "metadata": {
    "tags": []
   },
   "outputs": [],
   "source": [
    "import os\n",
    "import openai"
   ]
  },
  {
   "cell_type": "code",
   "execution_count": 7,
   "id": "ac1cd525-ac3e-4fbe-ad95-361626b3ce73",
   "metadata": {
    "tags": []
   },
   "outputs": [],
   "source": [
    "import logging\n",
    "import sys\n",
    "import json\n",
    "\n",
    "logging.basicConfig(stream=sys.stdout, level=logging.WARNING)\n",
    "logging.getLogger().addHandler(logging.StreamHandler(stream=sys.stdout))"
   ]
  },
  {
   "cell_type": "code",
   "execution_count": 8,
   "id": "1e9d4289-94e7-4235-9682-31de034bd515",
   "metadata": {
    "tags": []
   },
   "outputs": [],
   "source": [
    "import nest_asyncio\n",
    "\n",
    "nest_asyncio.apply()"
   ]
  },
  {
   "cell_type": "code",
   "execution_count": 9,
   "id": "bc177fe4-347d-4405-a49c-831d85838fe9",
   "metadata": {
    "tags": []
   },
   "outputs": [],
   "source": [
    "from llama_index import (\n",
    "    SimpleDirectoryReader,\n",
    "    ServiceContext,\n",
    "    get_response_synthesizer,\n",
    ")\n",
    "from llama_index.indices.document_summary import DocumentSummaryIndex\n",
    "from llama_index.llms import OpenAI\n",
    "from llama_index.schema import Document"
   ]
  },
  {
   "cell_type": "code",
   "execution_count": 10,
   "id": "25e089b3-65fe-404f-b39f-4e4309b460fe",
   "metadata": {
    "scrolled": true,
    "tags": []
   },
   "outputs": [],
   "source": [
    "import json\n",
    "from llama_index import Document\n",
    "\n",
    "def load_json_file_and_extract_text(json_file_path):\n",
    "    \"\"\"Loads a JSON file and extracts the content of the \"text\" key.\n",
    "\n",
    "    Args:\n",
    "    json_file_path: The path to the JSON file.\n",
    "\n",
    "    Returns:\n",
    "    A list of Document objects, containing the extracted content of the \"text\" key.\n",
    "    \"\"\"\n",
    "\n",
    "    documents = []\n",
    "\n",
    "    with open(json_file_path, \"r\") as json_file:\n",
    "        json_data = json.load(json_file)\n",
    "        # return json_data\n",
    "        documents.append(Document(doc_id=json_file_path , text=json_data[\"text\"]))\n",
    "\n",
    "    return documents\n"
   ]
  },
  {
   "cell_type": "code",
   "execution_count": null,
   "id": "64b440a4-ac13-4be4-8361-4bba96ce361c",
   "metadata": {},
   "outputs": [],
   "source": []
  },
  {
   "cell_type": "code",
   "execution_count": 13,
   "id": "0cf65dee-5b1d-43aa-b846-c96971d85c6f",
   "metadata": {
    "scrolled": true,
    "tags": []
   },
   "outputs": [],
   "source": [
    "document = load_json_file_and_extract_text(\"transcriptions/youtube_5p248yoa3oE.json\")"
   ]
  },
  {
   "cell_type": "markdown",
   "id": "700c8064-ac09-437f-a1e1-e3e8817e9e63",
   "metadata": {},
   "source": [
    "# Build Document Summary Index"
   ]
  },
  {
   "cell_type": "code",
   "execution_count": 14,
   "id": "9e5f1615-0d7f-453b-adfc-cc79ef97949d",
   "metadata": {
    "tags": []
   },
   "outputs": [],
   "source": [
    "# LLM (gpt-3.5-turbo)\n",
    "chatgpt = OpenAI(temperature=0, model=\"gpt-3.5-turbo\")\n",
    "service_context = ServiceContext.from_defaults(llm=chatgpt, chunk_size=1024)"
   ]
  },
  {
   "cell_type": "code",
   "execution_count": 15,
   "id": "410fb8f8-24e3-475a-b0f2-8ba98b9f8c6f",
   "metadata": {
    "tags": []
   },
   "outputs": [
    {
     "data": {
      "application/vnd.jupyter.widget-view+json": {
       "model_id": "77e4c4c2adf3465bbff5e1a0dc0b3da5",
       "version_major": 2,
       "version_minor": 0
      },
      "text/plain": [
       "Parsing documents into nodes:   0%|          | 0/1 [00:00<?, ?it/s]"
      ]
     },
     "metadata": {},
     "output_type": "display_data"
    },
    {
     "data": {
      "application/vnd.jupyter.widget-view+json": {
       "model_id": "6107c3708edc46029a4a43c41097e573",
       "version_major": 2,
       "version_minor": 0
      },
      "text/plain": [
       "Summarizing documents:   0%|          | 0/1 [00:00<?, ?it/s]"
      ]
     },
     "metadata": {},
     "output_type": "display_data"
    },
    {
     "name": "stdout",
     "output_type": "stream",
     "text": [
      "current doc id: transcriptions/youtube_5p248yoa3oE.json\n"
     ]
    },
    {
     "data": {
      "application/vnd.jupyter.widget-view+json": {
       "model_id": "64c679996fa34dbb9010893f92b04a87",
       "version_major": 2,
       "version_minor": 0
      },
      "text/plain": [
       "Generating embeddings:   0%|          | 0/1 [00:00<?, ?it/s]"
      ]
     },
     "metadata": {},
     "output_type": "display_data"
    }
   ],
   "source": [
    "# default mode of building the index\n",
    "response_synthesizer = get_response_synthesizer(\n",
    "    response_mode=\"tree_summarize\", use_async=True\n",
    ")\n",
    "doc_summary_index = DocumentSummaryIndex.from_documents(\n",
    "    document,\n",
    "    service_context=service_context,\n",
    "    response_synthesizer=response_synthesizer,\n",
    "    show_progress=True,\n",
    ")\n",
    "query_engine = doc_summary_index.as_query_engine(\n",
    "    response_mode=\"tree_summarize\", use_async=True\n",
    ")"
   ]
  },
  {
   "cell_type": "code",
   "execution_count": 16,
   "id": "5e8fe550-a65b-4cc6-a1a6-2f94c74cc714",
   "metadata": {
    "tags": []
   },
   "outputs": [
    {
     "name": "stdout",
     "output_type": "stream",
     "text": [
      "The provided text is about the topic of artificial intelligence (AI) and its current state, potential growth, and impact on various industries and society as a whole. It discusses the challenges of applying AI outside of the tech and consumer software internet sectors, as well as the trends that are making it easier for businesses in different industries to adopt AI. The text also mentions the author's venture studio, AI Fund, and their approach to building startups in the AI space. It addresses the risks and ethical considerations associated with AI, such as bias and job disruption. Additionally, the text touches on the progress made in reducing bias in AI systems, the potential disruption of jobs due to AI automation, the challenges in achieving artificial general intelligence, and the author's perspective on the risk of AI causing human extinction. Overall, the text emphasizes the opportunities and importance of building concrete use cases for AI.\n",
      "\n",
      "Some questions that this text can answer include:\n",
      "- What are the challenges of applying AI outside of the tech and consumer software internet sectors?\n",
      "- What trends are making it easier for businesses in different industries to adopt AI?\n",
      "- How does AI Fund approach building startups in the AI space?\n",
      "- What are some examples of AI applications in specific industries?\n",
      "- What are the risks and ethical considerations associated with AI technology?\n",
      "- How has bias and fairness in AI systems evolved over a certain period of time?\n",
      "- Which types of jobs are more exposed to AI automation in the current wave of automation?\n",
      "- What are the challenges in achieving artificial general intelligence?\n",
      "- What is the author's perspective on the risk of AI causing human extinction?\n",
      "- What opportunities does AI create for society and what work lies ahead in utilizing AI?\n"
     ]
    }
   ],
   "source": [
    "print(doc_summary_index.get_document_summary(doc_id='transcriptions/youtube_5p248yoa3oE.json'))"
   ]
  },
  {
   "cell_type": "code",
   "execution_count": 17,
   "id": "feca0042-e4f0-45bb-b649-ad43c1541d80",
   "metadata": {},
   "outputs": [],
   "source": [
    "# doc_summary_index.storage_context.persist(\"index\")"
   ]
  },
  {
   "cell_type": "code",
   "execution_count": 18,
   "id": "7b476141-be40-4b13-8053-06b12bb66468",
   "metadata": {
    "tags": []
   },
   "outputs": [],
   "source": [
    "# from llama_index.indices.loading import load_index_from_storage\n",
    "# from llama_index import StorageContext\n",
    "\n",
    "# # rebuild storage context\n",
    "# storage_context = StorageContext.from_defaults(persist_dir=\"index\")\n",
    "# doc_summary_index = load_index_from_storage(storage_context)"
   ]
  },
  {
   "cell_type": "code",
   "execution_count": 20,
   "id": "bdccf19f-d25f-4b72-a991-4fce41a250c8",
   "metadata": {
    "scrolled": true,
    "tags": []
   },
   "outputs": [],
   "source": [
    "\n",
    "def query_summary(query):\n",
    "    response = query_engine.query(query)\n",
    "    return response.response\n",
    "r = query_summary(\"What are the author's thoughts on the risks and benefits of AI for humanity\")\n",
    "r"
   ]
  },
  {
   "cell_type": "markdown",
   "id": "65445fb9-766e-4117-b507-05cebcabac09",
   "metadata": {},
   "source": [
    "# Perform Retrieval from Document Summary Index"
   ]
  },
  {
   "cell_type": "code",
   "execution_count": 23,
   "id": "d6a4934b-3cc6-4970-86b0-c3e85310ffd2",
   "metadata": {
    "tags": []
   },
   "outputs": [],
   "source": [
    "# query_engine = doc_summary_index.as_query_engine(\n",
    "#     response_mode=\"tree_summarize\", use_async=True\n",
    "# )"
   ]
  },
  {
   "cell_type": "code",
   "execution_count": 24,
   "id": "2e922aaf-7cdc-4808-9847-441f126e9928",
   "metadata": {
    "tags": []
   },
   "outputs": [],
   "source": [
    "# response = query_engine.query(\"bias and fairness in AI systems \")\n"
   ]
  },
  {
   "cell_type": "markdown",
   "id": "47154bba-ced0-4f92-b8c0-6d5669ca03d7",
   "metadata": {
    "tags": []
   },
   "source": [
    "# Index Chunks"
   ]
  },
  {
   "cell_type": "code",
   "execution_count": 25,
   "id": "cf2d817c-97bc-40ec-adc0-fd3a2b68cd7c",
   "metadata": {
    "tags": []
   },
   "outputs": [],
   "source": [
    "from llama_index import (\n",
    "    SimpleDirectoryReader,\n",
    "    ServiceContext,\n",
    "    StorageContext,\n",
    "    VectorStoreIndex,\n",
    ")\n",
    "from llama_index.schema import Node, Document\n",
    "from llama_index.indices.document_summary import DocumentSummaryIndex\n"
   ]
  },
  {
   "cell_type": "code",
   "execution_count": 26,
   "id": "c34cb12a-c251-4a0d-8f08-e9299da341c0",
   "metadata": {
    "tags": []
   },
   "outputs": [],
   "source": [
    "def json_file_document(json_file_path):\n",
    "    with open(json_file_path, \"r\") as f:\n",
    "        json_data = json.load(f)\n",
    "    \n",
    "    documents = []\n",
    "    for segment in json_data[\"segments\"]:\n",
    "        text = segment[\"text\"]\n",
    "        start = segment[\"start\"]\n",
    "        metadata = {\"start\": start}\n",
    "        documents.append(Document(text=text,\n",
    "                                 metadata=metadata)\n",
    "                        )\n",
    "    return documents"
   ]
  },
  {
   "cell_type": "code",
   "execution_count": 27,
   "id": "81e0501b-5e62-4aa4-904f-195f286db4b7",
   "metadata": {
    "tags": []
   },
   "outputs": [],
   "source": [
    "docs = json_file_document(VIDEIO_ID)"
   ]
  },
  {
   "cell_type": "code",
   "execution_count": 28,
   "id": "887e0247-f1ec-4b8b-8214-680d9bd99f5f",
   "metadata": {
    "tags": []
   },
   "outputs": [],
   "source": [
    "from llama_index.embeddings import HuggingFaceEmbedding\n",
    "import chromadb\n"
   ]
  },
  {
   "cell_type": "code",
   "execution_count": 29,
   "id": "9325ce38-4d7f-439b-b627-6b422dfcc73e",
   "metadata": {
    "scrolled": true,
    "tags": []
   },
   "outputs": [],
   "source": [
    "# create client and a new collection\n",
    "chroma_client = chromadb.EphemeralClient()\n",
    "try:\n",
    "    chroma_collection = chroma_client.create_collection(\"quickstart\")\n",
    "except:\n",
    "    pass\n",
    "# define embedding function\n",
    "embed_model = HuggingFaceEmbedding(model_name=\"BAAI/bge-base-en-v1.5\")"
   ]
  },
  {
   "cell_type": "code",
   "execution_count": 30,
   "id": "70678b6f-1870-41b9-a284-df827a1ff4f7",
   "metadata": {
    "scrolled": true,
    "tags": []
   },
   "outputs": [
    {
     "data": {
      "text/plain": [
       "[Document(id_='47549895-b45d-4b18-ac68-832ecc802c63', embedding=None, metadata={'start': 4.999999999999998}, excluded_embed_metadata_keys=[], excluded_llm_metadata_keys=[], relationships={}, hash='7b0d5cbaea75ebe4cd88b681e44129bd0181221b1f90613cb5bc7251bcd1268c', text=' It is my pleasure to welcome Dr. Andrew Wu tonight.', start_char_idx=None, end_char_idx=None, text_template='{metadata_str}\\n\\n{content}', metadata_template='{key}: {value}', metadata_seperator='\\n'),\n",
       " Document(id_='0132d366-a292-4a17-bd9a-8a2fb4fb6ee2', embedding=None, metadata={'start': 11.28}, excluded_embed_metadata_keys=[], excluded_llm_metadata_keys=[], relationships={}, hash='75ff31414aef3d654c85fff4f31f4bedadc847b3d1a37445c3c71ab30457e991', text=' Andrew is the managing general partner of AI Fund, founder of Deep Learning AI, and', start_char_idx=None, end_char_idx=None, text_template='{metadata_str}\\n\\n{content}', metadata_template='{key}: {value}', metadata_seperator='\\n'),\n",
       " Document(id_='b1d11082-da71-44d0-a2da-1a5b1b9d5535', embedding=None, metadata={'start': 20.88}, excluded_embed_metadata_keys=[], excluded_llm_metadata_keys=[], relationships={}, hash='3c06e505c7c219e6ac8d6286dff3dbce02f337efb27e2273b02c88a5233e6326', text=' learning and lending AI, chairman and co-founder of Coursera, and an adjunct professor of computer', start_char_idx=None, end_char_idx=None, text_template='{metadata_str}\\n\\n{content}', metadata_template='{key}: {value}', metadata_seperator='\\n'),\n",
       " Document(id_='87934d58-3cd5-4b28-a09c-8547207b0509', embedding=None, metadata={'start': 29.3}, excluded_embed_metadata_keys=[], excluded_llm_metadata_keys=[], relationships={}, hash='6b9d2a3c83364956b0a2dd525a09125f30024d66464ae66296c6f0b72b16a17b', text=' science here at Stanford. Previously he had started and led the Google Brain team, which', start_char_idx=None, end_char_idx=None, text_template='{metadata_str}\\n\\n{content}', metadata_template='{key}: {value}', metadata_seperator='\\n'),\n",
       " Document(id_='3795ced3-108d-4984-b1b0-399433643f65', embedding=None, metadata={'start': 36.9}, excluded_embed_metadata_keys=[], excluded_llm_metadata_keys=[], relationships={}, hash='3dfa906cffc7d885081166d9f016b4dc4cf19e5df5ef65151caf3da6d73b3c1b', text=' had helped Google adopt modern AI, and he was also director of the Stanford AI lab.', start_char_idx=None, end_char_idx=None, text_template='{metadata_str}\\n\\n{content}', metadata_template='{key}: {value}', metadata_seperator='\\n'),\n",
       " Document(id_='3288f7ce-7527-4592-9b3f-c1c37fc81ed8', embedding=None, metadata={'start': 43.28}, excluded_embed_metadata_keys=[], excluded_llm_metadata_keys=[], relationships={}, hash='31d48f48f6070e45393d19d2fca4e0a2a36c61689c9f08b66aedf4831267ce48', text=' About 8 million people, one in 1,000 persons on the planet, have taken an AI class from him,', start_char_idx=None, end_char_idx=None, text_template='{metadata_str}\\n\\n{content}', metadata_template='{key}: {value}', metadata_seperator='\\n'),\n",
       " Document(id_='c71703c7-0cf1-490b-9a09-23c28e46a998', embedding=None, metadata={'start': 52.54}, excluded_embed_metadata_keys=[], excluded_llm_metadata_keys=[], relationships={}, hash='807376dace67dcff4b6ac103ece295a638c98db792606efe26289c18733c40a5', text=\" and through both his education and his AI work, he has changed humor's lives.\", start_char_idx=None, end_char_idx=None, text_template='{metadata_str}\\n\\n{content}', metadata_template='{key}: {value}', metadata_seperator='\\n'),\n",
       " Document(id_='627c53e3-d31d-4131-92f1-4fdf377c8f24', embedding=None, metadata={'start': 58.96}, excluded_embed_metadata_keys=[], excluded_llm_metadata_keys=[], relationships={}, hash='b91e164160b592db383c04b655831cc9f99985ae9dcfc7b48680d782fd3cd6d4', text=' Please welcome Dr. Andrew Wu.', start_char_idx=None, end_char_idx=None, text_template='{metadata_str}\\n\\n{content}', metadata_template='{key}: {value}', metadata_seperator='\\n'),\n",
       " Document(id_='593122bf-cdf6-4bc6-9b37-7a32a8f13749', embedding=None, metadata={'start': 66.48}, excluded_embed_metadata_keys=[], excluded_llm_metadata_keys=[], relationships={}, hash='92d82a3c4a9cc8495ca8988f072958504a0ca3c856895eb932e89ebfc2ccffb4', text=\" Thank you Lisa, it's good to see everyone. So what I want to do today is\", start_char_idx=None, end_char_idx=None, text_template='{metadata_str}\\n\\n{content}', metadata_template='{key}: {value}', metadata_seperator='\\n'),\n",
       " Document(id_='535d9558-cac7-4625-8483-d5886bf98fe7', embedding=None, metadata={'start': 71.28}, excluded_embed_metadata_keys=[], excluded_llm_metadata_keys=[], relationships={}, hash='5e99739605326dc3efb4aecf3d0daab2c8cb37bec21d935c526d2185c509b097', text=\" chat to you about some opportunities in AI. So I've been saying AI is a new electricity.\", start_char_idx=None, end_char_idx=None, text_template='{metadata_str}\\n\\n{content}', metadata_template='{key}: {value}', metadata_seperator='\\n'),\n",
       " Document(id_='e792dfa2-2e6e-47ed-b761-fed2877cdeb3', embedding=None, metadata={'start': 78.42}, excluded_embed_metadata_keys=[], excluded_llm_metadata_keys=[], relationships={}, hash='c5da543dbbbe9653bd6e15b6a21a982f41e9436f5ed7d6f94069db5c64fcb189', text=' One of the difficult things to understand about AI is that it is a general purpose technology,', start_char_idx=None, end_char_idx=None, text_template='{metadata_str}\\n\\n{content}', metadata_template='{key}: {value}', metadata_seperator='\\n'),\n",
       " Document(id_='64ee8ce7-3257-4acf-b734-ead38da9fa33', embedding=None, metadata={'start': 83.72}, excluded_embed_metadata_keys=[], excluded_llm_metadata_keys=[], relationships={}, hash='e9a906db8192e119cb73be42eb07c9fbdb311b4f2601c00738e15cefe82d1bd9', text=\" meaning that it's not useful only for one thing, but it's useful for lots of different applications.\", start_char_idx=None, end_char_idx=None, text_template='{metadata_str}\\n\\n{content}', metadata_template='{key}: {value}', metadata_seperator='\\n'),\n",
       " Document(id_='4a77f9ad-0a45-40a7-a368-cf8bb8929d81', embedding=None, metadata={'start': 88.7}, excluded_embed_metadata_keys=[], excluded_llm_metadata_keys=[], relationships={}, hash='9b1fa146dd53ed5ebda9a4168f1c1299d951d82a7835e7008b84b05b951032d4', text=' Kind of like electricity. If I were to ask you what is electricity good for, you know,', start_char_idx=None, end_char_idx=None, text_template='{metadata_str}\\n\\n{content}', metadata_template='{key}: {value}', metadata_seperator='\\n'),\n",
       " Document(id_='af77b376-3c80-474f-a4ef-2d6b5ade3cf4', embedding=None, metadata={'start': 93.0}, excluded_embed_metadata_keys=[], excluded_llm_metadata_keys=[], relationships={}, hash='1bc71bc5fd143a24cb76ceca562f44389174ee7bf2406dd2e0f5abfcefff006f', text=\" it's not any one thing, it's a lot of things. So what I'd like to do is start off sharing with you,\", start_char_idx=None, end_char_idx=None, text_template='{metadata_str}\\n\\n{content}', metadata_template='{key}: {value}', metadata_seperator='\\n'),\n",
       " Document(id_='a0c58000-f7eb-4d38-8b12-bb1787767008', embedding=None, metadata={'start': 97.4}, excluded_embed_metadata_keys=[], excluded_llm_metadata_keys=[], relationships={}, hash='22d44e03e270275ee6017ab77d07bf8acfe9e52f3ff6ec83ba3a1023cac538d4', text=' high view the technology landscape, and just to lead into the set of opportunities. So a lot of', start_char_idx=None, end_char_idx=None, text_template='{metadata_str}\\n\\n{content}', metadata_template='{key}: {value}', metadata_seperator='\\n'),\n",
       " Document(id_='512b8f14-6430-4723-9354-5c4f2273334a', embedding=None, metadata={'start': 104.44}, excluded_embed_metadata_keys=[], excluded_llm_metadata_keys=[], relationships={}, hash='ab72c3503438e7b6c0c310969115b3bee1400519abac3fb54e142754b01bf51e', text=' hype, a lot of excitement about AI. And I think a good way to think about AI is as a collection of', start_char_idx=None, end_char_idx=None, text_template='{metadata_str}\\n\\n{content}', metadata_template='{key}: {value}', metadata_seperator='\\n'),\n",
       " Document(id_='51afd398-7ebf-4f27-81a5-dd1ab83928a6', embedding=None, metadata={'start': 110.32}, excluded_embed_metadata_keys=[], excluded_llm_metadata_keys=[], relationships={}, hash='42e0532055c6e8b50a9895253ad0c3c64ca2f5ead3b3f4ca3c8009adea20a88a', text=' tools. So this includes a technique called supervised learning, which is very good at recognizing', start_char_idx=None, end_char_idx=None, text_template='{metadata_str}\\n\\n{content}', metadata_template='{key}: {value}', metadata_seperator='\\n'),\n",
       " Document(id_='15ed10a7-bc49-4311-b62a-3b44042151ec', embedding=None, metadata={'start': 115.18}, excluded_embed_metadata_keys=[], excluded_llm_metadata_keys=[], relationships={}, hash='86b7d643c8a78becadf1fe15e1f59fac6e7a1c49ba58fa859de958aeefabd72b', text=' things or labeling things, and genitive AI, which is relatively new, exciting development.', start_char_idx=None, end_char_idx=None, text_template='{metadata_str}\\n\\n{content}', metadata_template='{key}: {value}', metadata_seperator='\\n'),\n",
       " Document(id_='5e6d924d-db1f-4b75-bba5-83cea423ae07', embedding=None, metadata={'start': 120.94}, excluded_embed_metadata_keys=[], excluded_llm_metadata_keys=[], relationships={}, hash='20bc21f2e083e29dea0ff24a3370fdb9a13a94fba7fd1c41ecbee41e25291274', text=\" If you're familiar with AI, you may have heard of other tools, but I'm going to talk less about\", start_char_idx=None, end_char_idx=None, text_template='{metadata_str}\\n\\n{content}', metadata_template='{key}: {value}', metadata_seperator='\\n'),\n",
       " Document(id_='9c953e37-632b-4696-990d-cda17a8b33ba', embedding=None, metadata={'start': 125.64}, excluded_embed_metadata_keys=[], excluded_llm_metadata_keys=[], relationships={}, hash='c9624e53b1feeb48c622c6926a4d7919b114b16856df5072812003401463082f', text=\" these additional tools and I'll focus today on what I think are currently the two most important\", start_char_idx=None, end_char_idx=None, text_template='{metadata_str}\\n\\n{content}', metadata_template='{key}: {value}', metadata_seperator='\\n'),\n",
       " Document(id_='f75dfb04-a381-46c3-ad10-901c465746eb', embedding=None, metadata={'start': 130.42}, excluded_embed_metadata_keys=[], excluded_llm_metadata_keys=[], relationships={}, hash='bd90a95a5f76299bcf97b990d3d28b2b3a65d58fe78370bab3c6a7e7f86320bc', text=' tools which are supervised learning and genitive AI. So supervised learning is very good at labeling', start_char_idx=None, end_char_idx=None, text_template='{metadata_str}\\n\\n{content}', metadata_template='{key}: {value}', metadata_seperator='\\n'),\n",
       " Document(id_='c3314133-82aa-4367-b716-17cddd4d94d2', embedding=None, metadata={'start': 136.5}, excluded_embed_metadata_keys=[], excluded_llm_metadata_keys=[], relationships={}, hash='e92e0b26a006ef01e643f2c3b2f18783d5d54bed75c742c202b0559284c091f0', text=' things or very good at computing input to outputs or A to B mappings given in B A, give me an output B.', start_char_idx=None, end_char_idx=None, text_template='{metadata_str}\\n\\n{content}', metadata_template='{key}: {value}', metadata_seperator='\\n'),\n",
       " Document(id_='ea396c26-184a-4dc0-9b42-de209562b248', embedding=None, metadata={'start': 144.0}, excluded_embed_metadata_keys=[], excluded_llm_metadata_keys=[], relationships={}, hash='0afe149566a28c2f9fe69189de086356c686c5a52a8a5175f46ffb27844162dc', text=' For example, given an email, we can use supervised learning to label a spam or not spam.', start_char_idx=None, end_char_idx=None, text_template='{metadata_str}\\n\\n{content}', metadata_template='{key}: {value}', metadata_seperator='\\n'),\n",
       " Document(id_='a1429066-b182-4e0c-b499-d28839cf30d7', embedding=None, metadata={'start': 150.06}, excluded_embed_metadata_keys=[], excluded_llm_metadata_keys=[], relationships={}, hash='93c6e2e3b6b2432e3d29b4816fcf78318986fb051e7204ff64f7bc8665440523', text=\" The most lucrative application of this that I've ever worked on is probably online advertising,\", start_char_idx=None, end_char_idx=None, text_template='{metadata_str}\\n\\n{content}', metadata_template='{key}: {value}', metadata_seperator='\\n'),\n",
       " Document(id_='1dc61ef8-2c6f-4c47-8056-c7ab28558e3e', embedding=None, metadata={'start': 154.54}, excluded_embed_metadata_keys=[], excluded_llm_metadata_keys=[], relationships={}, hash='aad9e5fc1551156331b3275bebb13c68d273d8106a5fdbd7d66f0df3fcfc8b42', text=' where I give it an ad, we can label the users likely to click on it and therefore show more relevant', start_char_idx=None, end_char_idx=None, text_template='{metadata_str}\\n\\n{content}', metadata_template='{key}: {value}', metadata_seperator='\\n'),\n",
       " Document(id_='7a1a9550-7e20-4dc3-a4e1-2c77589292ce', embedding=None, metadata={'start': 159.56}, excluded_embed_metadata_keys=[], excluded_llm_metadata_keys=[], relationships={}, hash='0c903767dfbf5ca4361d15fd80f99b428420f07af74ccc36c31677f585fd5e04', text=' ads. For self-driving cars, given the sense of readings of a car, we can label it with where the other', start_char_idx=None, end_char_idx=None, text_template='{metadata_str}\\n\\n{content}', metadata_template='{key}: {value}', metadata_seperator='\\n'),\n",
       " Document(id_='bc5d94d3-3775-497c-9b90-41df492ee76f', embedding=None, metadata={'start': 165.04}, excluded_embed_metadata_keys=[], excluded_llm_metadata_keys=[], relationships={}, hash='d586a3bfef1cc43cd3067595e320d36df566dc5d22cfd72c00d032f6f9c0f1b4', text=' cars, one project that my team at AI and worked on was shift route optimization, where given', start_char_idx=None, end_char_idx=None, text_template='{metadata_str}\\n\\n{content}', metadata_template='{key}: {value}', metadata_seperator='\\n'),\n",
       " Document(id_='512d2ced-8c86-46cb-91d9-518fbcb4d7e0', embedding=None, metadata={'start': 169.62}, excluded_embed_metadata_keys=[], excluded_llm_metadata_keys=[], relationships={}, hash='bc56eeccf31efaad41ce1fa440b3fdb3ed8fa67a7c8017c48291c10853d73843', text=' a route to the ship is taking or considering taking, we can label that with how much fuel we think', start_char_idx=None, end_char_idx=None, text_template='{metadata_str}\\n\\n{content}', metadata_template='{key}: {value}', metadata_seperator='\\n'),\n",
       " Document(id_='a367aff3-a19a-4e9f-8c23-c74ab7c78d7a', embedding=None, metadata={'start': 174.96}, excluded_embed_metadata_keys=[], excluded_llm_metadata_keys=[], relationships={}, hash='dcf9dcdcc452ec77d64f7d220c72c0bf0d877c48bcbb527e225b052d2e283a66', text=' does to consume and uses the chips more fuel efficient. Still a lot of work in automated visual', start_char_idx=None, end_char_idx=None, text_template='{metadata_str}\\n\\n{content}', metadata_template='{key}: {value}', metadata_seperator='\\n'),\n",
       " Document(id_='1dbde335-2c86-481a-b0a1-fc3e4b1e16ff', embedding=None, metadata={'start': 181.3}, excluded_embed_metadata_keys=[], excluded_llm_metadata_keys=[], relationships={}, hash='cde6c7b10e998e0c10cb954331b1b72a335a29165ae1ecdcc0b539206bf75384', text=' inspection in factories, so you can take a picture of a smartphone that was just manufactured and', start_char_idx=None, end_char_idx=None, text_template='{metadata_str}\\n\\n{content}', metadata_template='{key}: {value}', metadata_seperator='\\n'),\n",
       " Document(id_='4d036390-6848-4b0c-8d4a-97ace490d926', embedding=None, metadata={'start': 185.64}, excluded_embed_metadata_keys=[], excluded_llm_metadata_keys=[], relationships={}, hash='655d7582210f22cbd8d811b3c5ade5a64accac3cd57278417a5c332ee5168425', text=\" label is a scratch when you're defecting it. Or if you want to build a restaurant review reputation\", start_char_idx=None, end_char_idx=None, text_template='{metadata_str}\\n\\n{content}', metadata_template='{key}: {value}', metadata_seperator='\\n'),\n",
       " Document(id_='7f6129e7-43a9-4bde-b964-d3e3b7c100e3', embedding=None, metadata={'start': 191.34}, excluded_embed_metadata_keys=[], excluded_llm_metadata_keys=[], relationships={}, hash='31aeb9a30ab6838a5966ea963a98360ecd1178daa02133e7cedc2ca0a67190ad', text=' monitoring system, you can have little piece of software that looks at online restaurant reviews', start_char_idx=None, end_char_idx=None, text_template='{metadata_str}\\n\\n{content}', metadata_template='{key}: {value}', metadata_seperator='\\n'),\n",
       " Document(id_='d4804c97-f65c-446b-a06f-94d4307505a7', embedding=None, metadata={'start': 195.7}, excluded_embed_metadata_keys=[], excluded_llm_metadata_keys=[], relationships={}, hash='4b17fbf70082d65934bf1e96084b2e0fb9993477a67074849e5feeeac328be1a', text=' and labels that as positive or negative sentiment. So one nice thing, one cool thing about supervised', start_char_idx=None, end_char_idx=None, text_template='{metadata_str}\\n\\n{content}', metadata_template='{key}: {value}', metadata_seperator='\\n'),\n",
       " Document(id_='2a17489b-fa83-453d-bba2-1fa2eb310b36', embedding=None, metadata={'start': 201.42}, excluded_embed_metadata_keys=[], excluded_llm_metadata_keys=[], relationships={}, hash='449d7a1dd6a0161183151b85cfa78a0ca80b6909202fb96b1de6a0fac5152379', text=\" learning is that it's not useful for one thing, it's useful for all of these different applications\", start_char_idx=None, end_char_idx=None, text_template='{metadata_str}\\n\\n{content}', metadata_template='{key}: {value}', metadata_seperator='\\n'),\n",
       " Document(id_='644cad8f-7dd2-41fa-8831-9930ec7a7de5', embedding=None, metadata={'start': 205.84}, excluded_embed_metadata_keys=[], excluded_llm_metadata_keys=[], relationships={}, hash='2d87333fd90e9ebef91aa7a3ac5373a6c256fd43aab392b08442f271f71e6900', text=' and many more besides. Let me just walk through concretely the workflow of one example of a', start_char_idx=None, end_char_idx=None, text_template='{metadata_str}\\n\\n{content}', metadata_template='{key}: {value}', metadata_seperator='\\n'),\n",
       " Document(id_='ebbd7f1c-c2b6-4354-be72-7879b047a04d', embedding=None, metadata={'start': 212.44}, excluded_embed_metadata_keys=[], excluded_llm_metadata_keys=[], relationships={}, hash='a1b7f8c1ebeac380d0c8baefaad4c0032b2fa8a8af6ba9e97dafa8beeb42b36d', text=' supervised learning labeling things kind of project. If you want to build a system to label', start_char_idx=None, end_char_idx=None, text_template='{metadata_str}\\n\\n{content}', metadata_template='{key}: {value}', metadata_seperator='\\n'),\n",
       " Document(id_='cfa0bc8f-fecd-445b-86b2-90f8b42f4649', embedding=None, metadata={'start': 217.2}, excluded_embed_metadata_keys=[], excluded_llm_metadata_keys=[], relationships={}, hash='fbb51033f63dfebae6d0452a001fc9fce62fc87c05e13f1db240020db99b8d6f', text=\" restaurant reviews, you then collect a few data points, a collective dataset, where it's say\", start_char_idx=None, end_char_idx=None, text_template='{metadata_str}\\n\\n{content}', metadata_template='{key}: {value}', metadata_seperator='\\n'),\n",
       " Document(id_='a67ad421-73e9-4502-a591-f1784c033a91', embedding=None, metadata={'start': 221.72}, excluded_embed_metadata_keys=[], excluded_llm_metadata_keys=[], relationships={}, hash='c70e7c33655554f75c25a71bd5049a087d0b0b1ef28fcc9574d062bd7634b653', text=\" the best time you sandwich great, you say that is positive, several slow, there's negative,\", start_char_idx=None, end_char_idx=None, text_template='{metadata_str}\\n\\n{content}', metadata_template='{key}: {value}', metadata_seperator='\\n'),\n",
       " Document(id_='2f22efe1-437e-4cb7-9340-d62488104bcd', embedding=None, metadata={'start': 227.72}, excluded_embed_metadata_keys=[], excluded_llm_metadata_keys=[], relationships={}, hash='d15dc119543b68c918fa6309f6f98350032ee814ee7899f52832ad2ad48cb38f', text=\" my favorite should be curry, there's positive. And here I've shown three data points, but you're\", start_char_idx=None, end_char_idx=None, text_template='{metadata_str}\\n\\n{content}', metadata_template='{key}: {value}', metadata_seperator='\\n'),\n",
       " Document(id_='64556c1c-f6ce-49b0-aef8-381d97cabaac', embedding=None, metadata={'start': 233.26}, excluded_embed_metadata_keys=[], excluded_llm_metadata_keys=[], relationships={}, hash='bde2479d9bbf2400da1fa194d6ae7e58904cb5f38b5150f2ee8ea167a17e2dbf', text=' building this, you may get thousands of data points like this, thousands of training examples,', start_char_idx=None, end_char_idx=None, text_template='{metadata_str}\\n\\n{content}', metadata_template='{key}: {value}', metadata_seperator='\\n'),\n",
       " Document(id_='c8d84fab-d5c1-4a90-9271-dbe9567102f8', embedding=None, metadata={'start': 237.78}, excluded_embed_metadata_keys=[], excluded_llm_metadata_keys=[], relationships={}, hash='955618dd761bcda42c1730cf65d82c28bb27c6f8a241639821a743230ad5c2d7', text=' we call it. And the workflow of a machine learning project, when AI project is you get labeled data,', start_char_idx=None, end_char_idx=None, text_template='{metadata_str}\\n\\n{content}', metadata_template='{key}: {value}', metadata_seperator='\\n'),\n",
       " Document(id_='c202e40c-0965-4a0d-8161-fac859ccb4be', embedding=None, metadata={'start': 243.58}, excluded_embed_metadata_keys=[], excluded_llm_metadata_keys=[], relationships={}, hash='d20f569b4d0cafba645710f3a7bff93d44fe2a8953bf385109012cb22cdfdb37', text=' maybe thousands of data points, then you have an AI entry team train an AI model to learn from', start_char_idx=None, end_char_idx=None, text_template='{metadata_str}\\n\\n{content}', metadata_template='{key}: {value}', metadata_seperator='\\n'),\n",
       " Document(id_='abe92164-b515-4c2a-bd65-2879ee74a17c', embedding=None, metadata={'start': 249.66}, excluded_embed_metadata_keys=[], excluded_llm_metadata_keys=[], relationships={}, hash='5bf4442c9cfb0f81529481dfd7bbf9c54d6995d8aa54a60eb329664e7f6c82e3', text=' this data. And then finally, you would find maybe a cloud service to run the trained AI model,', start_char_idx=None, end_char_idx=None, text_template='{metadata_str}\\n\\n{content}', metadata_template='{key}: {value}', metadata_seperator='\\n'),\n",
       " Document(id_='bcc72d8d-f42c-4723-ae65-b68c6c5ca25d', embedding=None, metadata={'start': 256.08}, excluded_embed_metadata_keys=[], excluded_llm_metadata_keys=[], relationships={}, hash='dbc8906890a43ddfd41a0aa2ee44bdee6ef090db54d5ba1da39c27b5860a8d6a', text=\" and they can feed it, you know, let's both have a hat and that's positive sentiment. And so I\", start_char_idx=None, end_char_idx=None, text_template='{metadata_str}\\n\\n{content}', metadata_template='{key}: {value}', metadata_seperator='\\n'),\n",
       " Document(id_='a5df9f46-f7cd-4f7e-8328-c1bea60141d6', embedding=None, metadata={'start': 261.9}, excluded_embed_metadata_keys=[], excluded_llm_metadata_keys=[], relationships={}, hash='1cf1f08df70b5a27d0e8e8213049fbfbcfbb47b653379feda8537328a84c0f76', text=' think the last decade was maybe the decade of large scale supervised learning. What we found starting', start_char_idx=None, end_char_idx=None, text_template='{metadata_str}\\n\\n{content}', metadata_template='{key}: {value}', metadata_seperator='\\n'),\n",
       " Document(id_='92fd5351-47f2-4ec7-9fe1-8349d22325b9', embedding=None, metadata={'start': 268.08}, excluded_embed_metadata_keys=[], excluded_llm_metadata_keys=[], relationships={}, hash='82f0fa4a2c9e89135786f9d00d0536120e155d2ed775ae19790318be9e77307d', text=' about 10, 15 years ago was if you were to train a small AI model, so train a small neural network,', start_char_idx=None, end_char_idx=None, text_template='{metadata_str}\\n\\n{content}', metadata_template='{key}: {value}', metadata_seperator='\\n'),\n",
       " Document(id_='595cc993-3145-4fc8-823d-c86d4cd40e85', embedding=None, metadata={'start': 273.92}, excluded_embed_metadata_keys=[], excluded_llm_metadata_keys=[], relationships={}, hash='259d97bf271ff39cdf7b7eb13e96911e3bade00b1563496e00f58d537878a6c5', text=' small deep learning algorithm, basically a small AI model, maybe not on a very powerful computer,', start_char_idx=None, end_char_idx=None, text_template='{metadata_str}\\n\\n{content}', metadata_template='{key}: {value}', metadata_seperator='\\n'),\n",
       " Document(id_='7885686b-0fb0-41e8-9353-5fbb98167ea8', embedding=None, metadata={'start': 279.12}, excluded_embed_metadata_keys=[], excluded_llm_metadata_keys=[], relationships={}, hash='5fcfcc38c0be938f17c7ffeea2cb0df47a6ef4bd8677deeacabaef36701f5a96', text=' then as you fed more data, as performance would get better for a little bit, but then it would', start_char_idx=None, end_char_idx=None, text_template='{metadata_str}\\n\\n{content}', metadata_template='{key}: {value}', metadata_seperator='\\n'),\n",
       " Document(id_='82bbb397-e16f-47ae-bb87-b207583ad965', embedding=None, metadata={'start': 283.64}, excluded_embed_metadata_keys=[], excluded_llm_metadata_keys=[], relationships={}, hash='bafdd0408caa1201e5ce35ca6e3aa60fda56a4045305c6a3345c3ffb6ab29af3', text=' flatten out, it would plateau, and it would stop being able to use the data to get better and better.', start_char_idx=None, end_char_idx=None, text_template='{metadata_str}\\n\\n{content}', metadata_template='{key}: {value}', metadata_seperator='\\n'),\n",
       " Document(id_='37b03bf5-fa34-43c3-93e1-f0b7b4c37465', embedding=None, metadata={'start': 289.18}, excluded_embed_metadata_keys=[], excluded_llm_metadata_keys=[], relationships={}, hash='ddcb3defc06438e818ffc75e6edd789c9a75bdead17111ea3fb95085c92be73e', text=' But if you were to train a very large AI model, lots of compute on maybe powerful GPUs,', start_char_idx=None, end_char_idx=None, text_template='{metadata_str}\\n\\n{content}', metadata_template='{key}: {value}', metadata_seperator='\\n'),\n",
       " Document(id_='98dcc538-4ce8-4b5b-8597-26dd2457d8fc', embedding=None, metadata={'start': 295.82}, excluded_embed_metadata_keys=[], excluded_llm_metadata_keys=[], relationships={}, hash='06eb962dbf17fc3293fdd89a6068c375658854fdd13837a727f712dcb527961e', text=' then as we scaled up the amount of data we gave the machine learning model,', start_char_idx=None, end_char_idx=None, text_template='{metadata_str}\\n\\n{content}', metadata_template='{key}: {value}', metadata_seperator='\\n'),\n",
       " Document(id_='bf88569f-4c85-45af-9992-df31fed3684e', embedding=None, metadata={'start': 300.38}, excluded_embed_metadata_keys=[], excluded_llm_metadata_keys=[], relationships={}, hash='ae311cabc8ef9a20789657d82a364d9dfa24211080cf33429140624801a0193f', text=' its performance would kind of keep on getting better and better. So this is why when I started', start_char_idx=None, end_char_idx=None, text_template='{metadata_str}\\n\\n{content}', metadata_template='{key}: {value}', metadata_seperator='\\n'),\n",
       " Document(id_='2f018b37-505a-409d-bb10-a4f0da37468f', embedding=None, metadata={'start': 304.96}, excluded_embed_metadata_keys=[], excluded_llm_metadata_keys=[], relationships={}, hash='e5301ce3e59ab0f4438a6eef8cb0bad2da6be7da485445a2b982185792b0fb09', text=' and led the Google Brain team, the primary mission that I directed the team to solve at the time was,', start_char_idx=None, end_char_idx=None, text_template='{metadata_str}\\n\\n{content}', metadata_template='{key}: {value}', metadata_seperator='\\n'),\n",
       " Document(id_='8f64fe5d-c2b9-49f0-9a53-4ae1483a8b28', embedding=None, metadata={'start': 310.16}, excluded_embed_metadata_keys=[], excluded_llm_metadata_keys=[], relationships={}, hash='96b2b18eb8706be01c0ba082cf2be8f30b926279f195bc7d50eefb757ce23fc0', text=\" let's just build really, really large neural networks that we then fed a lot of data to,\", start_char_idx=None, end_char_idx=None, text_template='{metadata_str}\\n\\n{content}', metadata_template='{key}: {value}', metadata_seperator='\\n'),\n",
       " Document(id_='6cbceb23-b043-4828-bf74-8df268fecad1', embedding=None, metadata={'start': 314.18}, excluded_embed_metadata_keys=[], excluded_llm_metadata_keys=[], relationships={}, hash='23b068cef9bbd0331c03b31ec6cc4557acf7ae4aa4b0c7a5d9b6ec361166c6f9', text=' and that recipe fortunately worked. And I think the idea of driving large compute and', start_char_idx=None, end_char_idx=None, text_template='{metadata_str}\\n\\n{content}', metadata_template='{key}: {value}', metadata_seperator='\\n'),\n",
       " Document(id_='c055bc2c-7da2-4b9e-a34b-c1d9455c8a66', embedding=None, metadata={'start': 319.86}, excluded_embed_metadata_keys=[], excluded_llm_metadata_keys=[], relationships={}, hash='f36d3bf4c6a0a9cd4d141321f80a2cc83646a1b96f393598d12d8143679385a8', text=' large scale of data, that recipes really helped us driven a lot of AI progress over the last decade.', start_char_idx=None, end_char_idx=None, text_template='{metadata_str}\\n\\n{content}', metadata_template='{key}: {value}', metadata_seperator='\\n'),\n",
       " Document(id_='ba588adf-f1c4-4761-a269-38f3b8ca5fb6', embedding=None, metadata={'start': 327.36}, excluded_embed_metadata_keys=[], excluded_llm_metadata_keys=[], relationships={}, hash='8b838909246e4eb876b25ed6614ddd753adfb89f4b181a7c4c3c2dc47f26f1ca', text=' So if that was the last decade of AI, I think this decade is turning out to be also doing', start_char_idx=None, end_char_idx=None, text_template='{metadata_str}\\n\\n{content}', metadata_template='{key}: {value}', metadata_seperator='\\n'),\n",
       " Document(id_='35b343e4-6368-4a5c-84f2-04aaa877c807', embedding=None, metadata={'start': 333.66}, excluded_embed_metadata_keys=[], excluded_llm_metadata_keys=[], relationships={}, hash='8e84babc2f0b82f10c44a525ea7f858ab70f29fc6bfa4837c26bf6ce586a7af4', text=' everything we had in supervised learning, but adding to it, the exciting two of Genes of AI.', start_char_idx=None, end_char_idx=None, text_template='{metadata_str}\\n\\n{content}', metadata_template='{key}: {value}', metadata_seperator='\\n'),\n",
       " Document(id_='5f081949-9eb8-4bac-b139-80140537ac37', embedding=None, metadata={'start': 340.06000000000006}, excluded_embed_metadata_keys=[], excluded_llm_metadata_keys=[], relationships={}, hash='e25a3bf1815ef7a2ec32b2888d645a4ce1687052464b497adc79262acdf349c7', text=' So many of you, maybe all of you, were played with charge GPD and bar and so on, but just', start_char_idx=None, end_char_idx=None, text_template='{metadata_str}\\n\\n{content}', metadata_template='{key}: {value}', metadata_seperator='\\n'),\n",
       " Document(id_='6d32b52b-434b-4940-adfd-d6298ff64053', embedding=None, metadata={'start': 345.2}, excluded_embed_metadata_keys=[], excluded_llm_metadata_keys=[], relationships={}, hash='67e4b90b78103c40902fe8b68e11c7272756677f8cf4a8285ddfb703c9e30c29', text=' you know, given a piece of text, which we call prompt, like I love eating, if you run this multiple', start_char_idx=None, end_char_idx=None, text_template='{metadata_str}\\n\\n{content}', metadata_template='{key}: {value}', metadata_seperator='\\n'),\n",
       " Document(id_='ff4ddf92-41f6-402e-a76f-f87df65ce9a5', embedding=None, metadata={'start': 350.44}, excluded_embed_metadata_keys=[], excluded_llm_metadata_keys=[], relationships={}, hash='80dae8e5eb7de65d2357d2437c034757f1730d8f2a7e25488ab2d130572af95a', text=\" times, maybe you get big old screen keys or my mother's me love or out of friends, and the AI\", start_char_idx=None, end_char_idx=None, text_template='{metadata_str}\\n\\n{content}', metadata_template='{key}: {value}', metadata_seperator='\\n'),\n",
       " Document(id_='aa9a45c2-bbad-426e-9b7d-ac41bb264b89', embedding=None, metadata={'start': 356.0}, excluded_embed_metadata_keys=[], excluded_llm_metadata_keys=[], relationships={}, hash='659ffabede9e2b6074ad55bd7b375bfd63dfabdc7d8979735e02fa5b50127104', text=' system can generate output like that. Given the amounts of buzz and excitement about Genes of AI,', start_char_idx=None, end_char_idx=None, text_template='{metadata_str}\\n\\n{content}', metadata_template='{key}: {value}', metadata_seperator='\\n'),\n",
       " Document(id_='b7fd2eec-0624-46e3-909b-31ae9c55f560', embedding=None, metadata={'start': 361.82}, excluded_embed_metadata_keys=[], excluded_llm_metadata_keys=[], relationships={}, hash='c5610a8de8ff92deaf83ff6369e93405b9d6516e5bf10286423a2e274841659c', text=\" I thought that'd take just half a slide to, you know, say a little bit about how this works.\", start_char_idx=None, end_char_idx=None, text_template='{metadata_str}\\n\\n{content}', metadata_template='{key}: {value}', metadata_seperator='\\n'),\n",
       " Document(id_='08ad600d-14b5-4b4d-8b05-32423d3692b0', embedding=None, metadata={'start': 366.8}, excluded_embed_metadata_keys=[], excluded_llm_metadata_keys=[], relationships={}, hash='e7cf64fab7ee210bf2ebfffa0ee345bcc611016f1bb96e270cb81e487110601f', text=' So it turns out that, Genes of AI, at least this type of text generation, the core of it is', start_char_idx=None, end_char_idx=None, text_template='{metadata_str}\\n\\n{content}', metadata_template='{key}: {value}', metadata_seperator='\\n'),\n",
       " Document(id_='b56a8554-47f3-42c1-8c3a-49862c8c6e2a', embedding=None, metadata={'start': 374.0}, excluded_embed_metadata_keys=[], excluded_llm_metadata_keys=[], relationships={}, hash='9faef898b24c260c75b569a73391d54baead68d42498943cad60e0e2b59e2474', text=' using supervised learning that inputs output mappings to repeatedly predict the next word. And so,', start_char_idx=None, end_char_idx=None, text_template='{metadata_str}\\n\\n{content}', metadata_template='{key}: {value}', metadata_seperator='\\n'),\n",
       " Document(id_='81bfa7eb-7300-432b-81f7-c0365ef07f62', embedding=None, metadata={'start': 380.7}, excluded_embed_metadata_keys=[], excluded_llm_metadata_keys=[], relationships={}, hash='cbc657bd07ef1b0119d47ab3ce64f85edc5a229696bbf457dd6aacbe7e5615d5', text=' if your system reads on the internet to sentence like, my favorite food is a bagel with cream', start_char_idx=None, end_char_idx=None, text_template='{metadata_str}\\n\\n{content}', metadata_template='{key}: {value}', metadata_seperator='\\n'),\n",
       " Document(id_='77b40d2b-f12c-4413-8fd7-9789b90bea3c', embedding=None, metadata={'start': 385.44}, excluded_embed_metadata_keys=[], excluded_llm_metadata_keys=[], relationships={}, hash='417cf59914451f47c05874ac22dd25e3f7bc34088ab2e69f2499542cb48683b9', text=' cheese and locks, then this is translated into a few data points where if it sees my favorite food', start_char_idx=None, end_char_idx=None, text_template='{metadata_str}\\n\\n{content}', metadata_template='{key}: {value}', metadata_seperator='\\n'),\n",
       " Document(id_='5bd0230d-653a-4360-bb47-5c7ee667dd12', embedding=None, metadata={'start': 392.32}, excluded_embed_metadata_keys=[], excluded_llm_metadata_keys=[], relationships={}, hash='5230c2b1c1ea900c8a7e510c35ad558dea45a24b2c8bc5e14c22b72bceb723ec', text=' is a, in this case, try to guess that the right next word was bagel or my favorite food is a bagel,', start_char_idx=None, end_char_idx=None, text_template='{metadata_str}\\n\\n{content}', metadata_template='{key}: {value}', metadata_seperator='\\n'),\n",
       " Document(id_='ff2bf638-2a6c-4ea7-9c23-7bdebe518857', embedding=None, metadata={'start': 399.64}, excluded_embed_metadata_keys=[], excluded_llm_metadata_keys=[], relationships={}, hash='80bd25fe6242ef9a2ade241a7c1d81573f37bf00bdff698480201ce211c47990', text=' try to guess next word is worth. And similarly, if it sees that, you know, in this case, the right', start_char_idx=None, end_char_idx=None, text_template='{metadata_str}\\n\\n{content}', metadata_template='{key}: {value}', metadata_seperator='\\n'),\n",
       " Document(id_='8d9f8607-597d-4633-828f-37d4fe607ddb', embedding=None, metadata={'start': 405.24}, excluded_embed_metadata_keys=[], excluded_llm_metadata_keys=[], relationships={}, hash='dec90795b49af5135d3924ba94a40aa928687c24ab9a3b7e53d5d2bfef4cf3a2', text=' guess for the next word would have been cream. So by taking text that you find on the internet or', start_char_idx=None, end_char_idx=None, text_template='{metadata_str}\\n\\n{content}', metadata_template='{key}: {value}', metadata_seperator='\\n'),\n",
       " Document(id_='df131e8e-bb36-48c4-978a-293f39e984cf', embedding=None, metadata={'start': 411.18}, excluded_embed_metadata_keys=[], excluded_llm_metadata_keys=[], relationships={}, hash='727b3f46efed85b000ea81f6a6277f84fa303596b8606b2945f4dc8a6316c15c', text=' other sources and by using this input output, supervised learning to try to repeatedly predict', start_char_idx=None, end_char_idx=None, text_template='{metadata_str}\\n\\n{content}', metadata_template='{key}: {value}', metadata_seperator='\\n'),\n",
       " Document(id_='94cb9f49-e0d8-44be-9885-a257039327f4', embedding=None, metadata={'start': 416.66}, excluded_embed_metadata_keys=[], excluded_llm_metadata_keys=[], relationships={}, hash='c6ef874adf852ced7c713baa78fb7b15d9995f5287fc93b850b769773b7fd13a', text=' if you train a very large AI system on hundreds of billions of words, or in the case of the largest', start_char_idx=None, end_char_idx=None, text_template='{metadata_str}\\n\\n{content}', metadata_template='{key}: {value}', metadata_seperator='\\n'),\n",
       " Document(id_='3c6058e9-bb0d-433a-bf7b-d59708d98aa9', embedding=None, metadata={'start': 423.22}, excluded_embed_metadata_keys=[], excluded_llm_metadata_keys=[], relationships={}, hash='067459bea08cec4c2513b36efa37bc32c47a220e90a54703271ca7db3824f482', text=' models, now more than a trillion words, then you get a large language model like chat GP. And,', start_char_idx=None, end_char_idx=None, text_template='{metadata_str}\\n\\n{content}', metadata_template='{key}: {value}', metadata_seperator='\\n'),\n",
       " Document(id_='057a7c74-3a66-49cb-b769-83102d767f2a', embedding=None, metadata={'start': 429.12}, excluded_embed_metadata_keys=[], excluded_llm_metadata_keys=[], relationships={}, hash='917d82a544ae5fb8c4a9c75338f56f5f412bd1a9563eb6beb5c8228a836c1762', text=' you know, there are additional other important technical details I talked about predicting the', start_char_idx=None, end_char_idx=None, text_template='{metadata_str}\\n\\n{content}', metadata_template='{key}: {value}', metadata_seperator='\\n'),\n",
       " Document(id_='2644f2bc-8aee-4cd4-a0e4-a452cc9aec8f', embedding=None, metadata={'start': 433.46}, excluded_embed_metadata_keys=[], excluded_llm_metadata_keys=[], relationships={}, hash='eec31680d49fcfe2b776d33af56e007b55030ae202c1358b06e3b4d48b17dea6', text=' next word. Technically, these systems predict the next subword, a part of work called token,', start_char_idx=None, end_char_idx=None, text_template='{metadata_str}\\n\\n{content}', metadata_template='{key}: {value}', metadata_seperator='\\n'),\n",
       " Document(id_='90f3f6b7-1f92-47f4-a252-93b29d64dec1', embedding=None, metadata={'start': 439.02}, excluded_embed_metadata_keys=[], excluded_llm_metadata_keys=[], relationships={}, hash='6492eb883fb851b0ea2cc4674f7a9cf9463d92f9f7c60e411003d73369cbd64f', text=' and then there are other techniques like RHS for further tuning the AI output to be more', start_char_idx=None, end_char_idx=None, text_template='{metadata_str}\\n\\n{content}', metadata_template='{key}: {value}', metadata_seperator='\\n'),\n",
       " Document(id_='58b70dfe-2f9c-4597-8bb5-b425a244d94d', embedding=None, metadata={'start': 444.7}, excluded_embed_metadata_keys=[], excluded_llm_metadata_keys=[], relationships={}, hash='04f8fe3becf786ca8e71a08706fc2b6a2d8357e07c57695ca205229430cc0357', text=' helpful on this and harmless. But at the heart of it is this using supervised learning to', start_char_idx=None, end_char_idx=None, text_template='{metadata_str}\\n\\n{content}', metadata_template='{key}: {value}', metadata_seperator='\\n'),\n",
       " Document(id_='c5ea10ff-9ef6-4288-9bc5-6802cc945818', embedding=None, metadata={'start': 450.74}, excluded_embed_metadata_keys=[], excluded_llm_metadata_keys=[], relationships={}, hash='46821bd633ec331b13ec4441778466f074c957c3e1b97229f644495cdd6f4608', text=' repeatedly predict the next word that that really was enabling the exciting, you know, really fantastic', start_char_idx=None, end_char_idx=None, text_template='{metadata_str}\\n\\n{content}', metadata_template='{key}: {value}', metadata_seperator='\\n'),\n",
       " Document(id_='0da31d29-0be0-45ec-941a-2206c86e2d2b', embedding=None, metadata={'start': 456.76}, excluded_embed_metadata_keys=[], excluded_llm_metadata_keys=[], relationships={}, hash='7217ecddcc6f15b001241f5edcea4ef42a46d7de238b5a75c307eea0a20d5f55', text=' progress on large language models. So while many people have seen large language models as a', start_char_idx=None, end_char_idx=None, text_template='{metadata_str}\\n\\n{content}', metadata_template='{key}: {value}', metadata_seperator='\\n'),\n",
       " Document(id_='937f6655-8d91-4a32-b86d-c352fc69a710', embedding=None, metadata={'start': 466.44}, excluded_embed_metadata_keys=[], excluded_llm_metadata_keys=[], relationships={}, hash='4b01a61b9019674ad3756ff2f3cf8836891f830ed60fac1dcd8497a639c760f2', text=\" fantastic consumer too, you can go to a website like chat GP's website or BODs or other large\", start_char_idx=None, end_char_idx=None, text_template='{metadata_str}\\n\\n{content}', metadata_template='{key}: {value}', metadata_seperator='\\n'),\n",
       " Document(id_='26177c2e-e475-454e-9cae-dddfbfece2e4', embedding=None, metadata={'start': 472.54}, excluded_embed_metadata_keys=[], excluded_llm_metadata_keys=[], relationships={}, hash='606a16cf0f0b4b8e64e1cf4df938ca2f530d0fa4f82df9b2dc41a059ed406e91', text=\" language models and use it. I think it's fantastic too. There's one of the trends I think is\", start_char_idx=None, end_char_idx=None, text_template='{metadata_str}\\n\\n{content}', metadata_template='{key}: {value}', metadata_seperator='\\n'),\n",
       " Document(id_='0d68ce13-a197-4707-ad2b-48e4c2bed9df', embedding=None, metadata={'start': 476.1}, excluded_embed_metadata_keys=[], excluded_llm_metadata_keys=[], relationships={}, hash='abd7722581c192ab510c2bf7858ffd3c994096b1adae43bbd621f9ee2bdfc9d0', text=' still underappreciated, which is the power of large language models, not as it can, not as it,', start_char_idx=None, end_char_idx=None, text_template='{metadata_str}\\n\\n{content}', metadata_template='{key}: {value}', metadata_seperator='\\n'),\n",
       " Document(id_='43878bf9-3184-4f69-b431-0248f1afe10f', embedding=None, metadata={'start': 482.6}, excluded_embed_metadata_keys=[], excluded_llm_metadata_keys=[], relationships={}, hash='0af97f85a86f5b9181c0580030653213293013b62e91ebb2075f12942e1479c8', text=' not just as consumer too, but as it develop it too. So it turns out that there are applications that', start_char_idx=None, end_char_idx=None, text_template='{metadata_str}\\n\\n{content}', metadata_template='{key}: {value}', metadata_seperator='\\n'),\n",
       " Document(id_='132713b6-d74d-41cc-a7c8-e942fd314f6f', embedding=None, metadata={'start': 489.82}, excluded_embed_metadata_keys=[], excluded_llm_metadata_keys=[], relationships={}, hash='aa2e36f7eb6c9b2b2aa747ba3953a205ce6af71db4afe05b8ec87daf3049d202', text=' used to take me months to build that a lot of people can now build much faster by using a large', start_char_idx=None, end_char_idx=None, text_template='{metadata_str}\\n\\n{content}', metadata_template='{key}: {value}', metadata_seperator='\\n'),\n",
       " Document(id_='8521eb9b-beeb-4306-a309-6ac92d62f399', embedding=None, metadata={'start': 497.18}, excluded_embed_metadata_keys=[], excluded_llm_metadata_keys=[], relationships={}, hash='1896fc0deae56e020debdd1bc746cfcdaa91e1890fa8150f1538237d866ff604', text=' language model. So specifically, the work though for supervised learning, building the restaurant', start_char_idx=None, end_char_idx=None, text_template='{metadata_str}\\n\\n{content}', metadata_template='{key}: {value}', metadata_seperator='\\n'),\n",
       " Document(id_='16c1e3ef-a1a8-4aa0-a826-0d38e02b7dbe', embedding=None, metadata={'start': 502.12}, excluded_embed_metadata_keys=[], excluded_llm_metadata_keys=[], relationships={}, hash='cddfd713e9e429eff44c7c87164f994ff6f92bdd9d2c1fe91e061c4959775d55', text=' review system would be that you need to get a bunch of label data and maybe that takes a month', start_char_idx=None, end_char_idx=None, text_template='{metadata_str}\\n\\n{content}', metadata_template='{key}: {value}', metadata_seperator='\\n'),\n",
       " Document(id_='ed4688d1-c455-4a5c-a0ea-802a9dbaf695', embedding=None, metadata={'start': 508.28}, excluded_embed_metadata_keys=[], excluded_llm_metadata_keys=[], relationships={}, hash='33a45f68212a9acef584c73d9a4e443524abebb16fbf1517aaa89ecd19d77c5c', text=' to get a few thousand data points. And then have an AI team train and tune and really get optimized', start_char_idx=None, end_char_idx=None, text_template='{metadata_str}\\n\\n{content}', metadata_template='{key}: {value}', metadata_seperator='\\n'),\n",
       " Document(id_='3b528d83-d5c5-4e16-8340-7e657f999e75', embedding=None, metadata={'start': 515.2}, excluded_embed_metadata_keys=[], excluded_llm_metadata_keys=[], relationships={}, hash='9b690b8625d2f01c2adfa76a7d82dd6d460ccc278d74256e5111066e0ddc9983', text=\" performance on your AI model, maybe that'll take three months. Then find a cloud service to run it,\", start_char_idx=None, end_char_idx=None, text_template='{metadata_str}\\n\\n{content}', metadata_template='{key}: {value}', metadata_seperator='\\n'),\n",
       " Document(id_='d8c61ca9-d7d3-4015-86d0-1000ff25e632', embedding=None, metadata={'start': 522.18}, excluded_embed_metadata_keys=[], excluded_llm_metadata_keys=[], relationships={}, hash='6161d376001fb436783fe1ae790a8ff57c76df6ebdf6d4fb8171648f36298b4c', text=\" make sure it's running robustly, make sure it's recognized, maybe that'll take another three\", start_char_idx=None, end_char_idx=None, text_template='{metadata_str}\\n\\n{content}', metadata_template='{key}: {value}', metadata_seperator='\\n'),\n",
       " Document(id_='2731a8ae-29e0-4f8c-9323-173b9692149e', embedding=None, metadata={'start': 525.9}, excluded_embed_metadata_keys=[], excluded_llm_metadata_keys=[], relationships={}, hash='fd287c9132f1c31f05df4cff79da998dae92e039386adf81a460ec3308cfaf28', text=' months. So a pretty realistic timeline for building a commercial great machine learning system', start_char_idx=None, end_char_idx=None, text_template='{metadata_str}\\n\\n{content}', metadata_template='{key}: {value}', metadata_seperator='\\n'),\n",
       " Document(id_='c48e9b81-edb1-4d5e-a331-efb4d8e7af42', embedding=None, metadata={'start': 531.58}, excluded_embed_metadata_keys=[], excluded_llm_metadata_keys=[], relationships={}, hash='1d95bd7bd15b8b559b6082b951a7badfd5b780be689cec3247f2fbe9220a9e8c', text=\" is like six to 12 months. So teams I've led will often talk roughly six to 12 months to build and\", start_char_idx=None, end_char_idx=None, text_template='{metadata_str}\\n\\n{content}', metadata_template='{key}: {value}', metadata_seperator='\\n'),\n",
       " Document(id_='d03d763d-121f-4919-9004-7e0b38453444', embedding=None, metadata={'start': 538.22}, excluded_embed_metadata_keys=[], excluded_llm_metadata_keys=[], relationships={}, hash='cedccf16000896b5e11c77a19d10b03254c467a6d2f78b7ef99527e8afe8d3fc', text=' deploy these systems and some of them turned out to be really valuable, but this is a realistic', start_char_idx=None, end_char_idx=None, text_template='{metadata_str}\\n\\n{content}', metadata_template='{key}: {value}', metadata_seperator='\\n'),\n",
       " Document(id_='6854fdaf-c4e2-43eb-bcaa-a4a4025ad96b', embedding=None, metadata={'start': 543.36}, excluded_embed_metadata_keys=[], excluded_llm_metadata_keys=[], relationships={}, hash='dd61cd147b6e630aaa69b0b0b06b99e92f350c6f3a753d61877c9c4c4c949c01', text=' timeline for building and deploying a commercial great AI system. In contrast, with prompt-based AI,', start_char_idx=None, end_char_idx=None, text_template='{metadata_str}\\n\\n{content}', metadata_template='{key}: {value}', metadata_seperator='\\n'),\n",
       " Document(id_='addcf30e-6a69-4cbe-94c8-039e17d769c9', embedding=None, metadata={'start': 550.36}, excluded_embed_metadata_keys=[], excluded_llm_metadata_keys=[], relationships={}, hash='025a71cbf65a2d8155a721e9698d308b6256f3a384ca075b9f7bc7c61f49162e', text=' where you write a prompt, this is what the workflow looks like. You can specify a prompt that takes', start_char_idx=None, end_char_idx=None, text_template='{metadata_str}\\n\\n{content}', metadata_template='{key}: {value}', metadata_seperator='\\n'),\n",
       " Document(id_='d9f5dba3-1b2a-42b8-92c4-7c79fa299595', embedding=None, metadata={'start': 556.22}, excluded_embed_metadata_keys=[], excluded_llm_metadata_keys=[], relationships={}, hash='a6ba71d10d28dc7887a3831f129d38caf1abdd96e221a746d1b8a7e603388cc2', text=' maybe minutes or hours and then you can deploy it to the cloud and that takes maybe hours or days.', start_char_idx=None, end_char_idx=None, text_template='{metadata_str}\\n\\n{content}', metadata_template='{key}: {value}', metadata_seperator='\\n'),\n",
       " Document(id_='394fbe19-642e-4cae-9551-78f93059941e', embedding=None, metadata={'start': 563.16}, excluded_embed_metadata_keys=[], excluded_llm_metadata_keys=[], relationships={}, hash='7032cd972035c48e7dd1a9dba70bf969c045ed8e9dd39ee71f5ad39b2e452e86', text=' So there are now certain AI applications that used to take me literally six months, maybe a year', start_char_idx=None, end_char_idx=None, text_template='{metadata_str}\\n\\n{content}', metadata_template='{key}: {value}', metadata_seperator='\\n'),\n",
       " Document(id_='ff3cbaf5-6362-4903-91ea-727a397c9f26', embedding=None, metadata={'start': 569.92}, excluded_embed_metadata_keys=[], excluded_llm_metadata_keys=[], relationships={}, hash='23522e6e2fd848b0080b526bad12a02726d063f4b615553c2b4687eee8a6b6ec', text=' to build that many teams around the world can now build in maybe a week. And I think this is already', start_char_idx=None, end_char_idx=None, text_template='{metadata_str}\\n\\n{content}', metadata_template='{key}: {value}', metadata_seperator='\\n'),\n",
       " Document(id_='2bbeccbf-5d6c-4dc6-a7df-7c113262df3d', embedding=None, metadata={'start': 576.04}, excluded_embed_metadata_keys=[], excluded_llm_metadata_keys=[], relationships={}, hash='a199dacadf306f3f4bc1ad0871592023f4f8950b429885791bc2d0b786824506', text=' starting, but the best is still yet to come. This is starting to open up a flood of a lot more AI', start_char_idx=None, end_char_idx=None, text_template='{metadata_str}\\n\\n{content}', metadata_template='{key}: {value}', metadata_seperator='\\n'),\n",
       " Document(id_='dfea4563-ef58-4bb8-93dd-2a45118fdf8f', embedding=None, metadata={'start': 582.02}, excluded_embed_metadata_keys=[], excluded_llm_metadata_keys=[], relationships={}, hash='5c0958b1e427804755029a3d7cecef4b053a95c5ce53de939a128880808375ac', text=' applications that can be built by a lot of people. So I think many people still underestimate the', start_char_idx=None, end_char_idx=None, text_template='{metadata_str}\\n\\n{content}', metadata_template='{key}: {value}', metadata_seperator='\\n'),\n",
       " Document(id_='2de3e2ad-0cdc-4e06-93d5-2f4b8c789b62', embedding=None, metadata={'start': 586.66}, excluded_embed_metadata_keys=[], excluded_llm_metadata_keys=[], relationships={}, hash='fe7b67d6cda4bf6d00bc42a4d20a74ec494331f3778433c9e2f5f2a49b108f6c', text=' magnitude of the flood of custom AI applications that I think is going to come down the pipe.', start_char_idx=None, end_char_idx=None, text_template='{metadata_str}\\n\\n{content}', metadata_template='{key}: {value}', metadata_seperator='\\n'),\n",
       " Document(id_='1e91b145-3b73-4d29-8322-910c76d239da', embedding=None, metadata={'start': 592.7799999999999}, excluded_embed_metadata_keys=[], excluded_llm_metadata_keys=[], relationships={}, hash='cb2d41f6f54df54f15c1604df32d0989c83509b8ceaa0795d244fd07c6ad1469', text=' Now I know you probably were not expecting me to write code in this presentation,', start_char_idx=None, end_char_idx=None, text_template='{metadata_str}\\n\\n{content}', metadata_template='{key}: {value}', metadata_seperator='\\n'),\n",
       " Document(id_='8cf62cbe-23cf-4441-b84c-1d0976e20252', embedding=None, metadata={'start': 598.6199999999999}, excluded_embed_metadata_keys=[], excluded_llm_metadata_keys=[], relationships={}, hash='fba207bd32a194c0cd3c871b4ce91d5cab058afd54fa9f51a0c2f8d167ffc305', text=\" but that's what I'm going to do. So it turns out this is all the code I need\", start_char_idx=None, end_char_idx=None, text_template='{metadata_str}\\n\\n{content}', metadata_template='{key}: {value}', metadata_seperator='\\n'),\n",
       " Document(id_='9d050094-fe78-4966-9da6-81627a71e514', embedding=None, metadata={'start': 606.7}, excluded_embed_metadata_keys=[], excluded_llm_metadata_keys=[], relationships={}, hash='ce6a606453cbf577229f07c8b7be981533805492af2e0d347b6c1ffc96f0890a', text=\" in order to write a sentiment classifier. So I'm going to, you know, solve you with no Python,\", start_char_idx=None, end_char_idx=None, text_template='{metadata_str}\\n\\n{content}', metadata_template='{key}: {value}', metadata_seperator='\\n'),\n",
       " Document(id_='421a7bdd-d353-4ef4-b274-29dbf4b8ecfe', embedding=None, metadata={'start': 612.46}, excluded_embed_metadata_keys=[], excluded_llm_metadata_keys=[], relationships={}, hash='79b782bd2ecee480a5289e1be889a0ca854937fdadf5afa891c8cd90d560fa02', text=' I guess, import some tools from OpenAI. And then I have this prompt that says,', start_char_idx=None, end_char_idx=None, text_template='{metadata_str}\\n\\n{content}', metadata_template='{key}: {value}', metadata_seperator='\\n'),\n",
       " Document(id_='b6ca6d65-31b2-4a70-9b67-bdf16283c659', embedding=None, metadata={'start': 617.46}, excluded_embed_metadata_keys=[], excluded_llm_metadata_keys=[], relationships={}, hash='e20942bb30c2ceccd8a06e09b6f0ae21b6a593d2799c1e365597b0a3e77c992d', text=' classified detects the low, delimited by three dashes, is having either a positive or negative', start_char_idx=None, end_char_idx=None, text_template='{metadata_str}\\n\\n{content}', metadata_template='{key}: {value}', metadata_seperator='\\n'),\n",
       " Document(id_='90327815-e6d6-40b9-b0f4-47b9e7a3aad7', embedding=None, metadata={'start': 623.06}, excluded_embed_metadata_keys=[], excluded_llm_metadata_keys=[], relationships={}, hash='3075016a73a40d2562cb4ab955412a7a55f0cc3f409c0bed8bf4e82d81bdaa04', text=\" sentiments. I don't know. I'm a fantastic time Stanford GSB.\", start_char_idx=None, end_char_idx=None, text_template='{metadata_str}\\n\\n{content}', metadata_template='{key}: {value}', metadata_seperator='\\n'),\n",
       " Document(id_='7c4d227b-48f9-4dc4-ade2-bce5276d8d9e', embedding=None, metadata={'start': 636.24}, excluded_embed_metadata_keys=[], excluded_llm_metadata_keys=[], relationships={}, hash='b91f556c06e24bce3c271f7bbb79f87597e6087615f3f29fd386bac9c73ac0ea', text=\" I ran to a lot and also made great new friends. So that's my prompt.\", start_char_idx=None, end_char_idx=None, text_template='{metadata_str}\\n\\n{content}', metadata_template='{key}: {value}', metadata_seperator='\\n'),\n",
       " Document(id_='4b8c5ee0-8128-4952-bbd4-d2d210c2aaa7', embedding=None, metadata={'start': 643.22}, excluded_embed_metadata_keys=[], excluded_llm_metadata_keys=[], relationships={}, hash='6104bc052e280adfbe91f237a82b491d9c26b19c328ec68e1ff4504a72380a70', text=\" And now just I run it. And I've never run it before. So I really hope thank goodness we got\", start_char_idx=None, end_char_idx=None, text_template='{metadata_str}\\n\\n{content}', metadata_template='{key}: {value}', metadata_seperator='\\n'),\n",
       " Document(id_='b027b5c6-2a87-424e-9aea-b93e9ac29ca3', embedding=None, metadata={'start': 647.1}, excluded_embed_metadata_keys=[], excluded_llm_metadata_keys=[], relationships={}, hash='5fe59e81d3ff477fc3a2bd2be9a7635c187eca1ab49070eb0b9768ec31c99326', text=' the right answer. And this is literally all the code that takes the build a sentiment classifier.', start_char_idx=None, end_char_idx=None, text_template='{metadata_str}\\n\\n{content}', metadata_template='{key}: {value}', metadata_seperator='\\n'),\n",
       " Document(id_='0bf74f40-abb9-48b4-8e1d-bbeb40dd9809', embedding=None, metadata={'start': 657.48}, excluded_embed_metadata_keys=[], excluded_llm_metadata_keys=[], relationships={}, hash='575930920437852eb455845cd4ec74b483f82d84b5344cd9b93571c77e1ad611', text=' And so today, you know, developers around the world can take literally maybe like 10 minutes to', start_char_idx=None, end_char_idx=None, text_template='{metadata_str}\\n\\n{content}', metadata_template='{key}: {value}', metadata_seperator='\\n'),\n",
       " Document(id_='6e7fb125-fef6-4c55-b6ab-37a3ee02c071', embedding=None, metadata={'start': 662.46}, excluded_embed_metadata_keys=[], excluded_llm_metadata_keys=[], relationships={}, hash='3c23f6c22fc0c4f99c3780a25f1eb8855f3eec228ff3895bc61a9ed76559ca39', text=\" build a system like this. And that's a very exciting development. So one of the things I've been\", start_char_idx=None, end_char_idx=None, text_template='{metadata_str}\\n\\n{content}', metadata_template='{key}: {value}', metadata_seperator='\\n'),\n",
       " Document(id_='379424bf-642d-40f2-8ea8-b1ffdcd15c77', embedding=None, metadata={'start': 676.08}, excluded_embed_metadata_keys=[], excluded_llm_metadata_keys=[], relationships={}, hash='bd7e2c0b6f3b027fc2244446575ca5bdc062e0f9514e118e3dbae66b7e4f9038', text=' working on was trying to teach, you know, online classes about how to use prompting, not just as', start_char_idx=None, end_char_idx=None, text_template='{metadata_str}\\n\\n{content}', metadata_template='{key}: {value}', metadata_seperator='\\n'),\n",
       " Document(id_='e6b8c572-ed40-4aaa-a453-d9a7a966efb9', embedding=None, metadata={'start': 682.88}, excluded_embed_metadata_keys=[], excluded_llm_metadata_keys=[], relationships={}, hash='a3e972e0ca69af2558e0873d763e0add787760d2d536f3f1a50639c2de0dcebd', text=' a consumer tool, but as a developer to. So start off with the technology landscape. Let me now', start_char_idx=None, end_char_idx=None, text_template='{metadata_str}\\n\\n{content}', metadata_template='{key}: {value}', metadata_seperator='\\n'),\n",
       " Document(id_='a176d0cf-980c-498c-bea2-c7d80cb0609e', embedding=None, metadata={'start': 689.88}, excluded_embed_metadata_keys=[], excluded_llm_metadata_keys=[], relationships={}, hash='2f0c2f9842d463b565a6e34f1fdb71e2a44abda4bfc9085ff00d8f798dc030b0', text=' share my thoughts on what are some of the AI opportunities I see. This shows what I think is the', start_char_idx=None, end_char_idx=None, text_template='{metadata_str}\\n\\n{content}', metadata_template='{key}: {value}', metadata_seperator='\\n'),\n",
       " Document(id_='fd0d6e2d-caf8-4723-aa04-ef0e17496411', embedding=None, metadata={'start': 696.98}, excluded_embed_metadata_keys=[], excluded_llm_metadata_keys=[], relationships={}, hash='e95a080b8139d40e617c13a1d2ce279ffcdb09bdf25ee7b5baac847ce76c8f1c', text=\" value of different AI technologies today. I don't talk about three years from now. But the vast\", start_char_idx=None, end_char_idx=None, text_template='{metadata_str}\\n\\n{content}', metadata_template='{key}: {value}', metadata_seperator='\\n'),\n",
       " Document(id_='dee8613b-99d4-426b-974f-6240428c9a47', embedding=None, metadata={'start': 703.5}, excluded_embed_metadata_keys=[], excluded_llm_metadata_keys=[], relationships={}, hash='d5e549ac2496877eb349bad744ff0e55cbbc365b037a30722651cd8aebdc6376', text=' majority of financial value from AI today is I think supervised learning where for a single company', start_char_idx=None, end_char_idx=None, text_template='{metadata_str}\\n\\n{content}', metadata_template='{key}: {value}', metadata_seperator='\\n'),\n",
       " Document(id_='900c4da5-d0d5-49cd-942c-e920b902c170', embedding=None, metadata={'start': 709.76}, excluded_embed_metadata_keys=[], excluded_llm_metadata_keys=[], relationships={}, hash='ca41398c0c84e8a93763a21da8eb94dc9a646a92f325844aa913a1d6b5180ce1', text=' like Google can be worth more than $100 billion a year. And also there are millions of developers', start_char_idx=None, end_char_idx=None, text_template='{metadata_str}\\n\\n{content}', metadata_template='{key}: {value}', metadata_seperator='\\n'),\n",
       " Document(id_='ba4cdf77-0b0d-4d5b-a770-851883a3c48a', embedding=None, metadata={'start': 716.38}, excluded_embed_metadata_keys=[], excluded_llm_metadata_keys=[], relationships={}, hash='40e91e17a35a57ff2ee4e52ec89d0e8bbf79da3cf46bf4627af23ac602f883be', text=\" building supervised learning applications. So it's already massively valuable. And also with\", start_char_idx=None, end_char_idx=None, text_template='{metadata_str}\\n\\n{content}', metadata_template='{key}: {value}', metadata_seperator='\\n'),\n",
       " Document(id_='9aa7c319-18e2-425d-84d1-f6dc47f542fe', embedding=None, metadata={'start': 721.66}, excluded_embed_metadata_keys=[], excluded_llm_metadata_keys=[], relationships={}, hash='af93462c10cf9b7a154afbd84f1e0a85650f4cf5e0535708fa587559a04a367f', text=' tremendous momentum behind it, just because of the sheer effort in, you know, finding applications', start_char_idx=None, end_char_idx=None, text_template='{metadata_str}\\n\\n{content}', metadata_template='{key}: {value}', metadata_seperator='\\n'),\n",
       " Document(id_='7d1015c1-d7e5-4629-be49-4a2e17989a31', embedding=None, metadata={'start': 726.22}, excluded_embed_metadata_keys=[], excluded_llm_metadata_keys=[], relationships={}, hash='6eb9bdfe8eb0346537015af8e99843671921b7911f5a9be47cc278a61c57d7a3', text=' and building applications. And in Genose of AI is the really exciting new entrance, which is much', start_char_idx=None, end_char_idx=None, text_template='{metadata_str}\\n\\n{content}', metadata_template='{key}: {value}', metadata_seperator='\\n'),\n",
       " Document(id_='6661c193-9132-4282-92f2-a90d7cad28b7', embedding=None, metadata={'start': 732.3}, excluded_embed_metadata_keys=[], excluded_llm_metadata_keys=[], relationships={}, hash='06b75c1721bef009875f508883f1cfd0792164ddc80d953042057e1215adea97', text=\" smaller right now. And then there are the other tools that I'm including for completeness. We can,\", start_char_idx=None, end_char_idx=None, text_template='{metadata_str}\\n\\n{content}', metadata_template='{key}: {value}', metadata_seperator='\\n'),\n",
       " Document(id_='c9856b2c-5d6a-458e-89f4-0cbb5417167d', embedding=None, metadata={'start': 737.24}, excluded_embed_metadata_keys=[], excluded_llm_metadata_keys=[], relationships={}, hash='11f222ebc70fd586fe00ef7e0007d5d7e4791915d1957fe7ad6cc46886e04d6a', text=' the size of these circles represent the value today. This is what I think it might grow to in three years.', start_char_idx=None, end_char_idx=None, text_template='{metadata_str}\\n\\n{content}', metadata_template='{key}: {value}', metadata_seperator='\\n'),\n",
       " Document(id_='e97e10dd-e2a3-4116-9dfa-787017fb7499', embedding=None, metadata={'start': 744.54}, excluded_embed_metadata_keys=[], excluded_llm_metadata_keys=[], relationships={}, hash='80b1c3de3000e27aa458a4ad882c3fe1f310bc3a545b95e373b9d2ba2a7c9a20', text=' So supervised learning already really massive may double, say in the next three years, from', start_char_idx=None, end_char_idx=None, text_template='{metadata_str}\\n\\n{content}', metadata_template='{key}: {value}', metadata_seperator='\\n'),\n",
       " Document(id_='0f1d87aa-eafc-46b9-b9b3-53d30b1e8601', embedding=None, metadata={'start': 750.5}, excluded_embed_metadata_keys=[], excluded_llm_metadata_keys=[], relationships={}, hash='3263feab13db333a7e479b77d5310f4bb5fc2deb7d0d82249f3e88ea2c53269d', text=' truly massive to even more massive. And Genose of AI, which is much smaller today, I think will', start_char_idx=None, end_char_idx=None, text_template='{metadata_str}\\n\\n{content}', metadata_template='{key}: {value}', metadata_seperator='\\n'),\n",
       " Document(id_='f5994dff-45e2-470a-b208-473252ca508f', embedding=None, metadata={'start': 756.54}, excluded_embed_metadata_keys=[], excluded_llm_metadata_keys=[], relationships={}, hash='0ff3d0951830f5f974d097e9b2d649c4e7a5e6ca61d5cc34c5afb0b7dec0d5af', text=' much more than double in the next three years because of the number of amount of developer', start_char_idx=None, end_char_idx=None, text_template='{metadata_str}\\n\\n{content}', metadata_template='{key}: {value}', metadata_seperator='\\n'),\n",
       " Document(id_='5c986be9-71a6-48ff-8e5d-e72bce21f37f', embedding=None, metadata={'start': 760.78}, excluded_embed_metadata_keys=[], excluded_llm_metadata_keys=[], relationships={}, hash='042695503011bd2a0b2e0b968bf7be4cbfad9dda4f771f5b095aa5a376dabce5', text=' interest, the amount of venture capital investments, the number of large corporate', start_char_idx=None, end_char_idx=None, text_template='{metadata_str}\\n\\n{content}', metadata_template='{key}: {value}', metadata_seperator='\\n'),\n",
       " Document(id_='02d288da-56e0-421d-9dcb-4347395341e7', embedding=None, metadata={'start': 764.82}, excluded_embed_metadata_keys=[], excluded_llm_metadata_keys=[], relationships={}, hash='32968b4aa91fd47a1289daf45affb3ae10441db5abe99d08e4a066fb39103ff1', text=' exploring applications. And I also just want to point out three years is a very short time horizon.', start_char_idx=None, end_char_idx=None, text_template='{metadata_str}\\n\\n{content}', metadata_template='{key}: {value}', metadata_seperator='\\n'),\n",
       " Document(id_='b7ce52cc-7795-4f02-8a14-f7e701fb281a', embedding=None, metadata={'start': 770.26}, excluded_embed_metadata_keys=[], excluded_llm_metadata_keys=[], relationships={}, hash='7d3bddf7f77f103d28b31eb14c8393610988b921f2cc3211f5b320c340bb1635', text=\" If it continues to compound anything near this rate, then in six years, you know, it'll be\", start_char_idx=None, end_char_idx=None, text_template='{metadata_str}\\n\\n{content}', metadata_template='{key}: {value}', metadata_seperator='\\n'),\n",
       " Document(id_='a7705b37-8ad8-436b-b5d4-ca1bdaad9005', embedding=None, metadata={'start': 774.78}, excluded_embed_metadata_keys=[], excluded_llm_metadata_keys=[], relationships={}, hash='aef3b2efcad80a80fb7574bb6f5386b2f16c17db78afb000743583af57d7899b', text=' even faster larger. But just light shaded region in green or orange, that light shaded region', start_char_idx=None, end_char_idx=None, text_template='{metadata_str}\\n\\n{content}', metadata_template='{key}: {value}', metadata_seperator='\\n'),\n",
       " Document(id_='5b45eeec-8da1-4b5b-af9f-37860d9f1be3', embedding=None, metadata={'start': 781.58}, excluded_embed_metadata_keys=[], excluded_llm_metadata_keys=[], relationships={}, hash='36489a48d75639f29396f25a5ca72db1784d681a5b39007d62795435811b1823', text=' is where the opportunities for either new startups or for large companies in companies to create', start_char_idx=None, end_char_idx=None, text_template='{metadata_str}\\n\\n{content}', metadata_template='{key}: {value}', metadata_seperator='\\n'),\n",
       " Document(id_='9aa7a140-e50b-4f55-b76f-a3fa6e325761', embedding=None, metadata={'start': 787.44}, excluded_embed_metadata_keys=[], excluded_llm_metadata_keys=[], relationships={}, hash='5b24dab3ed161221067c356acf6e0dbfcdeb032803b3c6d3c247c3fb1a06cef2', text=' and to enjoy value capture. But one thing I hope you take away from this slide is that all of these', start_char_idx=None, end_char_idx=None, text_template='{metadata_str}\\n\\n{content}', metadata_template='{key}: {value}', metadata_seperator='\\n'),\n",
       " Document(id_='e453cdb0-de86-4d74-b61c-8c3ccd6f1f6a', embedding=None, metadata={'start': 793.32}, excluded_embed_metadata_keys=[], excluded_llm_metadata_keys=[], relationships={}, hash='8f18660901638950742917ec017a9ff6de38ca1118df84b76186087a258d733e', text=' technologies are general purpose technologies. So in the case of supervised learning, a lot of the work', start_char_idx=None, end_char_idx=None, text_template='{metadata_str}\\n\\n{content}', metadata_template='{key}: {value}', metadata_seperator='\\n'),\n",
       " Document(id_='ec9aded1-ab9e-47db-89cd-17a95b21f284', embedding=None, metadata={'start': 798.92}, excluded_embed_metadata_keys=[], excluded_llm_metadata_keys=[], relationships={}, hash='b0894c6e08ba294099b0d3f3d4e5f0d045edfb598a81dee97c292ad891d3b771', text=\" that had to be done over the last decade, but it's continuing for the next decade, is to identify\", start_char_idx=None, end_char_idx=None, text_template='{metadata_str}\\n\\n{content}', metadata_template='{key}: {value}', metadata_seperator='\\n'),\n",
       " Document(id_='88cd30bd-0a0b-4624-822a-07c042adba80', embedding=None, metadata={'start': 804.4}, excluded_embed_metadata_keys=[], excluded_llm_metadata_keys=[], relationships={}, hash='964d4527666b146180127cd21af14273901801fa7ffcd8c7f3a08cf245c6b3ae', text=' and to execute on the concrete use cases. And that process is also kicking off for Genose of AI.', start_char_idx=None, end_char_idx=None, text_template='{metadata_str}\\n\\n{content}', metadata_template='{key}: {value}', metadata_seperator='\\n'),\n",
       " Document(id_='5c5240ea-436e-45b4-b024-e8382494ef2d', embedding=None, metadata={'start': 812.48}, excluded_embed_metadata_keys=[], excluded_llm_metadata_keys=[], relationships={}, hash='5d0f0df1913603a80eaef003081d0c773dcbbf0e871a1b379304308026091519', text=' So for this part of the presentation, I hope you take away from it that general purpose', start_char_idx=None, end_char_idx=None, text_template='{metadata_str}\\n\\n{content}', metadata_template='{key}: {value}', metadata_seperator='\\n'),\n",
       " Document(id_='4d3a488b-5981-4f72-8f7f-ec0c817eb321', embedding=None, metadata={'start': 816.32}, excluded_embed_metadata_keys=[], excluded_llm_metadata_keys=[], relationships={}, hash='4320438ad031e1853518ea8c8e3455bdbd13f3e3eabfc60cd7acfb7904b45420', text=' technologies are useful for many different tasks. A lot of value remains to be created using', start_char_idx=None, end_char_idx=None, text_template='{metadata_str}\\n\\n{content}', metadata_template='{key}: {value}', metadata_seperator='\\n'),\n",
       " Document(id_='b2210f57-1b67-4766-8748-c8147668e0c7', embedding=None, metadata={'start': 820.44}, excluded_embed_metadata_keys=[], excluded_llm_metadata_keys=[], relationships={}, hash='a240691394fe6e23aec0858f6a98f8858c7fe4768807806926b49a970f1a03eb', text=\" supervised learning. And even though we're nowhere near finishing figure out the exciting use\", start_char_idx=None, end_char_idx=None, text_template='{metadata_str}\\n\\n{content}', metadata_template='{key}: {value}', metadata_seperator='\\n'),\n",
       " Document(id_='8ea69a13-30b7-4839-af04-ecac2b32b8ac', embedding=None, metadata={'start': 825.56}, excluded_embed_metadata_keys=[], excluded_llm_metadata_keys=[], relationships={}, hash='073f6b9b3a35c9d09b71e8a7dfd3407ae0bb0c1d83566d88cd1df5247db4a177', text=\" cases of supervised learning, where there's other fantastic two of Genose of AI, which further\", start_char_idx=None, end_char_idx=None, text_template='{metadata_str}\\n\\n{content}', metadata_template='{key}: {value}', metadata_seperator='\\n'),\n",
       " Document(id_='c307ced5-899e-4bef-b7cc-06ff03da963f', embedding=None, metadata={'start': 831.64}, excluded_embed_metadata_keys=[], excluded_llm_metadata_keys=[], relationships={}, hash='ba42c34ec677997b9d7f8f78875ffb0929c9433147497197bae28c26b613f20c', text=' expands the set of things we can now do using AI. But one caveat, which is that there will be short', start_char_idx=None, end_char_idx=None, text_template='{metadata_str}\\n\\n{content}', metadata_template='{key}: {value}', metadata_seperator='\\n'),\n",
       " Document(id_='8e9e5e0d-08c6-4274-9997-6e2c1a54bba6', embedding=None, metadata={'start': 837.82}, excluded_embed_metadata_keys=[], excluded_llm_metadata_keys=[], relationships={}, hash='8bccf333c13254683014e1275c98021545e3741636f854e898101933cbea2784', text=\" term fads along the way. So I don't know if some of you might remember the app called Lenser.\", start_char_idx=None, end_char_idx=None, text_template='{metadata_str}\\n\\n{content}', metadata_template='{key}: {value}', metadata_seperator='\\n'),\n",
       " Document(id_='5e30a01a-1eae-41bb-9b1b-a561d4d7101e', embedding=None, metadata={'start': 844.88}, excluded_embed_metadata_keys=[], excluded_llm_metadata_keys=[], relationships={}, hash='8d8654874b1d61c48053d75176a56966148729724445063e287e9c8eebafef81', text=' This is the app that will let you upload pictures of yourself and then render a cool picture of', start_char_idx=None, end_char_idx=None, text_template='{metadata_str}\\n\\n{content}', metadata_template='{key}: {value}', metadata_seperator='\\n'),\n",
       " Document(id_='17d4f8f6-19db-4ae0-82da-61114c10ca6c', embedding=None, metadata={'start': 849.78}, excluded_embed_metadata_keys=[], excluded_llm_metadata_keys=[], relationships={}, hash='b8cb2d898311564d849ad0266183a2b2537c2d2c40a311967aa450ae05ce70f8', text=' you as an astronaut or a scientist or something. And it was a good idea and people liked it. And', start_char_idx=None, end_char_idx=None, text_template='{metadata_str}\\n\\n{content}', metadata_template='{key}: {value}', metadata_seperator='\\n'),\n",
       " Document(id_='65ed6b4f-ec8f-43ed-8af7-4828f273a728', embedding=None, metadata={'start': 855.1}, excluded_embed_metadata_keys=[], excluded_llm_metadata_keys=[], relationships={}, hash='ceb93f121a6dbe1794897f33fbe817bf86f40cd081ba1c90b18a5b9f78ab90f6', text=' Zeravius just took off like crazy like that through last December. And then it did that.', start_char_idx=None, end_char_idx=None, text_template='{metadata_str}\\n\\n{content}', metadata_template='{key}: {value}', metadata_seperator='\\n'),\n",
       " Document(id_='00a0f9f9-0ec9-4208-b78a-dd5b77e817d3', embedding=None, metadata={'start': 861.48}, excluded_embed_metadata_keys=[], excluded_llm_metadata_keys=[], relationships={}, hash='a4caeeb6e0b48cb0572bc915d3af93c50c249c112cb0c574ad2f3144de4a3a80', text=\" And that's because Lenser was, it was a good idea. People liked it. But it was a relatively thin\", start_char_idx=None, end_char_idx=None, text_template='{metadata_str}\\n\\n{content}', metadata_template='{key}: {value}', metadata_seperator='\\n'),\n",
       " Document(id_='e2413c75-16b5-4628-ba4f-1b3907bb954b', embedding=None, metadata={'start': 867.8}, excluded_embed_metadata_keys=[], excluded_llm_metadata_keys=[], relationships={}, hash='e88e5a9305eb5e27de641c3b684c5c5808232b86523d06f2b01f523d76def437', text=\" software layer on top of someone else's really powerful APIs. And so even though it was a\", start_char_idx=None, end_char_idx=None, text_template='{metadata_str}\\n\\n{content}', metadata_template='{key}: {value}', metadata_seperator='\\n'),\n",
       " Document(id_='381087ff-3b40-46f3-8dbe-a61316d72f56', embedding=None, metadata={'start': 874.18}, excluded_embed_metadata_keys=[], excluded_llm_metadata_keys=[], relationships={}, hash='d1610bfa3ee94b55a3d167dc481a660346fd0ad5e4fd422b338f2945be7b85e6', text=' useful product, it was in a defensive all-business. And when I, when I think about, you know,', start_char_idx=None, end_char_idx=None, text_template='{metadata_str}\\n\\n{content}', metadata_template='{key}: {value}', metadata_seperator='\\n'),\n",
       " Document(id_='0253da66-a2e0-4c10-9f3e-e93719d3b51a', embedding=None, metadata={'start': 880.84}, excluded_embed_metadata_keys=[], excluded_llm_metadata_keys=[], relationships={}, hash='4873754d372cd068054c264512c2d2499823aa81bae606f3680ed1d8df66d249', text=\" absolute Lenser, I'm actually reminded that when Steve Jobs gave us the iPhone,\", start_char_idx=None, end_char_idx=None, text_template='{metadata_str}\\n\\n{content}', metadata_template='{key}: {value}', metadata_seperator='\\n'),\n",
       " Document(id_='775d6a00-cf10-458e-bd86-97087c450070', embedding=None, metadata={'start': 886.16}, excluded_embed_metadata_keys=[], excluded_llm_metadata_keys=[], relationships={}, hash='7d379d1b88b0f6784da2391512c1908247da932e33fb9e60239d936b7c84a0ea', text=' shortly after, someone wrote an app that I paid $1.199 for to do this, to turn on the LED,', start_char_idx=None, end_char_idx=None, text_template='{metadata_str}\\n\\n{content}', metadata_template='{key}: {value}', metadata_seperator='\\n'),\n",
       " Document(id_='228b31c5-7946-4e60-8478-0c1e72e6fcba', embedding=None, metadata={'start': 894.52}, excluded_embed_metadata_keys=[], excluded_llm_metadata_keys=[], relationships={}, hash='899b3cbf5c460902072124ba85f64a02b026f2fbcbde5154c2cf8e699c76a174', text=' to turn the phone into flashlight. And that was also a good idea to write an app to turn on', start_char_idx=None, end_char_idx=None, text_template='{metadata_str}\\n\\n{content}', metadata_template='{key}: {value}', metadata_seperator='\\n'),\n",
       " Document(id_='716a3c43-0362-4b16-bee7-4f08d1028906', embedding=None, metadata={'start': 900.38}, excluded_embed_metadata_keys=[], excluded_llm_metadata_keys=[], relationships={}, hash='8d3b8a0e1218efad8d3b866c03aa0ec11b1b9c4a899567974d1c5e0c4438f6a8', text=\" the LED light. But it also wasn't a defensible long term. It also didn't create very long term\", start_char_idx=None, end_char_idx=None, text_template='{metadata_str}\\n\\n{content}', metadata_template='{key}: {value}', metadata_seperator='\\n'),\n",
       " Document(id_='974b7a11-7e03-4054-b0ed-922507b3829d', embedding=None, metadata={'start': 905.4}, excluded_embed_metadata_keys=[], excluded_llm_metadata_keys=[], relationships={}, hash='d57be5483a6c584c0a9b2408378f3787c68746e111f4b433fc30c0ea5d5fd7b9', text=' value because it was a easy replicated and underpriced and eventually incorporated into iOS.', start_char_idx=None, end_char_idx=None, text_template='{metadata_str}\\n\\n{content}', metadata_template='{key}: {value}', metadata_seperator='\\n'),\n",
       " Document(id_='c99077c1-5b9b-476e-a406-6e9880a15bf2', embedding=None, metadata={'start': 911.34}, excluded_embed_metadata_keys=[], excluded_llm_metadata_keys=[], relationships={}, hash='61fa90c6d7c90163fe2dc57c7f44e03efbc5ab9d24285df881b5fa6945895f96', text=' But with the rise of iOS, with the rise of iPhone, someone also figured out how to build things', start_char_idx=None, end_char_idx=None, text_template='{metadata_str}\\n\\n{content}', metadata_template='{key}: {value}', metadata_seperator='\\n'),\n",
       " Document(id_='6ac6f367-264d-4b9f-80eb-5b52c81faee8', embedding=None, metadata={'start': 916.9}, excluded_embed_metadata_keys=[], excluded_llm_metadata_keys=[], relationships={}, hash='e77962d7f117d3cd7aac1784fa9b15292150615a42601cbf57907c51dd1512be', text=' like Uber and Airbnb and Tinder, the very long term, very defensible businesses that created,', start_char_idx=None, end_char_idx=None, text_template='{metadata_str}\\n\\n{content}', metadata_template='{key}: {value}', metadata_seperator='\\n'),\n",
       " Document(id_='5afcf73f-b978-412e-91f4-c6a3c63388c5', embedding=None, metadata={'start': 923.3}, excluded_embed_metadata_keys=[], excluded_llm_metadata_keys=[], relationships={}, hash='bc586fb0496f08c9c05fca10f8b14df68f660be6728a7fa84096789543e86310', text=' you know, sustaining value. And I think with the rise of GENTAVI or the rise of new AI tools,', start_char_idx=None, end_char_idx=None, text_template='{metadata_str}\\n\\n{content}', metadata_template='{key}: {value}', metadata_seperator='\\n'),\n",
       " Document(id_='04529f0a-cef3-4fa5-b1eb-d66f2fff0635', embedding=None, metadata={'start': 929.92}, excluded_embed_metadata_keys=[], excluded_llm_metadata_keys=[], relationships={}, hash='72b7d681108b74fa067b1aa7745e391dde38ca106e8eda7d8c44b182756ae621', text=' I think what really, what excites me is the opportunity to create those really deep,', start_char_idx=None, end_char_idx=None, text_template='{metadata_str}\\n\\n{content}', metadata_template='{key}: {value}', metadata_seperator='\\n'),\n",
       " Document(id_='53300d64-2507-4ea0-95ef-6dc4065f4f55', embedding=None, metadata={'start': 935.0}, excluded_embed_metadata_keys=[], excluded_llm_metadata_keys=[], relationships={}, hash='c42e5b439e4b91e1a831ef2a84af87fa04f19311bf898c17d76cd6ec0cd5df44', text=' really hard applications that hopefully can create very long term value.', start_char_idx=None, end_char_idx=None, text_template='{metadata_str}\\n\\n{content}', metadata_template='{key}: {value}', metadata_seperator='\\n'),\n",
       " Document(id_='087e3077-2e81-4a29-91d9-e4330d66ae4d', embedding=None, metadata={'start': 942.16}, excluded_embed_metadata_keys=[], excluded_llm_metadata_keys=[], relationships={}, hash='d63b4b8653faec7780b829b5bc93d518d3b09aae1bd90e2810612fb5bd32b863', text=\" So the first trend I want to share is AI's general purpose technology and a lot of work that\", start_char_idx=None, end_char_idx=None, text_template='{metadata_str}\\n\\n{content}', metadata_template='{key}: {value}', metadata_seperator='\\n'),\n",
       " Document(id_='cea41722-06f2-473d-a30f-892c3858b370', embedding=None, metadata={'start': 946.4}, excluded_embed_metadata_keys=[], excluded_llm_metadata_keys=[], relationships={}, hash='1cd4a3cd249669f6880f0a1d14958151ff3b20a0934f7e32829c6054e6264147', text=' lies ahead of us is to find the very diverse use cases and to build them.', start_char_idx=None, end_char_idx=None, text_template='{metadata_str}\\n\\n{content}', metadata_template='{key}: {value}', metadata_seperator='\\n'),\n",
       " Document(id_='f9488f57-d12e-41f9-a04a-136451da2df2', embedding=None, metadata={'start': 951.58}, excluded_embed_metadata_keys=[], excluded_llm_metadata_keys=[], relationships={}, hash='bc58987f2333901ba27705bb6c335e0d7ce95cfa33c94e775334ce33900ced9c', text=\" There's a second trend I want to share with you, which relates to why AI is in more widely\", start_char_idx=None, end_char_idx=None, text_template='{metadata_str}\\n\\n{content}', metadata_template='{key}: {value}', metadata_seperator='\\n'),\n",
       " Document(id_='433c131e-f1e2-4724-b460-c1288cec7f0d', embedding=None, metadata={'start': 956.18}, excluded_embed_metadata_keys=[], excluded_llm_metadata_keys=[], relationships={}, hash='a39dac9aabc4b0c397257468d1e6710e9a3010357ac96859aaaa276c75786c4d', text=' adopted yet. It feels like a bunch of us have been talking about AI for like 15 years or something.', start_char_idx=None, end_char_idx=None, text_template='{metadata_str}\\n\\n{content}', metadata_template='{key}: {value}', metadata_seperator='\\n'),\n",
       " Document(id_='ee40b6b1-075b-4b61-a92d-8cfb1e2447e4', embedding=None, metadata={'start': 961.22}, excluded_embed_metadata_keys=[], excluded_llm_metadata_keys=[], relationships={}, hash='70a1b942daeb0ca0d39a2c5e1d716d8ce0807ef396cb1bbd219667744349b854', text=' But if you look at where the value of AI is today, a lot of it is still very concentrated in', start_char_idx=None, end_char_idx=None, text_template='{metadata_str}\\n\\n{content}', metadata_template='{key}: {value}', metadata_seperator='\\n'),\n",
       " Document(id_='c4a72f5a-cb83-4370-81a3-21b275fc0578', embedding=None, metadata={'start': 967.06}, excluded_embed_metadata_keys=[], excluded_llm_metadata_keys=[], relationships={}, hash='8a11eb4a247edcb86d2915f81e9af4168924b50f7bd7f1a0c0198a2d8569da5a', text=' consumer software internet. Once you go outside, you know, tech or consumer software internet,', start_char_idx=None, end_char_idx=None, text_template='{metadata_str}\\n\\n{content}', metadata_template='{key}: {value}', metadata_seperator='\\n'),\n",
       " Document(id_='3705c2cc-9c33-4c4e-ac50-4d20cc8ad15f', embedding=None, metadata={'start': 972.04}, excluded_embed_metadata_keys=[], excluded_llm_metadata_keys=[], relationships={}, hash='96981fe540a7eff4a7b7b5fe484ed534fd9ef2b5e081e8125eea09791eebe119', text=\" there's some air adoption but the law feels very early. So why is that? It turns out if you were\", start_char_idx=None, end_char_idx=None, text_template='{metadata_str}\\n\\n{content}', metadata_template='{key}: {value}', metadata_seperator='\\n'),\n",
       " Document(id_='9b6cd245-3b75-4458-9544-9ca2c5b3aaf8', embedding=None, metadata={'start': 979.08}, excluded_embed_metadata_keys=[], excluded_llm_metadata_keys=[], relationships={}, hash='5a8db7180461ee9b6559a44ade6943f9cd424a5f1155d2d6996f922ac91b506d', text=' to take all current and potential AI projects and sort them in decreasing order of value,', start_char_idx=None, end_char_idx=None, text_template='{metadata_str}\\n\\n{content}', metadata_template='{key}: {value}', metadata_seperator='\\n'),\n",
       " Document(id_='8b4c57bf-85ba-4800-b356-11dcf1a83b0e', embedding=None, metadata={'start': 984.8}, excluded_embed_metadata_keys=[], excluded_llm_metadata_keys=[], relationships={}, hash='4cbf76c0833fc841abffe7039e7da58d87906daeab7cf3e39481e40d41a5b067', text=' then to the left of this curve, the head of this curve are the multi billion dollar projects like', start_char_idx=None, end_char_idx=None, text_template='{metadata_str}\\n\\n{content}', metadata_template='{key}: {value}', metadata_seperator='\\n'),\n",
       " Document(id_='3f2ebc38-6caf-4ef7-b271-3c5b72875795', embedding=None, metadata={'start': 990.7}, excluded_embed_metadata_keys=[], excluded_llm_metadata_keys=[], relationships={}, hash='5145df436ad3da05c73123ee6c420eb3538ef7760e1dff37c5a556331675ead2', text=' advertising or web search or for e-commerce, your product recommendations or company', start_char_idx=None, end_char_idx=None, text_template='{metadata_str}\\n\\n{content}', metadata_template='{key}: {value}', metadata_seperator='\\n'),\n",
       " Document(id_='c2013081-10f8-4a03-ad8e-baf241f9add7', embedding=None, metadata={'start': 996.34}, excluded_embed_metadata_keys=[], excluded_llm_metadata_keys=[], relationships={}, hash='c15bfb722307021828a15bf49f7c0bdcd20fdb147d858395e3fdc7cb81d20a43', text=' amazon. And it turns out that about 10, 15 years ago, you know, various of my friends and I,', start_char_idx=None, end_char_idx=None, text_template='{metadata_str}\\n\\n{content}', metadata_template='{key}: {value}', metadata_seperator='\\n'),\n",
       " Document(id_='fbbb067c-8e40-4344-810c-4f94d49fc140', embedding=None, metadata={'start': 1001.62}, excluded_embed_metadata_keys=[], excluded_llm_metadata_keys=[], relationships={}, hash='219443917ccb415997d565fe72639aeaa0a105e6d277e9998ba6236ef9a2fe65', text=' we figured out a recipe for how to hire say a hundred engineers to write one piece of software', start_char_idx=None, end_char_idx=None, text_template='{metadata_str}\\n\\n{content}', metadata_template='{key}: {value}', metadata_seperator='\\n'),\n",
       " Document(id_='50a389e6-0427-41d4-9f1e-ccd62af17999', embedding=None, metadata={'start': 1007.34}, excluded_embed_metadata_keys=[], excluded_llm_metadata_keys=[], relationships={}, hash='6913badd0cb9845351f1c70c28ca5a74bb7443ca1721817e23919c7c919c33f9', text=' to serve more relevant ads and apply that one piece of software to bid end users and generate', start_char_idx=None, end_char_idx=None, text_template='{metadata_str}\\n\\n{content}', metadata_template='{key}: {value}', metadata_seperator='\\n'),\n",
       " Document(id_='acfc2689-7c16-49eb-9af0-22d26ab99534', embedding=None, metadata={'start': 1012.98}, excluded_embed_metadata_keys=[], excluded_llm_metadata_keys=[], relationships={}, hash='f1098d8db19bc6574e1e47b4e81465418fffb81d7b75d0462eb80c96fe4a52da', text=' massive financial values. So that works. But once you go outside, consumer software internet,', start_char_idx=None, end_char_idx=None, text_template='{metadata_str}\\n\\n{content}', metadata_template='{key}: {value}', metadata_seperator='\\n'),\n",
       " Document(id_='bff42113-8eac-4533-8010-b45dccc5d6ca', embedding=None, metadata={'start': 1019.34}, excluded_embed_metadata_keys=[], excluded_llm_metadata_keys=[], relationships={}, hash='793793737818837aacbc0feb34ce062d89960d34bd2745b34877f1f39000edbc', text=' hardly anyone has a hundred million or a billion users that you can write and apply one piece of', start_char_idx=None, end_char_idx=None, text_template='{metadata_str}\\n\\n{content}', metadata_template='{key}: {value}', metadata_seperator='\\n'),\n",
       " Document(id_='4a6d7813-120e-436b-9491-1fb822c6ab06', embedding=None, metadata={'start': 1025.78}, excluded_embed_metadata_keys=[], excluded_llm_metadata_keys=[], relationships={}, hash='c170bcfe51b1df69e1b7e7f3faed7f618f8fcbd24e7dc75db1cb69f54770f778', text=' software to you. So once you go to other industries, as we go from the head of this curve on the left', start_char_idx=None, end_char_idx=None, text_template='{metadata_str}\\n\\n{content}', metadata_template='{key}: {value}', metadata_seperator='\\n'),\n",
       " Document(id_='107624b6-9dcd-4a53-b370-62e27bc7cc43', embedding=None, metadata={'start': 1032.2}, excluded_embed_metadata_keys=[], excluded_llm_metadata_keys=[], relationships={}, hash='8f6b45d3a544751b1b3175aae526a73cb73e4bfcda7799aa67fd9d9b63438fd5', text=\" over to the long tail, these are some of the projects I see and I'm excited about. I was working\", start_char_idx=None, end_char_idx=None, text_template='{metadata_str}\\n\\n{content}', metadata_template='{key}: {value}', metadata_seperator='\\n'),\n",
       " Document(id_='54a24863-a21c-4537-b48f-1803e52307c5', embedding=None, metadata={'start': 1038.16}, excluded_embed_metadata_keys=[], excluded_llm_metadata_keys=[], relationships={}, hash='3db3e9f36d4f8d3d7befb2884e2d99e47d41892df59dc699751b5cfec1429b9b', text=' with a piece of maker that was taking pictures of the pizza they were making because they needed to', start_char_idx=None, end_char_idx=None, text_template='{metadata_str}\\n\\n{content}', metadata_template='{key}: {value}', metadata_seperator='\\n'),\n",
       " Document(id_='f8ab6004-2d17-4447-a71e-ebc6b3503da9', embedding=None, metadata={'start': 1044.98}, excluded_embed_metadata_keys=[], excluded_llm_metadata_keys=[], relationships={}, hash='01b2f283e0a240c81acb47eff1e803cb2626a8126dc6e952a1bbb138c712126c', text=' do things like make sure that the cheese is spread evenly. So this is about a five million dollar project.', start_char_idx=None, end_char_idx=None, text_template='{metadata_str}\\n\\n{content}', metadata_template='{key}: {value}', metadata_seperator='\\n'),\n",
       " Document(id_='107b573c-2d97-4da1-8a9c-8d6d0ac739a5', embedding=None, metadata={'start': 1051.04}, excluded_embed_metadata_keys=[], excluded_llm_metadata_keys=[], relationships={}, hash='d59c5b34d1e3edf5de277d175fa2dc7a4a8ad82dc23baec511fe64f792b462b8', text=' But that recipe of hiring a hundred engineers or dozens of engineers to work on a five million', start_char_idx=None, end_char_idx=None, text_template='{metadata_str}\\n\\n{content}', metadata_template='{key}: {value}', metadata_seperator='\\n'),\n",
       " Document(id_='477ea174-2df9-4387-8219-3b88cbafac99', embedding=None, metadata={'start': 1057.18}, excluded_embed_metadata_keys=[], excluded_llm_metadata_keys=[], relationships={}, hash='30b702caa89a4d3619bf9f37bcc735b4a5eed1bd89b532fd510015726d21fd3f', text=\" dollar project, that doesn't make sense. Or another very example, working with an agricultural company\", start_char_idx=None, end_char_idx=None, text_template='{metadata_str}\\n\\n{content}', metadata_template='{key}: {value}', metadata_seperator='\\n'),\n",
       " Document(id_='e36227d2-7eca-44af-b7dc-d2ca54e2ab69', embedding=None, metadata={'start': 1064.98}, excluded_embed_metadata_keys=[], excluded_llm_metadata_keys=[], relationships={}, hash='3be62aa597d3cea30ab19c35176cf259215d7272c4c98fa68568fd4714a8a172', text=' that, well, then we figured out that we used cameras to find out how tall is the wheat and wheat is', start_char_idx=None, end_char_idx=None, text_template='{metadata_str}\\n\\n{content}', metadata_template='{key}: {value}', metadata_seperator='\\n'),\n",
       " Document(id_='c1e464d9-9c6c-4058-b78d-122d2f210b65', embedding=None, metadata={'start': 1070.42}, excluded_embed_metadata_keys=[], excluded_llm_metadata_keys=[], relationships={}, hash='2c5bd07d3d7abbb2b0fb6f3788a32ca2d5a1d8bcb9bc179d3547526ac729f143', text=' often bento because of the wind or rain or something. And we can chop off the wheat at the right', start_char_idx=None, end_char_idx=None, text_template='{metadata_str}\\n\\n{content}', metadata_template='{key}: {value}', metadata_seperator='\\n'),\n",
       " Document(id_='28510f8e-f759-424c-b882-d2bd0222be43', embedding=None, metadata={'start': 1074.7}, excluded_embed_metadata_keys=[], excluded_llm_metadata_keys=[], relationships={}, hash='72dc6cd631da0a522f5eaa918d922bd2e83c39f0fe0c439dc4601006c5071b34', text=' height. Then that results in more food for the farmer to sell and is also better for the environment.', start_char_idx=None, end_char_idx=None, text_template='{metadata_str}\\n\\n{content}', metadata_template='{key}: {value}', metadata_seperator='\\n'),\n",
       " Document(id_='7c3f8e05-d3a1-4c52-93cc-8423ff0fd20c', embedding=None, metadata={'start': 1080.24}, excluded_embed_metadata_keys=[], excluded_llm_metadata_keys=[], relationships={}, hash='db57266ce6db310c45b66a65e6111bc22616497a3eb04c347d5c9bf8dd176f84', text=' But this is another five million dollar project that that old recipe of having a large group of', start_char_idx=None, end_char_idx=None, text_template='{metadata_str}\\n\\n{content}', metadata_template='{key}: {value}', metadata_seperator='\\n'),\n",
       " Document(id_='e48166f6-6428-4090-be7b-5c65c2def20b', embedding=None, metadata={'start': 1086.16}, excluded_embed_metadata_keys=[], excluded_llm_metadata_keys=[], relationships={}, hash='24d2c841479eae79eb99a2a4e0aadfce18b11c9c27211fa98648b7f7bf344578', text=\" high school engineers to work on this one project that doesn't make sense. And similarly materials\", start_char_idx=None, end_char_idx=None, text_template='{metadata_str}\\n\\n{content}', metadata_template='{key}: {value}', metadata_seperator='\\n'),\n",
       " Document(id_='6eaf2143-34d2-4f47-af03-ab7073a8dc70', embedding=None, metadata={'start': 1091.4}, excluded_embed_metadata_keys=[], excluded_llm_metadata_keys=[], relationships={}, hash='cb53266c6a81ed33e5f171dfb74b03ed3a0ee62dbb75d90a3e5a9f1569f6ea8a', text=' grading, cloth grading, sheet metal grading, many project like this. So whereas to the left in the', start_char_idx=None, end_char_idx=None, text_template='{metadata_str}\\n\\n{content}', metadata_template='{key}: {value}', metadata_seperator='\\n'),\n",
       " Document(id_='a2a4df62-5475-4029-8478-e49dd8ca83eb', embedding=None, metadata={'start': 1097.02}, excluded_embed_metadata_keys=[], excluded_llm_metadata_keys=[], relationships={}, hash='83f5ff0b828b4bcd64613db73d3fbcdb573f5aab338150c5b2f6b8f6658862aa', text=\" head of this curve, there's a small number of, let's say, multi-billion dollar projects. And we\", start_char_idx=None, end_char_idx=None, text_template='{metadata_str}\\n\\n{content}', metadata_template='{key}: {value}', metadata_seperator='\\n'),\n",
       " Document(id_='6dc1eb0c-943e-4d26-8b99-ad13be487326', embedding=None, metadata={'start': 1102.16}, excluded_embed_metadata_keys=[], excluded_llm_metadata_keys=[], relationships={}, hash='428aa03cba8bbe1a5be54f3e46f1a8199ee009035d25acd1c296cfe977513654', text=\" know how to execute those, you know, still ring value. In other industries, I'm seeing a very long\", start_char_idx=None, end_char_idx=None, text_template='{metadata_str}\\n\\n{content}', metadata_template='{key}: {value}', metadata_seperator='\\n'),\n",
       " Document(id_='a5594938-b948-42a8-8fcc-f2ccf105ba2a', embedding=None, metadata={'start': 1107.94}, excluded_embed_metadata_keys=[], excluded_llm_metadata_keys=[], relationships={}, hash='2438bdfbb5d4444dea07cd020eee14adfabb47e8191202d32ca5c43fbe116ab5', text=\" tail of tens of thousands of, let's call them five million dollar projects that until now have been\", start_char_idx=None, end_char_idx=None, text_template='{metadata_str}\\n\\n{content}', metadata_template='{key}: {value}', metadata_seperator='\\n'),\n",
       " Document(id_='e8d56322-3445-4626-82a9-f898fcf64fd9', embedding=None, metadata={'start': 1114.28}, excluded_embed_metadata_keys=[], excluded_llm_metadata_keys=[], relationships={}, hash='7d96dda31606b2e6087f7ff0a1c32e17e394d13afc9558b6e834e1898d55cdb7', text=' very difficult to execute on because of the high cost of customization. The trend that I think', start_char_idx=None, end_char_idx=None, text_template='{metadata_str}\\n\\n{content}', metadata_template='{key}: {value}', metadata_seperator='\\n'),\n",
       " Document(id_='82ddc25f-fd1c-4995-8f56-f72ca947a58e', embedding=None, metadata={'start': 1119.76}, excluded_embed_metadata_keys=[], excluded_llm_metadata_keys=[], relationships={}, hash='15ecd5c98b711602d331c21589cf7318119a53973ba6782d1e889b0450d2132e', text=' is exciting is that the AI community has been building better tools that lets us aggregate these', start_char_idx=None, end_char_idx=None, text_template='{metadata_str}\\n\\n{content}', metadata_template='{key}: {value}', metadata_seperator='\\n'),\n",
       " Document(id_='23eb3749-45bb-4ee6-9b35-213f1712898f', embedding=None, metadata={'start': 1125.62}, excluded_embed_metadata_keys=[], excluded_llm_metadata_keys=[], relationships={}, hash='fb63106eeb9e14b7bd3e0f0ca7f9601734cf13c47a85e0de4707579092ecd32e', text=\" use cases and make it easy for the end user to do the customization. So specifically, I'm seeing a\", start_char_idx=None, end_char_idx=None, text_template='{metadata_str}\\n\\n{content}', metadata_template='{key}: {value}', metadata_seperator='\\n'),\n",
       " Document(id_='248f5860-d969-4d76-ae79-06e0e9a38344', embedding=None, metadata={'start': 1131.7}, excluded_embed_metadata_keys=[], excluded_llm_metadata_keys=[], relationships={}, hash='eedc15f981d241b8c3a35b89f05372bfeec4db6dd9449647629f81507d4b2862', text=' lot of exciting low code and no code tools that enable the user to customize the AI system. What', start_char_idx=None, end_char_idx=None, text_template='{metadata_str}\\n\\n{content}', metadata_template='{key}: {value}', metadata_seperator='\\n'),\n",
       " Document(id_='c6296184-88da-4ee0-91ae-3d4321fd5c55', embedding=None, metadata={'start': 1138.98}, excluded_embed_metadata_keys=[], excluded_llm_metadata_keys=[], relationships={}, hash='bb04251d0a809da213d3e3b185c980aa015322b3fef57dd07161282e838b11a8', text=' does mean is this instead of me needing to worry that much about pictures of pizza, we have tools,', start_char_idx=None, end_char_idx=None, text_template='{metadata_str}\\n\\n{content}', metadata_template='{key}: {value}', metadata_seperator='\\n'),\n",
       " Document(id_='268f9a55-004d-45b7-827a-37ed6a9a10b3', embedding=None, metadata={'start': 1145.36}, excluded_embed_metadata_keys=[], excluded_llm_metadata_keys=[], relationships={}, hash='48f8df5ec8b95474c3b388b011586b612cff57eb65f476800c66a9593ad56274', text=' we can start into C tools that can enable the IT department of the pizza making factory to train', start_char_idx=None, end_char_idx=None, text_template='{metadata_str}\\n\\n{content}', metadata_template='{key}: {value}', metadata_seperator='\\n'),\n",
       " Document(id_='4da69431-f333-4940-92ac-ac81600212db', embedding=None, metadata={'start': 1151.52}, excluded_embed_metadata_keys=[], excluded_llm_metadata_keys=[], relationships={}, hash='e89faf83e92b502707da0a0aee126473186c0fd835f22cff5093ed07395d223c', text=' AI system on their own pictures of pizza to realize this five million dollars worth of value.', start_char_idx=None, end_char_idx=None, text_template='{metadata_str}\\n\\n{content}', metadata_template='{key}: {value}', metadata_seperator='\\n'),\n",
       " Document(id_='c6c2c6ad-5ca8-44c3-b7b4-912a539a56e1', embedding=None, metadata={'start': 1156.7}, excluded_embed_metadata_keys=[], excluded_llm_metadata_keys=[], relationships={}, hash='3eaa64e0b1aa4639f19a27556f59b2575b3d8cdc6355b204eb5163d237e46f84', text=\" And by the way, the pictures of pizza, you know, they don't exist on the internet. So Google and\", start_char_idx=None, end_char_idx=None, text_template='{metadata_str}\\n\\n{content}', metadata_template='{key}: {value}', metadata_seperator='\\n'),\n",
       " Document(id_='d3885f8e-76d3-4d7d-b294-484d1f44070b', embedding=None, metadata={'start': 1161.34}, excluded_embed_metadata_keys=[], excluded_llm_metadata_keys=[], relationships={}, hash='602d456d4c5d234fd041c05eb104e9d2070ce7eb8e935e2c26e9088d2ab80841', text=\" Bing don't have access to these pictures. We need tools that can be used by really the pizza factory\", start_char_idx=None, end_char_idx=None, text_template='{metadata_str}\\n\\n{content}', metadata_template='{key}: {value}', metadata_seperator='\\n'),\n",
       " Document(id_='a23ae3fe-84ce-4b48-9bc3-bdd2d33aae94', embedding=None, metadata={'start': 1166.84}, excluded_embed_metadata_keys=[], excluded_llm_metadata_keys=[], relationships={}, hash='1c31abd3d4767cac952a8c88c26a304c06d6b34c4ef4f492a30114cd09705af6', text=' themselves to build and deploy and maintain their own custom AI system that works on their own', start_char_idx=None, end_char_idx=None, text_template='{metadata_str}\\n\\n{content}', metadata_template='{key}: {value}', metadata_seperator='\\n'),\n",
       " Document(id_='fe812bad-0374-4a65-afb0-b838e784cd57', embedding=None, metadata={'start': 1172.06}, excluded_embed_metadata_keys=[], excluded_llm_metadata_keys=[], relationships={}, hash='9f55bef5943dd01e86602f1a5863a9b604b60a1a171c8d2d7b3f64e0a467184f', text=' pictures of pizza. And broadly, the technology for enabling this, some of it is prompting, text prompting,', start_char_idx=None, end_char_idx=None, text_template='{metadata_str}\\n\\n{content}', metadata_template='{key}: {value}', metadata_seperator='\\n'),\n",
       " Document(id_='ec686f98-7217-40a7-b233-78393b4606c9', embedding=None, metadata={'start': 1181.56}, excluded_embed_metadata_keys=[], excluded_llm_metadata_keys=[], relationships={}, hash='a6eff77db24fd728b565e03cb200d6f12746df73c6948acf43dc98ecfb0a6d81', text=' visual prompting, but really large language models and similar tools like that. Or a technology', start_char_idx=None, end_char_idx=None, text_template='{metadata_str}\\n\\n{content}', metadata_template='{key}: {value}', metadata_seperator='\\n'),\n",
       " Document(id_='715b92e7-4949-4531-9d37-f239ae13aa77', embedding=None, metadata={'start': 1187.12}, excluded_embed_metadata_keys=[], excluded_llm_metadata_keys=[], relationships={}, hash='0f9d41a2aa3cc00ba6a186635b290b51c7f4b0d13b005bf89368127f35b74f6a', text=' called data centric AI whereby instead of asking the pizza factory to write a lot of code,', start_char_idx=None, end_char_idx=None, text_template='{metadata_str}\\n\\n{content}', metadata_template='{key}: {value}', metadata_seperator='\\n'),\n",
       " Document(id_='269d3b6f-3bad-431d-aae7-e97bc32dacdb', embedding=None, metadata={'start': 1194.78}, excluded_embed_metadata_keys=[], excluded_llm_metadata_keys=[], relationships={}, hash='db110db56823e92f7a453f06ed14164f3952101c524e5caad45c037ba66be00a', text=' you know, which is challenging, we can ask them to provide data which turns out to be more feasible.', start_char_idx=None, end_char_idx=None, text_template='{metadata_str}\\n\\n{content}', metadata_template='{key}: {value}', metadata_seperator='\\n'),\n",
       " Document(id_='17ce64ef-b0df-412b-bb89-2ff4ecc1d3e0', embedding=None, metadata={'start': 1201.6799999999998}, excluded_embed_metadata_keys=[], excluded_llm_metadata_keys=[], relationships={}, hash='aaa4d170ca2d2b5d4be4f41071256c63e5ece6bfb52de0aebc012f42cbbb49be', text=' And I think the second trend is important because I think this is a key part of the recipe for', start_char_idx=None, end_char_idx=None, text_template='{metadata_str}\\n\\n{content}', metadata_template='{key}: {value}', metadata_seperator='\\n'),\n",
       " Document(id_='7bfa0d72-7767-4e5d-80db-862079e08bd3', embedding=None, metadata={'start': 1206.3}, excluded_embed_metadata_keys=[], excluded_llm_metadata_keys=[], relationships={}, hash='d909f8c5f28b3c6a10cd10070c92cf19c381d1541fce3cf71d4289d4a3258769', text=' taking the value of AI, which so far still feels very concentrated in the tech world and', start_char_idx=None, end_char_idx=None, text_template='{metadata_str}\\n\\n{content}', metadata_template='{key}: {value}', metadata_seperator='\\n'),\n",
       " Document(id_='3e8e10fa-faaf-4989-9be3-8093b874a530', embedding=None, metadata={'start': 1211.36}, excluded_embed_metadata_keys=[], excluded_llm_metadata_keys=[], relationships={}, hash='6ba0959d501d9aac3679f6c854976086817fb0028ae3bd20b9729c6b9dd0e43e', text=' consume the software into that world and pushing this out to, you know, all industries really to', start_char_idx=None, end_char_idx=None, text_template='{metadata_str}\\n\\n{content}', metadata_template='{key}: {value}', metadata_seperator='\\n'),\n",
       " Document(id_='3843d701-4007-48ed-8b5a-446c972219bd', embedding=None, metadata={'start': 1216.12}, excluded_embed_metadata_keys=[], excluded_llm_metadata_keys=[], relationships={}, hash='ac4788c7a56442aea6322f36e46f76a4975d04ddbce38cda81ac9a0ed17d70df', text=\" the rest of the economy, which, you know, sometimes it's easy to forget. The rest of the economy is\", start_char_idx=None, end_char_idx=None, text_template='{metadata_str}\\n\\n{content}', metadata_template='{key}: {value}', metadata_seperator='\\n'),\n",
       " Document(id_='ff4acd74-6056-445d-b8b2-4284db1e5ee9', embedding=None, metadata={'start': 1220.46}, excluded_embed_metadata_keys=[], excluded_llm_metadata_keys=[], relationships={}, hash='cf5ca4f5fce3c8181341e0f3ef9c9672fbdbd56c070862206ccb3e57b7f57e43', text=' much bigger than the tech world. So, the two trends I shared, AI is a general purpose technology,', start_char_idx=None, end_char_idx=None, text_template='{metadata_str}\\n\\n{content}', metadata_template='{key}: {value}', metadata_seperator='\\n'),\n",
       " Document(id_='678db71b-44a4-4c9b-b4b5-a9d09fe6cfd7', embedding=None, metadata={'start': 1228.12}, excluded_embed_metadata_keys=[], excluded_llm_metadata_keys=[], relationships={}, hash='72d47a342cb5ec80e77ef996641a07b9cd136e4b3e8ba01e75ea08f28eda150b', text=' lots of concrete use cases to be realized as well as local, no code, easy to use tools,', start_char_idx=None, end_char_idx=None, text_template='{metadata_str}\\n\\n{content}', metadata_template='{key}: {value}', metadata_seperator='\\n'),\n",
       " Document(id_='eef73be1-5d6f-40e4-8f55-137f9a08869f', embedding=None, metadata={'start': 1234.44}, excluded_embed_metadata_keys=[], excluded_llm_metadata_keys=[], relationships={}, hash='e211f2442b2fdacb8fbefbd4d4f073ac9a1b4dd4450c932a9efdbee916bcb43c', text=' enabling AI to be deployed in more industries. How do we go after these opportunities?', start_char_idx=None, end_char_idx=None, text_template='{metadata_str}\\n\\n{content}', metadata_template='{key}: {value}', metadata_seperator='\\n'),\n",
       " Document(id_='849b9870-b468-408e-b62b-0ed6ac7ac337', embedding=None, metadata={'start': 1241.44}, excluded_embed_metadata_keys=[], excluded_llm_metadata_keys=[], relationships={}, hash='0e4995ae8ca7f5b2da134decc9a2d7ec699b8d915de0258c5e933d154c0c69d0', text=' So, about five years ago, there was a puzzle I wanted to solve, which is I felt that many valuable', start_char_idx=None, end_char_idx=None, text_template='{metadata_str}\\n\\n{content}', metadata_template='{key}: {value}', metadata_seperator='\\n'),\n",
       " Document(id_='52143444-ea26-4b5e-b550-e5edcc7465ca', embedding=None, metadata={'start': 1246.08}, excluded_embed_metadata_keys=[], excluded_llm_metadata_keys=[], relationships={}, hash='f5fd8b4e5b3e566d218709f42385816eac77abdbb5a7e640b4c2ba7cfdfcabb3', text=' AI projects are now possible. I was thinking how do we get them done? And having led AI teams in,', start_char_idx=None, end_char_idx=None, text_template='{metadata_str}\\n\\n{content}', metadata_template='{key}: {value}', metadata_seperator='\\n'),\n",
       " Document(id_='2b4abccd-86ac-4be6-bd08-b3d110b54b9b', embedding=None, metadata={'start': 1252.0}, excluded_embed_metadata_keys=[], excluded_llm_metadata_keys=[], relationships={}, hash='8c06216cd474e87b3491ccf894034fb6e882d016ed3e4022bdf21a06869a2843', text=' you know, Google and buy do in big tech companies, I had a hard time figuring out how I could operate', start_char_idx=None, end_char_idx=None, text_template='{metadata_str}\\n\\n{content}', metadata_template='{key}: {value}', metadata_seperator='\\n'),\n",
       " Document(id_='6f30281b-a7eb-4d8f-8649-fc47bb1d7705', embedding=None, metadata={'start': 1258.7}, excluded_embed_metadata_keys=[], excluded_llm_metadata_keys=[], relationships={}, hash='2eda2493277224db8691695b4e1ca95c81066df16bce7d7614b7b1a08741e708', text=' a team in a big tech company to go off. There are a very diverse set of opportunities and everything', start_char_idx=None, end_char_idx=None, text_template='{metadata_str}\\n\\n{content}', metadata_template='{key}: {value}', metadata_seperator='\\n'),\n",
       " Document(id_='9749da2e-2025-45ff-b40c-99f0c786b33d', embedding=None, metadata={'start': 1264.78}, excluded_embed_metadata_keys=[], excluded_llm_metadata_keys=[], relationships={}, hash='3ca8f38e35c237d38aab4ad008860ad1682fcfbdaef57d311bbcfd54b84da2a7', text=\" from maritime shipping to education to financial services to healthcare and all and all. It's just\", start_char_idx=None, end_char_idx=None, text_template='{metadata_str}\\n\\n{content}', metadata_template='{key}: {value}', metadata_seperator='\\n'),\n",
       " Document(id_='c5f071c8-6006-43ad-9fd6-a9cf31b7439e', embedding=None, metadata={'start': 1269.64}, excluded_embed_metadata_keys=[], excluded_llm_metadata_keys=[], relationships={}, hash='ba8b540927d9203cebf4613dfac8a09e1f1a256b46359f49cec4570d00cd0e6a', text=' very diverse use cases, very diverse, go to markets, very diverse, really, you know, customer', start_char_idx=None, end_char_idx=None, text_template='{metadata_str}\\n\\n{content}', metadata_template='{key}: {value}', metadata_seperator='\\n'),\n",
       " Document(id_='33f0feb4-b890-4515-bb67-7cadb01144db', embedding=None, metadata={'start': 1275.02}, excluded_embed_metadata_keys=[], excluded_llm_metadata_keys=[], relationships={}, hash='34bcfb63f78c4bea524f0c966fb87673eb7650b1948a94aad100e3baff5eb52f', text=' bases and applications. And I felt that the most efficient way to do this would be we can start a', start_char_idx=None, end_char_idx=None, text_template='{metadata_str}\\n\\n{content}', metadata_template='{key}: {value}', metadata_seperator='\\n'),\n",
       " Document(id_='40b0eb40-bab7-4305-9e7e-a6d31eaa4a12', embedding=None, metadata={'start': 1282.58}, excluded_embed_metadata_keys=[], excluded_llm_metadata_keys=[], relationships={}, hash='e52f43f929e26bd35bf9d84b9f7e2ab70a0dfe6a29a42eb2417ebb9ce7cd1d54', text=\" lot of different companies to pursue these very diverse opportunities. So, that's why I ended up\", start_char_idx=None, end_char_idx=None, text_template='{metadata_str}\\n\\n{content}', metadata_template='{key}: {value}', metadata_seperator='\\n'),\n",
       " Document(id_='54a27e8d-0a0a-4c76-8d68-5c0f5b21e1c2', embedding=None, metadata={'start': 1288.04}, excluded_embed_metadata_keys=[], excluded_llm_metadata_keys=[], relationships={}, hash='2364bacb7a84b9ea914bf1529a54d53b3449b224f7bd008a9458d7397fc674a6', text=' starting AI fun, which is a venture studio that built startups to pursue a diverse set of AI', start_char_idx=None, end_char_idx=None, text_template='{metadata_str}\\n\\n{content}', metadata_template='{key}: {value}', metadata_seperator='\\n'),\n",
       " Document(id_='64852669-1675-4747-94bc-69f2f520f009', embedding=None, metadata={'start': 1293.4}, excluded_embed_metadata_keys=[], excluded_llm_metadata_keys=[], relationships={}, hash='85cf332dd38bf0a17b296d17d7fc1b362ae29bf23003b9f95c70de2e62076c6f', text=' opportunities. And of course, in addition to lots of startups in company companies, also have a', start_char_idx=None, end_char_idx=None, text_template='{metadata_str}\\n\\n{content}', metadata_template='{key}: {value}', metadata_seperator='\\n'),\n",
       " Document(id_='cae625d5-09c0-48a6-a0d3-16ce443c3b54', embedding=None, metadata={'start': 1305.0}, excluded_embed_metadata_keys=[], excluded_llm_metadata_keys=[], relationships={}, hash='53d9060b11cedd7a17a7199f3049439494d4c238e29dd8cf7d1373e88eeef6d0', text=' scene for incumbent businesses is distribution is often one of the cyclical advantages of incumbent', start_char_idx=None, end_char_idx=None, text_template='{metadata_str}\\n\\n{content}', metadata_template='{key}: {value}', metadata_seperator='\\n'),\n",
       " Document(id_='906649bc-8181-4a7d-9264-81dd10f35a7f', embedding=None, metadata={'start': 1313.06}, excluded_embed_metadata_keys=[], excluded_llm_metadata_keys=[], relationships={}, hash='bbdbabfee29de811aeafe195d98c92ec9458bb699edbe31d71b29c3e54108a65', text=' companies that they play the cards right can allow them to integrate AI into into their products', start_char_idx=None, end_char_idx=None, text_template='{metadata_str}\\n\\n{content}', metadata_template='{key}: {value}', metadata_seperator='\\n'),\n",
       " Document(id_='4f561462-d429-4fb0-b90c-803a2e6ac6d7', embedding=None, metadata={'start': 1318.22}, excluded_embed_metadata_keys=[], excluded_llm_metadata_keys=[], relationships={}, hash='6774c5932589603412106b8c203ec958225555b8ad1269c7a06703365dcc7f66', text=' quite efficiently. But just to be concrete, where are the opportunities? So, I think of this as a,', start_char_idx=None, end_char_idx=None, text_template='{metadata_str}\\n\\n{content}', metadata_template='{key}: {value}', metadata_seperator='\\n'),\n",
       " Document(id_='399017d7-ceeb-4587-a2ad-9baae74accef', embedding=None, metadata={'start': 1323.66}, excluded_embed_metadata_keys=[], excluded_llm_metadata_keys=[], relationships={}, hash='c0fe665127c26c544d732195fa79fcc45dfaaeebda1524042b213a7f06ab5745', text=' this is what I think of as the AI stack. At the bottom level is the hardware semiconductor layer.', start_char_idx=None, end_char_idx=None, text_template='{metadata_str}\\n\\n{content}', metadata_template='{key}: {value}', metadata_seperator='\\n'),\n",
       " Document(id_='87832c67-032c-44c3-b8f5-47bd92eed0ab', embedding=None, metadata={'start': 1329.4}, excluded_embed_metadata_keys=[], excluded_llm_metadata_keys=[], relationships={}, hash='ea4aa6211adb744fa1d215c6581d701b71b9731a94ac0bc6e6321f7ed5d6ce8c', text=' Fantastic opportunities there, but very capital intensive, very concentrated. So, these are a lot', start_char_idx=None, end_char_idx=None, text_template='{metadata_str}\\n\\n{content}', metadata_template='{key}: {value}', metadata_seperator='\\n'),\n",
       " Document(id_='1f8b7a2d-f6be-4fac-92ea-ee534fe1db88', embedding=None, metadata={'start': 1335.7}, excluded_embed_metadata_keys=[], excluded_llm_metadata_keys=[], relationships={}, hash='1a0b9460ea46c9bbb7c5028a77027e78bc6717e1ff21259d275e409ef6d75bb8', text=\" resources, relatively few winners. So, some people can and should play there. I personally don't like to\", start_char_idx=None, end_char_idx=None, text_template='{metadata_str}\\n\\n{content}', metadata_template='{key}: {value}', metadata_seperator='\\n'),\n",
       " Document(id_='aaf75048-7e52-43b5-9948-20c2e9a71692', embedding=None, metadata={'start': 1339.78}, excluded_embed_metadata_keys=[], excluded_llm_metadata_keys=[], relationships={}, hash='f2a925c65060e7fe3ac85442528a7da4bd33c5ac5bfa74731f4386799eb2da0c', text=\" play them myself. There's also the infrastructure layer. Also, fantastic opportunities, but very\", start_char_idx=None, end_char_idx=None, text_template='{metadata_str}\\n\\n{content}', metadata_template='{key}: {value}', metadata_seperator='\\n'),\n",
       " Document(id_='f6ff4a51-8405-4157-8b8b-11a746b5cd61', embedding=None, metadata={'start': 1345.42}, excluded_embed_metadata_keys=[], excluded_llm_metadata_keys=[], relationships={}, hash='ced1896974f7fc1d8c1903f0feabd63c1e3d071a9e7bc09f4827c558c38e8141', text=\" capital intensive, very concentrated. So, I tend not to play them myself either. And then there's\", start_char_idx=None, end_char_idx=None, text_template='{metadata_str}\\n\\n{content}', metadata_template='{key}: {value}', metadata_seperator='\\n'),\n",
       " Document(id_='cc3c920e-893d-4a93-8938-a2be042a546e', embedding=None, metadata={'start': 1351.54}, excluded_embed_metadata_keys=[], excluded_llm_metadata_keys=[], relationships={}, hash='d173d71c4dcfbadc82f7211cf9379ac6eb2b6d1e881bdfc997e945a15df32aa8', text=\" a developer tool layer. What I showed you just now was I was actually using OpenAI's API as a\", start_char_idx=None, end_char_idx=None, text_template='{metadata_str}\\n\\n{content}', metadata_template='{key}: {value}', metadata_seperator='\\n'),\n",
       " Document(id_='9356083f-ddf2-41b5-b277-62adf66e7a52', embedding=None, metadata={'start': 1357.34}, excluded_embed_metadata_keys=[], excluded_llm_metadata_keys=[], relationships={}, hash='c49a5ec30f1d834ac148dbbf415263bd4bc0da1b64eea3d5c25363fb001dfd61', text=' developer tool. And then I think the developer tool sector is a hyper competitive. Look at all the', start_char_idx=None, end_char_idx=None, text_template='{metadata_str}\\n\\n{content}', metadata_template='{key}: {value}', metadata_seperator='\\n'),\n",
       " Document(id_='85925c90-fd46-4247-93ab-583e01ce7583', embedding=None, metadata={'start': 1364.24}, excluded_embed_metadata_keys=[], excluded_llm_metadata_keys=[], relationships={}, hash='e44266958d68b58dd629e36962a799b91d02ff86f286736076d2934e9a69cb40', text=' startups chasing OpenAI right now. But there will be some mega winners. And so I sometimes play here,', start_char_idx=None, end_char_idx=None, text_template='{metadata_str}\\n\\n{content}', metadata_template='{key}: {value}', metadata_seperator='\\n'),\n",
       " Document(id_='a7a10377-986d-4b47-b0fa-dd066254c0ad', embedding=None, metadata={'start': 1371.26}, excluded_embed_metadata_keys=[], excluded_llm_metadata_keys=[], relationships={}, hash='dee738175afb1308e343347ea4e91badfbcd40a1b9849c7c4db1a05974555652', text=' but primarily when I think of a meaningful technology advantage, because I think that earns you', start_char_idx=None, end_char_idx=None, text_template='{metadata_str}\\n\\n{content}', metadata_template='{key}: {value}', metadata_seperator='\\n'),\n",
       " Document(id_='6803df63-f561-4368-bc4f-3857d489f466', embedding=None, metadata={'start': 1376.42}, excluded_embed_metadata_keys=[], excluded_llm_metadata_keys=[], relationships={}, hash='979514c2a60b48bfa670bdbc2c32adec9c674406d2cb76c2fae109d1e5efabfe', text=' the right or earns you a better shot at being one of the mega winners. And then lastly, even though', start_char_idx=None, end_char_idx=None, text_template='{metadata_str}\\n\\n{content}', metadata_template='{key}: {value}', metadata_seperator='\\n'),\n",
       " Document(id_='9345d9bd-7734-48b6-a3ff-c0c2679b14af', embedding=None, metadata={'start': 1382.64}, excluded_embed_metadata_keys=[], excluded_llm_metadata_keys=[], relationships={}, hash='c8160fc77b9c945af6c6c6240a85b0fe1252b194cd43cfb3f032a0645ce793fe', text=' a lot of the media attention in the buzz is in the infrastructure and developer tooling layer, it turns', start_char_idx=None, end_char_idx=None, text_template='{metadata_str}\\n\\n{content}', metadata_template='{key}: {value}', metadata_seperator='\\n'),\n",
       " Document(id_='ecd090c4-6174-4be2-82bf-71e93d85d19f', embedding=None, metadata={'start': 1388.7}, excluded_embed_metadata_keys=[], excluded_llm_metadata_keys=[], relationships={}, hash='af4bb29b6e8f8ba88f0b30bedb327fb24e2578e99c793f56df32dd79f3630dd9', text=' out that that layer can be successful only if the application layer is even more successful. And we', start_char_idx=None, end_char_idx=None, text_template='{metadata_str}\\n\\n{content}', metadata_template='{key}: {value}', metadata_seperator='\\n'),\n",
       " Document(id_='52ab0cb5-630d-4c42-aadc-be2631bcac0a', embedding=None, metadata={'start': 1395.98}, excluded_embed_metadata_keys=[], excluded_llm_metadata_keys=[], relationships={}, hash='65f1cc61f4478156fba976db751540dcb2b35640d22a92b1092c6a74bf70967d', text=' saw this with the rise of SaaS as well. A lot of the buzz excitement is on the technology, the tooling', start_char_idx=None, end_char_idx=None, text_template='{metadata_str}\\n\\n{content}', metadata_template='{key}: {value}', metadata_seperator='\\n'),\n",
       " Document(id_='0593c165-0c02-4df4-871a-5d186326d17b', embedding=None, metadata={'start': 1401.1}, excluded_embed_metadata_keys=[], excluded_llm_metadata_keys=[], relationships={}, hash='f0be3972d1112292cec4d8aba237d0fd8f7297194696f857ff821d1a41166a0f', text=' layer, which is fine, nothing wrong with that. But the only way for that to be successful is that', start_char_idx=None, end_char_idx=None, text_template='{metadata_str}\\n\\n{content}', metadata_template='{key}: {value}', metadata_seperator='\\n'),\n",
       " Document(id_='3575e756-16ac-4f86-b1f7-20bb0580db23', embedding=None, metadata={'start': 1405.64}, excluded_embed_metadata_keys=[], excluded_llm_metadata_keys=[], relationships={}, hash='168fbe245c8a9614579687d67d14f1c47fcdc23a45f9033a21c01fdedf01473e', text=' the application layer is even more successful so that frankly, they can generate enough revenue', start_char_idx=None, end_char_idx=None, text_template='{metadata_str}\\n\\n{content}', metadata_template='{key}: {value}', metadata_seperator='\\n'),\n",
       " Document(id_='1317dde4-a4ab-4428-b038-12d1dfc90366', embedding=None, metadata={'start': 1409.96}, excluded_embed_metadata_keys=[], excluded_llm_metadata_keys=[], relationships={}, hash='a128dad0cb5c8cba64f83ab0f29bdba07e85cf0c02958f2d118c5977996bec84', text=' to pay the infrastructure and the tooling layer. So actually, let me mention one example.', start_char_idx=None, end_char_idx=None, text_template='{metadata_str}\\n\\n{content}', metadata_template='{key}: {value}', metadata_seperator='\\n'),\n",
       " Document(id_='415921dc-6410-4b5c-8f8e-2ef77edc8faa', embedding=None, metadata={'start': 1416.7600000000002}, excluded_embed_metadata_keys=[], excluded_llm_metadata_keys=[], relationships={}, hash='9e733c689aacc1991e5942aa0a352b84ba8160f51df39df7d1719489de2dbaeb', text=' ArmorRy is actually just texting the CEO yesterday, but ArmorRy is a complete rebuild that', start_char_idx=None, end_char_idx=None, text_template='{metadata_str}\\n\\n{content}', metadata_template='{key}: {value}', metadata_seperator='\\n'),\n",
       " Document(id_='c54fa453-99d2-47a3-906c-886145bcadfe', embedding=None, metadata={'start': 1422.94}, excluded_embed_metadata_keys=[], excluded_llm_metadata_keys=[], relationships={}, hash='45bf4519fb77a7f1bf48526959b963520eff100102420efd7ac3d18b4211b06a', text=\" uses AI for romantic relationship coaching. And just to point out I'm an AI guy and I feel like I know\", start_char_idx=None, end_char_idx=None, text_template='{metadata_str}\\n\\n{content}', metadata_template='{key}: {value}', metadata_seperator='\\n'),\n",
       " Document(id_='bcad5d3f-a719-47ec-a8df-bed30a9a5bfb', embedding=None, metadata={'start': 1432.8}, excluded_embed_metadata_keys=[], excluded_llm_metadata_keys=[], relationships={}, hash='0d70c908b9eeeba759eea633291757066a3f0f38a9627b70818f837d469d32bf', text=\" nothing really about romance. And if you don't believe me, you can ask my wife, she will confirm that\", start_char_idx=None, end_char_idx=None, text_template='{metadata_str}\\n\\n{content}', metadata_template='{key}: {value}', metadata_seperator='\\n'),\n",
       " Document(id_='63823ad4-8422-4af6-a971-81156fb3757d', embedding=None, metadata={'start': 1441.08}, excluded_embed_metadata_keys=[], excluded_llm_metadata_keys=[], relationships={}, hash='6bcae211e3f7e4a3a1101b0c9ff59baadcb06dd4e9939cebadeec1f5b86a6064', text=' I know nothing about romance. But when we want to build this, we want to get together with the', start_char_idx=None, end_char_idx=None, text_template='{metadata_str}\\n\\n{content}', metadata_template='{key}: {value}', metadata_seperator='\\n'),\n",
       " Document(id_='87816ac3-644b-4d68-bd52-8e42a099ecb5', embedding=None, metadata={'start': 1447.14}, excluded_embed_metadata_keys=[], excluded_llm_metadata_keys=[], relationships={}, hash='6e6fd039bb54d7058a0e29a419c837d462fa96ec25739c7c5f0468c42857e042', text=\" former CEO of Tinder, a Renata Nibble, and with my team's expertise in AI and her expertise in\", start_char_idx=None, end_char_idx=None, text_template='{metadata_str}\\n\\n{content}', metadata_template='{key}: {value}', metadata_seperator='\\n'),\n",
       " Document(id_='e773a527-1df2-4c92-8afc-e7cc19d00786', embedding=None, metadata={'start': 1454.1}, excluded_embed_metadata_keys=[], excluded_llm_metadata_keys=[], relationships={}, hash='dc79593e902ebb676ad3ab8e1a4efb92c936a15fd38c94c0f1b9837c742b2129', text=' relationships. She ran Tinder. She knows more about relationships. I think anyone I know,', start_char_idx=None, end_char_idx=None, text_template='{metadata_str}\\n\\n{content}', metadata_template='{key}: {value}', metadata_seperator='\\n'),\n",
       " Document(id_='ee6325f3-a2c6-4a61-a252-d82f4e52effc', embedding=None, metadata={'start': 1458.72}, excluded_embed_metadata_keys=[], excluded_llm_metadata_keys=[], relationships={}, hash='b291aeea1d08012a7345e9a4448d750fa4a5082058b9801a8c9fba743241d47d', text=\" we're able to build something pretty unique using AI for romantic relationship mentoring.\", start_char_idx=None, end_char_idx=None, text_template='{metadata_str}\\n\\n{content}', metadata_template='{key}: {value}', metadata_seperator='\\n'),\n",
       " Document(id_='3b5511cc-dc4c-447f-9f01-ee154c34cf4d', embedding=None, metadata={'start': 1466.06}, excluded_embed_metadata_keys=[], excluded_llm_metadata_keys=[], relationships={}, hash='08e26d204c0ee04e4442b94328b719cf5c2d1e1902c9a4f71d2964b1476dccc3', text=' And the interesting thing about applications like these is when we look around,', start_char_idx=None, end_char_idx=None, text_template='{metadata_str}\\n\\n{content}', metadata_template='{key}: {value}', metadata_seperator='\\n'),\n",
       " Document(id_='a481cba8-a12c-4b39-8751-da84e761ea49', embedding=None, metadata={'start': 1471.08}, excluded_embed_metadata_keys=[], excluded_llm_metadata_keys=[], relationships={}, hash='0d0ae8c15964a8574cee0b40dda0d98864c39e7e455e7219ac631e60c1a27d66', text=' how many teams in the world are simultaneously expert in AI and in relationships.', start_char_idx=None, end_char_idx=None, text_template='{metadata_str}\\n\\n{content}', metadata_template='{key}: {value}', metadata_seperator='\\n'),\n",
       " Document(id_='258b97be-b9d7-48c4-bf51-366fd36caceb', embedding=None, metadata={'start': 1477.0}, excluded_embed_metadata_keys=[], excluded_llm_metadata_keys=[], relationships={}, hash='dfca48705af35179227ae8dae4e4275ca13332e54b4434f3b5537740929f92b6', text=\" And so at the application layer, I'm seeing a lot of exciting opportunities that seem to\", start_char_idx=None, end_char_idx=None, text_template='{metadata_str}\\n\\n{content}', metadata_template='{key}: {value}', metadata_seperator='\\n'),\n",
       " Document(id_='16283255-b1d5-4834-9901-78b4652e4ca7', embedding=None, metadata={'start': 1482.56}, excluded_embed_metadata_keys=[], excluded_llm_metadata_keys=[], relationships={}, hash='3536350bc397f904d68d4cdc183e0503f45718684d170d77949432157fe0bd85', text=' the very large market, but where the competition set is very light relative to the magnitude of', start_char_idx=None, end_char_idx=None, text_template='{metadata_str}\\n\\n{content}', metadata_template='{key}: {value}', metadata_seperator='\\n'),\n",
       " Document(id_='1119847b-99b6-4e5c-90ac-7a69c4bf0e27', embedding=None, metadata={'start': 1488.34}, excluded_embed_metadata_keys=[], excluded_llm_metadata_keys=[], relationships={}, hash='1717a59550a8fc4cc604e9d139d7ac2f8d1b518b81e2b06e2da3dc3ea752348e', text=\" the opportunity. It's not that there are no competitors, but it's just much less intense compared to\", start_char_idx=None, end_char_idx=None, text_template='{metadata_str}\\n\\n{content}', metadata_template='{key}: {value}', metadata_seperator='\\n'),\n",
       " Document(id_='10dd2b85-7e4e-442e-a9fc-c3cbbbd24576', embedding=None, metadata={'start': 1493.3}, excluded_embed_metadata_keys=[], excluded_llm_metadata_keys=[], relationships={}, hash='c00f68a9f6b53164877e312b3685712eb931c4f9a15ebcc153a97646a5e24ac8', text=\" the developer tool or the infrastructure layer. And so because I've spent a lot of time iterating\", start_char_idx=None, end_char_idx=None, text_template='{metadata_str}\\n\\n{content}', metadata_template='{key}: {value}', metadata_seperator='\\n'),\n",
       " Document(id_='9e4e6d9f-b949-4d1f-abea-69780eb18a6c', embedding=None, metadata={'start': 1500.76}, excluded_embed_metadata_keys=[], excluded_llm_metadata_keys=[], relationships={}, hash='5bebf59b038e30c71f9ab9811a749a3890940c3d8b396e3a6a958f9c032c919b', text=\" on a process of building startups, what I'm going to do is just very transparently tell you\", start_char_idx=None, end_char_idx=None, text_template='{metadata_str}\\n\\n{content}', metadata_template='{key}: {value}', metadata_seperator='\\n'),\n",
       " Document(id_='ab7936c2-5771-4563-afb9-aeaa5f228e4d', embedding=None, metadata={'start': 1505.42}, excluded_embed_metadata_keys=[], excluded_llm_metadata_keys=[], relationships={}, hash='db791b3717a4b0d77173f4f431641d7df205830e0b0831d0a74a5199c0ace2a5', text=\" the recipe we've developed for building startups. And so after many years of iteration and improvement,\", start_char_idx=None, end_char_idx=None, text_template='{metadata_str}\\n\\n{content}', metadata_template='{key}: {value}', metadata_seperator='\\n'),\n",
       " Document(id_='902ac9fe-2607-4234-b8be-d33a03acebc9', embedding=None, metadata={'start': 1511.46}, excluded_embed_metadata_keys=[], excluded_llm_metadata_keys=[], relationships={}, hash='4ec6501f3c31c768703a30c642f8eba405304df4d1bf7e09070a524ab4ebe695', text=\" this is how we now build startups. My team's always had access to a lot of different ideas,\", start_char_idx=None, end_char_idx=None, text_template='{metadata_str}\\n\\n{content}', metadata_template='{key}: {value}', metadata_seperator='\\n'),\n",
       " Document(id_='db14656d-e912-48f0-9877-83826b593240', embedding=None, metadata={'start': 1516.94}, excluded_embed_metadata_keys=[], excluded_llm_metadata_keys=[], relationships={}, hash='367a66f37b1aab61589d5d41932dad9f0aff840aa9906b6d942abab9aeb3696e', text=' internally generated ideas from partners. And I want to walk through this with one example', start_char_idx=None, end_char_idx=None, text_template='{metadata_str}\\n\\n{content}', metadata_template='{key}: {value}', metadata_seperator='\\n'),\n",
       " Document(id_='07ed42e9-c408-4571-8d2f-96f19ca221eb', embedding=None, metadata={'start': 1522.68}, excluded_embed_metadata_keys=[], excluded_llm_metadata_keys=[], relationships={}, hash='bb1afd497564edf7b9938b24b647f9605f37eca37ab70e741090740c9e90e63e', text=' of something we did, which is a company bearing AI, which uses AI to make ships more fuel efficient.', start_char_idx=None, end_char_idx=None, text_template='{metadata_str}\\n\\n{content}', metadata_template='{key}: {value}', metadata_seperator='\\n'),\n",
       " Document(id_='3f169a38-f365-48bf-9349-1fa386b3b23c', embedding=None, metadata={'start': 1528.84}, excluded_embed_metadata_keys=[], excluded_llm_metadata_keys=[], relationships={}, hash='a4bdb390a99cc084d31244561c15ffeb1f3c5352e24fbc3e0574ad6632ba1bff', text=' So this idea came to me when a few years ago, a large Japanese conglomerate called Mitsui,', start_char_idx=None, end_char_idx=None, text_template='{metadata_str}\\n\\n{content}', metadata_template='{key}: {value}', metadata_seperator='\\n'),\n",
       " Document(id_='654503de-969a-4b63-8c11-0bdc5899e577', embedding=None, metadata={'start': 1535.66}, excluded_embed_metadata_keys=[], excluded_llm_metadata_keys=[], relationships={}, hash='591092d51b5ca657dbaf8d1d68fd803e4cdafc364acc462cc1c60d10634d6a3a', text=' that is a major shareholder in the sort of operator major shipping lines. They came to me and', start_char_idx=None, end_char_idx=None, text_template='{metadata_str}\\n\\n{content}', metadata_template='{key}: {value}', metadata_seperator='\\n'),\n",
       " Document(id_='dc4cdac4-8478-44e5-8360-0879518f692a', embedding=None, metadata={'start': 1540.84}, excluded_embed_metadata_keys=[], excluded_llm_metadata_keys=[], relationships={}, hash='81e5638bfb13cac28e022affc09b97fd18c3f5c55501f5342183d625c2ed04dd', text=' they said, hey, Andrew, you should build a business to use AI to make ships more fuel efficient.', start_char_idx=None, end_char_idx=None, text_template='{metadata_str}\\n\\n{content}', metadata_template='{key}: {value}', metadata_seperator='\\n'),\n",
       " Document(id_='86ee9e72-de37-4f35-8452-d311c43d84a0', embedding=None, metadata={'start': 1546.18}, excluded_embed_metadata_keys=[], excluded_llm_metadata_keys=[], relationships={}, hash='bb2d9e04c42d27d64aaca015e072dec44d950fdba22c7a66d1723fede435d3d9', text=' And the specific idea was, think of it as a Google Maps for ships. We can suggest a ship or', start_char_idx=None, end_char_idx=None, text_template='{metadata_str}\\n\\n{content}', metadata_template='{key}: {value}', metadata_seperator='\\n'),\n",
       " Document(id_='e6f244fd-35f6-47bb-a30b-afe2d312cae0', embedding=None, metadata={'start': 1552.12}, excluded_embed_metadata_keys=[], excluded_llm_metadata_keys=[], relationships={}, hash='be836c5ef16f73b2ade5a55d222134e6d41b0c8c6df3e30790fba655a340ae9e', text=' tell a ship how to steer so that you still get to your destination on time, but using turns out', start_char_idx=None, end_char_idx=None, text_template='{metadata_str}\\n\\n{content}', metadata_template='{key}: {value}', metadata_seperator='\\n'),\n",
       " Document(id_='ff673c70-e481-4947-ad97-e1825c4a3abc', embedding=None, metadata={'start': 1557.82}, excluded_embed_metadata_keys=[], excluded_llm_metadata_keys=[], relationships={}, hash='2e1582cc7296dd329ea25f95bdf3cb50a8aaf1697ecfa9525b28410b15ed8757', text=' about 10% less fuel. And so what we now do is we spend about a month validating the idea. So', start_char_idx=None, end_char_idx=None, text_template='{metadata_str}\\n\\n{content}', metadata_template='{key}: {value}', metadata_seperator='\\n'),\n",
       " Document(id_='e2ab3c09-46a1-41b1-9c78-2ade6a3e4fc8', embedding=None, metadata={'start': 1565.74}, excluded_embed_metadata_keys=[], excluded_llm_metadata_keys=[], relationships={}, hash='36c4c66260b5e5608c5d6c45dbd2316014776e5574cbdb9b439dc2bd58961d5d', text=' double check, this is idea even technically feasible and in top to perspective customers to', start_char_idx=None, end_char_idx=None, text_template='{metadata_str}\\n\\n{content}', metadata_template='{key}: {value}', metadata_seperator='\\n'),\n",
       " Document(id_='e7760066-bb0f-4a60-a972-5a34939e976e', embedding=None, metadata={'start': 1570.22}, excluded_embed_metadata_keys=[], excluded_llm_metadata_keys=[], relationships={}, hash='1bf0e30f9e68c2211dafd7eecc61cb1c92fec6e185ab59c63dea81707a4b459d', text=\" make sure that it's marketing. So it's been up to about a month doing that. And if it passes this\", start_char_idx=None, end_char_idx=None, text_template='{metadata_str}\\n\\n{content}', metadata_template='{key}: {value}', metadata_seperator='\\n'),\n",
       " Document(id_='05773fb2-fa3d-470a-bb28-ec7c8981e379', embedding=None, metadata={'start': 1575.2}, excluded_embed_metadata_keys=[], excluded_llm_metadata_keys=[], relationships={}, hash='03acc76d957dfb45efa46c7ec9a87f0da22ea7e5cceaa163840979be069062cb', text=' stage, then we will go and recruit a CEO to work with us on the project. When I was starting,', start_char_idx=None, end_char_idx=None, text_template='{metadata_str}\\n\\n{content}', metadata_template='{key}: {value}', metadata_seperator='\\n'),\n",
       " Document(id_='965257bc-4c3c-409f-af7d-ab6a231d6b26', embedding=None, metadata={'start': 1581.46}, excluded_embed_metadata_keys=[], excluded_llm_metadata_keys=[], relationships={}, hash='46bb9085480b5c3a0293fbff1bb11b5ef5e928ed9f43339e5ca9e7fa8088ab24', text=' I used to spend a long time working on the project myself before bringing on the CEO, but after', start_char_idx=None, end_char_idx=None, text_template='{metadata_str}\\n\\n{content}', metadata_template='{key}: {value}', metadata_seperator='\\n'),\n",
       " Document(id_='612955c8-ccbb-4b14-90a7-e42a4a0e59a6', embedding=None, metadata={'start': 1586.78}, excluded_embed_metadata_keys=[], excluded_llm_metadata_keys=[], relationships={}, hash='05a15db6a648408917879d3ea46f234a36c5db51c322abcc65d622cb46754274', text=' iterating, we realized that bringing on the leader at the very beginning to work with us,', start_char_idx=None, end_char_idx=None, text_template='{metadata_str}\\n\\n{content}', metadata_template='{key}: {value}', metadata_seperator='\\n'),\n",
       " Document(id_='d2cffd7b-f3bb-4f5d-b1e7-f92eb39d2bb8', embedding=None, metadata={'start': 1591.5}, excluded_embed_metadata_keys=[], excluded_llm_metadata_keys=[], relationships={}, hash='33615e472578bdcf550b11c9c602cc05a19e36f52796568344277346ea1da8aa', text=' it reduces the burden of having to transfer knowledge or having a CEO come in and', start_char_idx=None, end_char_idx=None, text_template='{metadata_str}\\n\\n{content}', metadata_template='{key}: {value}', metadata_seperator='\\n'),\n",
       " Document(id_='14ca5fa2-747d-4bf0-b5cf-704a276e749c', embedding=None, metadata={'start': 1596.6}, excluded_embed_metadata_keys=[], excluded_llm_metadata_keys=[], relationships={}, hash='88b47b03de587783dd43e7c2c8b7f3f472638a6c838e71ecfa0389c16f01775e', text=\" have to revalidate whether we discover it. So the process is we've learned much more efficient,\", start_char_idx=None, end_char_idx=None, text_template='{metadata_str}\\n\\n{content}', metadata_template='{key}: {value}', metadata_seperator='\\n'),\n",
       " Document(id_='4554ba5c-05a9-491c-a173-c42e9894ec9c', embedding=None, metadata={'start': 1601.18}, excluded_embed_metadata_keys=[], excluded_llm_metadata_keys=[], relationships={}, hash='c6a50787fbd65bf98bf2dd063882a947189e730ac9fefda979d619c794fc9120', text=' which is bringing the leader at the very start. And so in the case of bearing AI, we found a fantastic', start_char_idx=None, end_char_idx=None, text_template='{metadata_str}\\n\\n{content}', metadata_template='{key}: {value}', metadata_seperator='\\n'),\n",
       " Document(id_='5756fb0a-9540-4b8f-b6ab-9d30caa65a01', embedding=None, metadata={'start': 1607.0}, excluded_embed_metadata_keys=[], excluded_llm_metadata_keys=[], relationships={}, hash='7044fcb66ea611812326dc020b8bb5db6650967ddcf6c3506ac3124b3a9e6a66', text=\" CEO, Dylan Kyle, who's repeat entrepreneur, one successful ex-report for. And then we spent three\", start_char_idx=None, end_char_idx=None, text_template='{metadata_str}\\n\\n{content}', metadata_template='{key}: {value}', metadata_seperator='\\n'),\n",
       " Document(id_='fffaf967-a38a-4097-a9b2-dd8013205bc5', embedding=None, metadata={'start': 1612.42}, excluded_embed_metadata_keys=[], excluded_llm_metadata_keys=[], relationships={}, hash='2f0b667e4b6c4707171970350bfea4ab0e07ee93bb65e068fd0aa141595fa6c9', text=' months, six two weeks sprints to work with them to build a prototype as well as do do deep customer', start_char_idx=None, end_char_idx=None, text_template='{metadata_str}\\n\\n{content}', metadata_template='{key}: {value}', metadata_seperator='\\n'),\n",
       " Document(id_='b754f31a-b482-4b05-9a6e-8139b91e3849', embedding=None, metadata={'start': 1620.96}, excluded_embed_metadata_keys=[], excluded_llm_metadata_keys=[], relationships={}, hash='cbeb58468f81718abeb9c617c1dfcfb422750a12079775f64ebf2a158da8afa0', text=' validation. If it survives this stage and we have about a two thirds, 66 percent survival rate,', start_char_idx=None, end_char_idx=None, text_template='{metadata_str}\\n\\n{content}', metadata_template='{key}: {value}', metadata_seperator='\\n'),\n",
       " Document(id_='4d0f9f3e-bf27-4ad9-a7e7-0203af4902f1', embedding=None, metadata={'start': 1627.14}, excluded_embed_metadata_keys=[], excluded_llm_metadata_keys=[], relationships={}, hash='a1d6520fe7e442b215c0df0829c23e0a6a29e0956823f02e0a432d175af8fdb8', text=' we never had the first check in, which then gives the company resources to hire an executive team,', start_char_idx=None, end_char_idx=None, text_template='{metadata_str}\\n\\n{content}', metadata_template='{key}: {value}', metadata_seperator='\\n'),\n",
       " Document(id_='eff42b5c-47d9-4e5e-92bc-19086e5a3a74', embedding=None, metadata={'start': 1632.74}, excluded_embed_metadata_keys=[], excluded_llm_metadata_keys=[], relationships={}, hash='33e806f44b976ebb6c0545dbd33c731844c5fd27acbbe8c62e425b65f2538720', text=' you know, build the key team, get the MVP working, minimize our product working, and get some', start_char_idx=None, end_char_idx=None, text_template='{metadata_str}\\n\\n{content}', metadata_template='{key}: {value}', metadata_seperator='\\n'),\n",
       " Document(id_='c738f3e8-4ae4-483c-b131-65978b694889', embedding=None, metadata={'start': 1637.5}, excluded_embed_metadata_keys=[], excluded_llm_metadata_keys=[], relationships={}, hash='e842cdb82aab4238bd9edc48c408b5f604eab920775ac5431beed648a45aef62', text=' real customers. And then after that, you know, hopefully then successfully raises additional', start_char_idx=None, end_char_idx=None, text_template='{metadata_str}\\n\\n{content}', metadata_template='{key}: {value}', metadata_seperator='\\n'),\n",
       " Document(id_='a4125192-0a81-4b44-8603-de037f435318', embedding=None, metadata={'start': 1642.68}, excluded_embed_metadata_keys=[], excluded_llm_metadata_keys=[], relationships={}, hash='054a6f09838097fccdbc48fee07387e03e50cf4094743eb30567682f1043b7fe', text=\" external rounds of funding that can keep on growing and scaling. So I'm really proud of the work\", start_char_idx=None, end_char_idx=None, text_template='{metadata_str}\\n\\n{content}', metadata_template='{key}: {value}', metadata_seperator='\\n'),\n",
       " Document(id_='c77541ea-3c43-4765-81a1-964db48b327e', embedding=None, metadata={'start': 1648.22}, excluded_embed_metadata_keys=[], excluded_llm_metadata_keys=[], relationships={}, hash='51da387acbcf4795093420086a2516e8b0920ede4ad44d0e511e40e83fc52ee6', text=\" that my team was able to do to support Mitsui's idea and Dylan Kyle as CEO. And today there are\", start_char_idx=None, end_char_idx=None, text_template='{metadata_str}\\n\\n{content}', metadata_template='{key}: {value}', metadata_seperator='\\n'),\n",
       " Document(id_='c3f2bb6a-f018-42cd-84b2-883064c788bc', embedding=None, metadata={'start': 1655.46}, excluded_embed_metadata_keys=[], excluded_llm_metadata_keys=[], relationships={}, hash='da87d15a70215221b9bcb8c305aaa0527480f0f1f6afcb0c5ac73cfe6757157d', text=' hundreds of ships on the high seas right now that are steering themselves differently because of', start_char_idx=None, end_char_idx=None, text_template='{metadata_str}\\n\\n{content}', metadata_template='{key}: {value}', metadata_seperator='\\n'),\n",
       " Document(id_='86c8cdd0-eff3-4fca-b743-8d2fb432fca8', embedding=None, metadata={'start': 1660.96}, excluded_embed_metadata_keys=[], excluded_llm_metadata_keys=[], relationships={}, hash='6892f6b9a61ada9b6b1f32028c8f5a6516706e43f1f61ac0132fe915d0954a2b', text=' bearing AI. And 10 percent fuel savings translates to rough order amounts to maybe $450,000 in savings', start_char_idx=None, end_char_idx=None, text_template='{metadata_str}\\n\\n{content}', metadata_template='{key}: {value}', metadata_seperator='\\n'),\n",
       " Document(id_='2e11b1ec-8f02-479a-b08d-cc3faeaf37b9', embedding=None, metadata={'start': 1668.32}, excluded_embed_metadata_keys=[], excluded_llm_metadata_keys=[], relationships={}, hash='a698b5863476f0da2afe3ba9d3db1f71f61ed6c7572710a6008dc9e009ab5a5c', text=\" in fuel per year. And of course, it's also frankly quite a bit better for the environment. And I think\", start_char_idx=None, end_char_idx=None, text_template='{metadata_str}\\n\\n{content}', metadata_template='{key}: {value}', metadata_seperator='\\n'),\n",
       " Document(id_='202cc2fc-aef5-4c32-a628-cc7545f5d451', embedding=None, metadata={'start': 1674.84}, excluded_embed_metadata_keys=[], excluded_llm_metadata_keys=[], relationships={}, hash='408cf08405446a504398021b269422aa3ffaac0715cdf76f2181f3e23332311d', text=\" this is not up, I think would not have existed if not for Dylan's fantastic work. And then also,\", start_char_idx=None, end_char_idx=None, text_template='{metadata_str}\\n\\n{content}', metadata_template='{key}: {value}', metadata_seperator='\\n'),\n",
       " Document(id_='02c77361-ba2e-4b30-9032-340bb4cdf3c6', embedding=None, metadata={'start': 1681.76}, excluded_embed_metadata_keys=[], excluded_llm_metadata_keys=[], relationships={}, hash='742c063eea9071a0b3642e3716270314f026617dc42d50d4fdb92bea24cba966', text=' you know, Mitsui brainless idea to me. And I like this example because this is another one is like,', start_char_idx=None, end_char_idx=None, text_template='{metadata_str}\\n\\n{content}', metadata_template='{key}: {value}', metadata_seperator='\\n'),\n",
       " Document(id_='741364e5-af50-4502-9f40-6a35dcd8b280', embedding=None, metadata={'start': 1688.34}, excluded_embed_metadata_keys=[], excluded_llm_metadata_keys=[], relationships={}, hash='b8ccfcf200cf1dd6c81cbc9491a3903529fbf0b7d27564d95a13f68af422bb7e', text=' you know, this is a thought of idea that just a point out I would never have come up with myself,', start_char_idx=None, end_char_idx=None, text_template='{metadata_str}\\n\\n{content}', metadata_template='{key}: {value}', metadata_seperator='\\n'),\n",
       " Document(id_='bccc346d-4e59-4aad-9a19-a44d2ee9c630', embedding=None, metadata={'start': 1693.76}, excluded_embed_metadata_keys=[], excluded_llm_metadata_keys=[], relationships={}, hash='8bacaf67990e70dbfca852309ad5d0cb17be9e896f36744502de9899d37635d2', text=\" right? Because, you know, I've been on a boat, but what do I know about maritime shipping?\", start_char_idx=None, end_char_idx=None, text_template='{metadata_str}\\n\\n{content}', metadata_template='{key}: {value}', metadata_seperator='\\n'),\n",
       " Document(id_='f0260c7d-ec77-43cf-8eb7-053ad1710eb8', embedding=None, metadata={'start': 1699.16}, excluded_embed_metadata_keys=[], excluded_llm_metadata_keys=[], relationships={}, hash='ce8f3e17e4adbe0e6c83ba04a5087e82c02f0f26501f8a6acdc6e4263456a1cd', text=' But is the deep subject matter expertise of Mitsui that had to zenzai together with Dylan and then', start_char_idx=None, end_char_idx=None, text_template='{metadata_str}\\n\\n{content}', metadata_template='{key}: {value}', metadata_seperator='\\n'),\n",
       " Document(id_='638ae2d4-f2a9-4b73-bbea-f00d9f05ff73', embedding=None, metadata={'start': 1706.22}, excluded_embed_metadata_keys=[], excluded_llm_metadata_keys=[], relationships={}, hash='ecedec55a65a1e4b7eafeb3c5d1c51ef5bac48e0cda07880af7e147b08518ed8', text=\" my team's expertise in AI that made this possible? And so as I operate an AI, one thing I've learned\", start_char_idx=None, end_char_idx=None, text_template='{metadata_str}\\n\\n{content}', metadata_template='{key}: {value}', metadata_seperator='\\n'),\n",
       " Document(id_='ea7ed401-8048-4b87-9ee7-6b9e152b3761', embedding=None, metadata={'start': 1713.1}, excluded_embed_metadata_keys=[], excluded_llm_metadata_keys=[], relationships={}, hash='ea81b8add214886bac340a2d19d1039246a81ba328e70b0540fc03faa4f5c5eb', text=\" is my swim lane is AI. And that's it because I don't have time. It's very difficult for me to be\", start_char_idx=None, end_char_idx=None, text_template='{metadata_str}\\n\\n{content}', metadata_template='{key}: {value}', metadata_seperator='\\n'),\n",
       " Document(id_='2c9517fe-a619-4cf9-b53b-032a79a1177f', embedding=None, metadata={'start': 1719.58}, excluded_embed_metadata_keys=[], excluded_llm_metadata_keys=[], relationships={}, hash='c95c34a823a72a9378805575f57c57c0b93bfd24ca0ef472d51fcda0f215e4fd', text=' expert in maritime shipping and romantic relationships and healthcare and financial services and on and on and on and on.', start_char_idx=None, end_char_idx=None, text_template='{metadata_str}\\n\\n{content}', metadata_template='{key}: {value}', metadata_seperator='\\n'),\n",
       " Document(id_='4e215b37-9770-4bd7-9887-7554458e2965', embedding=None, metadata={'start': 1729.1}, excluded_embed_metadata_keys=[], excluded_llm_metadata_keys=[], relationships={}, hash='6348aa7d65f4acaf940932070c39d3deb2ea07de70cee50d03eec9930755beb1', text=' Actra technical validation and then use, you know, AI resources to make sure the AI tech has built quickly.', start_char_idx=None, end_char_idx=None, text_template='{metadata_str}\\n\\n{content}', metadata_template='{key}: {value}', metadata_seperator='\\n'),\n",
       " Document(id_='1600e094-2b1a-4f4f-9522-c35d66e10134', embedding=None, metadata={'start': 1735.1}, excluded_embed_metadata_keys=[], excluded_llm_metadata_keys=[], relationships={}, hash='862f573ee59fd8aa61d55507683bcac6a5a3f0ef6248b89c965e9e9fb0d271de', text=\" Well, and I think we've always managed to help the companies build a strong technical team\", start_char_idx=None, end_char_idx=None, text_template='{metadata_str}\\n\\n{content}', metadata_template='{key}: {value}', metadata_seperator='\\n'),\n",
       " Document(id_='f73add0e-70c7-4d07-b7b2-08403e75657c', embedding=None, metadata={'start': 1739.0}, excluded_embed_metadata_keys=[], excluded_llm_metadata_keys=[], relationships={}, hash='ea8ffc6b283a313bc5a6a08457dced7939192efea789804786c8a29955ab9112', text=' than partnering with subject matter experts often results in exciting new opportunities.', start_char_idx=None, end_char_idx=None, text_template='{metadata_str}\\n\\n{content}', metadata_template='{key}: {value}', metadata_seperator='\\n'),\n",
       " Document(id_='dea08ab5-06ee-45fc-a6f6-6bd1124803e6', embedding=None, metadata={'start': 1745.06}, excluded_embed_metadata_keys=[], excluded_llm_metadata_keys=[], relationships={}, hash='7a615c1979837067ef4d4930c76db76d790a12e903e7e0f700c78c984a1327e9', text=\" And I want to share with you one other weird aspect of one of the weird lessons I've learned\", start_char_idx=None, end_char_idx=None, text_template='{metadata_str}\\n\\n{content}', metadata_template='{key}: {value}', metadata_seperator='\\n'),\n",
       " Document(id_='ddd5631a-ceb7-430c-a75b-7d3089071d33', embedding=None, metadata={'start': 1750.28}, excluded_embed_metadata_keys=[], excluded_llm_metadata_keys=[], relationships={}, hash='c533d906ab935c737107c04c12f07afc573c7c21c2da304a3e8de59348dbefa1', text=\" about, you know, building startups, which is I like to engage only when there's a concrete idea.\", start_char_idx=None, end_char_idx=None, text_template='{metadata_str}\\n\\n{content}', metadata_template='{key}: {value}', metadata_seperator='\\n'),\n",
       " Document(id_='addf89e5-3d36-4e37-a832-bc301509541b', embedding=None, metadata={'start': 1756.84}, excluded_embed_metadata_keys=[], excluded_llm_metadata_keys=[], relationships={}, hash='e8431c49a40819bd66d9cf308d2879bb9e9432ad6b4e098ca98b0fb7a76818b9', text=' And this runs counter to bother the advice you hear from the design thinking methodology,', start_char_idx=None, end_char_idx=None, text_template='{metadata_str}\\n\\n{content}', metadata_template='{key}: {value}', metadata_seperator='\\n'),\n",
       " Document(id_='025596be-0240-41e0-a3a3-c6293846fc7e', embedding=None, metadata={'start': 1762.58}, excluded_embed_metadata_keys=[], excluded_llm_metadata_keys=[], relationships={}, hash='43044e211ccaf160ad5ad004f6f2e1c190b57f251626183803f50e25852816bd', text=\" which often says don't rush to solutioning, right? Explore a lot of alternatives to avoid the solution.\", start_char_idx=None, end_char_idx=None, text_template='{metadata_str}\\n\\n{content}', metadata_template='{key}: {value}', metadata_seperator='\\n'),\n",
       " Document(id_='a325d6e4-f6cd-4a8b-ad19-6b20fccf6344', embedding=None, metadata={'start': 1768.32}, excluded_embed_metadata_keys=[], excluded_llm_metadata_keys=[], relationships={}, hash='15c738582f4cc0c769bf3cb5b6c8de496b00bb4d24daaa75f794caccb34b173d', text=\" Honestly, we tried that. It was very slow. But what we've learned is that at the ideation stage,\", start_char_idx=None, end_char_idx=None, text_template='{metadata_str}\\n\\n{content}', metadata_template='{key}: {value}', metadata_seperator='\\n'),\n",
       " Document(id_='db16b81c-e31a-4b35-861e-4229167de892', embedding=None, metadata={'start': 1775.52}, excluded_embed_metadata_keys=[], excluded_llm_metadata_keys=[], relationships={}, hash='a1c6ab65416a1cd58b99594f1e11f1cf671a194647f04f210a256268923fc836', text=' if someone comes to me and says, hey, Andrew, you should apply AI to financial services.', start_char_idx=None, end_char_idx=None, text_template='{metadata_str}\\n\\n{content}', metadata_template='{key}: {value}', metadata_seperator='\\n'),\n",
       " Document(id_='38db6788-6971-4089-ad4f-c43f57d60993', embedding=None, metadata={'start': 1780.32}, excluded_embed_metadata_keys=[], excluded_llm_metadata_keys=[], relationships={}, hash='34f5e1c37c3c348f890565624ccdf4827bda48b03484e25e3bd60a6686c2e9b7', text=\" Because I'm not a subject matter expert in financial services, it's very slow for me to\", start_char_idx=None, end_char_idx=None, text_template='{metadata_str}\\n\\n{content}', metadata_template='{key}: {value}', metadata_seperator='\\n'),\n",
       " Document(id_='c6773f12-0490-453d-917a-693958a2ee6c', embedding=None, metadata={'start': 1785.34}, excluded_embed_metadata_keys=[], excluded_llm_metadata_keys=[], relationships={}, hash='789a6ac1906b215d8859179e6d48edc939c130a3c89cd25f380c8882f301b44e', text=' learn enough about financial services that you can figure out what to do. I mean, eventually,', start_char_idx=None, end_char_idx=None, text_template='{metadata_str}\\n\\n{content}', metadata_template='{key}: {value}', metadata_seperator='\\n'),\n",
       " Document(id_='de03eec3-5576-4013-9bfc-732264691f60', embedding=None, metadata={'start': 1789.36}, excluded_embed_metadata_keys=[], excluded_llm_metadata_keys=[], relationships={}, hash='0387d23fd913ef65f8be85307f4b1ca14fa45ae897bd08bf5885a162ae83a27c', text=\" you could get a good outcome, but it's a very labor intensive, very slow, very expensive process.\", start_char_idx=None, end_char_idx=None, text_template='{metadata_str}\\n\\n{content}', metadata_template='{key}: {value}', metadata_seperator='\\n'),\n",
       " Document(id_='16f84161-1a2c-4e3e-9644-a372fe99de28', embedding=None, metadata={'start': 1794.52}, excluded_embed_metadata_keys=[], excluded_llm_metadata_keys=[], relationships={}, hash='439ec2b8cfc8d77623543ac260435c5e6112902d80be717a5f3781cb47370a4d', text=' So me to try to learn industry after industry. In contrast, one of my partners wrote his ideas', start_char_idx=None, end_char_idx=None, text_template='{metadata_str}\\n\\n{content}', metadata_template='{key}: {value}', metadata_seperator='\\n'),\n",
       " Document(id_='e8da1511-ef1d-45e5-87fb-ce666322879f', embedding=None, metadata={'start': 1800.98}, excluded_embed_metadata_keys=[], excluded_llm_metadata_keys=[], relationships={}, hash='052ccf8503e1bac62ae86e11e6e1cc54abe48f024fd06abd22d209e0c3e8d446', text=\" that Tony Cheat, not really seriously, but you know, let's say the concrete idea is by GBT,\", start_char_idx=None, end_char_idx=None, text_template='{metadata_str}\\n\\n{content}', metadata_template='{key}: {value}', metadata_seperator='\\n'),\n",
       " Document(id_='31a5b656-f5ef-47dd-938b-4cdcf5a09fda', embedding=None, metadata={'start': 1806.38}, excluded_embed_metadata_keys=[], excluded_llm_metadata_keys=[], relationships={}, hash='03001a7c41d62373d2a2540dbcf5a9c089eea7ebebb32cc8809fa0faa6dfb54a', text=\" let's eliminate commercials by automatically buying every product advertised in exchange for not\", start_char_idx=None, end_char_idx=None, text_template='{metadata_str}\\n\\n{content}', metadata_template='{key}: {value}', metadata_seperator='\\n'),\n",
       " Document(id_='d4951920-b8d8-450c-ad76-8183a8c9fbc9', embedding=None, metadata={'start': 1810.88}, excluded_embed_metadata_keys=[], excluded_llm_metadata_keys=[], relationships={}, hash='0ac4aed76c30bd16b1dc87fd2018d12ef0e9bc3143d9422f4900911f7dcbc757', text=\" having seen ads. It's not a good idea, but it is a concrete idea. And it turns out concrete ideas\", start_char_idx=None, end_char_idx=None, text_template='{metadata_str}\\n\\n{content}', metadata_template='{key}: {value}', metadata_seperator='\\n'),\n",
       " Document(id_='0d57135a-1f69-4dab-a2f9-15e2b292e4e9', embedding=None, metadata={'start': 1817.86}, excluded_embed_metadata_keys=[], excluded_llm_metadata_keys=[], relationships={}, hash='48506dd6c7d128af29f93a39482ef9cf43c4f24fcd4b5251e763aa4b0e4430ce', text=' can be validated or falsified efficiently. They also give a team a clear direction to execute.', start_char_idx=None, end_char_idx=None, text_template='{metadata_str}\\n\\n{content}', metadata_template='{key}: {value}', metadata_seperator='\\n'),\n",
       " Document(id_='359e15f1-02d7-46ff-93cc-d179451a0d2b', embedding=None, metadata={'start': 1825.52}, excluded_embed_metadata_keys=[], excluded_llm_metadata_keys=[], relationships={}, hash='31eae5363a1e27d4fbce970fa2184b3c816216e0310046dbd1a045d30535d14c', text=\" And I've learned it in today's world, especially with the excitement and buzz and exposure to the\", start_char_idx=None, end_char_idx=None, text_template='{metadata_str}\\n\\n{content}', metadata_template='{key}: {value}', metadata_seperator='\\n'),\n",
       " Document(id_='dda6e10d-4ac6-4b08-b0a3-8ff897ff69ed', embedding=None, metadata={'start': 1829.8}, excluded_embed_metadata_keys=[], excluded_llm_metadata_keys=[], relationships={}, hash='b2eba6bcf9cbed665ffe5ea0ca0b1306ceb8e48b49ebfe1813c503bbf07bc5ae', text=\" AI of a lot of people, it turns out that there are a lot of subject matter experts in today's world\", start_char_idx=None, end_char_idx=None, text_template='{metadata_str}\\n\\n{content}', metadata_template='{key}: {value}', metadata_seperator='\\n'),\n",
       " Document(id_='2ed1b1eb-cbee-4f3d-90c9-eb9f1c9e0ab3', embedding=None, metadata={'start': 1834.88}, excluded_embed_metadata_keys=[], excluded_llm_metadata_keys=[], relationships={}, hash='a8f9b719b41e5ae956dc1e422e6a7aabe56895e158d05fa5b6a342564a30d14b', text=\" that have deeply thought about a problem for months, sometimes even one or two years, but they've\", start_char_idx=None, end_char_idx=None, text_template='{metadata_str}\\n\\n{content}', metadata_template='{key}: {value}', metadata_seperator='\\n'),\n",
       " Document(id_='b866369a-c189-41e9-a864-926247caf853', embedding=None, metadata={'start': 1841.2}, excluded_embed_metadata_keys=[], excluded_llm_metadata_keys=[], relationships={}, hash='8d2d2946839bc92c73df485788c7833366d3df6392486a3b640d5d7090c438e8', text=' not yet had a build partner. And when we get together with them and hear and they share the idea', start_char_idx=None, end_char_idx=None, text_template='{metadata_str}\\n\\n{content}', metadata_template='{key}: {value}', metadata_seperator='\\n'),\n",
       " Document(id_='f06c5bde-0d4c-4cc2-aff9-9c4892c240b8', embedding=None, metadata={'start': 1846.18}, excluded_embed_metadata_keys=[], excluded_llm_metadata_keys=[], relationships={}, hash='13f22e8470d583d25ef0f50db5ce95da17825ece1da9040284bc53cdb76a830c', text=' of us, it allows us to work with them to very quickly go into validation and building. And I find', start_char_idx=None, end_char_idx=None, text_template='{metadata_str}\\n\\n{content}', metadata_template='{key}: {value}', metadata_seperator='\\n'),\n",
       " Document(id_='3fa06f71-c784-43ba-b6f9-0e714d7461d2', embedding=None, metadata={'start': 1851.96}, excluded_embed_metadata_keys=[], excluded_llm_metadata_keys=[], relationships={}, hash='aec2566a67edff23454d28fe04f20f9b3028a0425aa21b2f9c0ba890972adc63', text=' that this works because there are a lot of people that have already done the design thinking thing', start_char_idx=None, end_char_idx=None, text_template='{metadata_str}\\n\\n{content}', metadata_template='{key}: {value}', metadata_seperator='\\n'),\n",
       " Document(id_='8e3a00a4-0b5f-4647-b467-675052df6d7f', embedding=None, metadata={'start': 1858.42}, excluded_embed_metadata_keys=[], excluded_llm_metadata_keys=[], relationships={}, hash='41f95b9c45291d1209a3faabcd45ede9fc08d2006bc716d17eac53f13c241ae8', text=' of exploring a lot of ideas and winning down to really good ideas. And there are, I find that', start_char_idx=None, end_char_idx=None, text_template='{metadata_str}\\n\\n{content}', metadata_template='{key}: {value}', metadata_seperator='\\n'),\n",
       " Document(id_='178cde99-30bd-435f-be3c-f7ee651c2781', embedding=None, metadata={'start': 1863.32}, excluded_embed_metadata_keys=[], excluded_llm_metadata_keys=[], relationships={}, hash='d8bf523e9bbac53b9b1da57c61dcf7b4ec1fd49cabb80329d7f41631004fd91b', text=\" there's so many good ideas sitting out there that no one is working on that finding those good\", start_char_idx=None, end_char_idx=None, text_template='{metadata_str}\\n\\n{content}', metadata_template='{key}: {value}', metadata_seperator='\\n'),\n",
       " Document(id_='26be4004-b386-42d9-8bba-4fa2422e36ed', embedding=None, metadata={'start': 1868.28}, excluded_embed_metadata_keys=[], excluded_llm_metadata_keys=[], relationships={}, hash='11a1fa0b0d659bae65e98bbc0670b68ee0af98a27cd2df6728d7dc32d5031e0c', text=' ideas that someone has already had and wants to share of us and wants to build partner for that', start_char_idx=None, end_char_idx=None, text_template='{metadata_str}\\n\\n{content}', metadata_template='{key}: {value}', metadata_seperator='\\n'),\n",
       " Document(id_='12ee7441-8cce-4ffc-b14f-4e8037ff904f', embedding=None, metadata={'start': 1873.9}, excluded_embed_metadata_keys=[], excluded_llm_metadata_keys=[], relationships={}, hash='c157fb26f30189176289b48045d6dd88b51ce1d78c4498ee93810475d3d12ece', text=\" turns out to be much more efficient engine. So, before I wrap up, we'll go to the question\", start_char_idx=None, end_char_idx=None, text_template='{metadata_str}\\n\\n{content}', metadata_template='{key}: {value}', metadata_seperator='\\n'),\n",
       " Document(id_='01e0da62-4b5f-4dac-8b61-29cce17e8f54', embedding=None, metadata={'start': 1881.58}, excluded_embed_metadata_keys=[], excluded_llm_metadata_keys=[], relationships={}, hash='cc3b6f40182c9b03fb500c47b57eead316d7ce09158ebe07e8a189906203b396', text=' second. Just a few slides to talk about risks and social impact. So, AI is a very powerful', start_char_idx=None, end_char_idx=None, text_template='{metadata_str}\\n\\n{content}', metadata_template='{key}: {value}', metadata_seperator='\\n'),\n",
       " Document(id_='80ad349e-0b26-4aa3-9cc9-8bc944c9ad8e', embedding=None, metadata={'start': 1887.68}, excluded_embed_metadata_keys=[], excluded_llm_metadata_keys=[], relationships={}, hash='1e58f888829417678ea4c4793af56bb34ea5aa6708769edbdf89576b8aa6be3a', text=\" technology to state something you probably guess. My team's and I, we only work on projects that\", start_char_idx=None, end_char_idx=None, text_template='{metadata_str}\\n\\n{content}', metadata_template='{key}: {value}', metadata_seperator='\\n'),\n",
       " Document(id_='537bee78-f4bb-4f29-a6d4-25eb0b80ab05', embedding=None, metadata={'start': 1892.84}, excluded_embed_metadata_keys=[], excluded_llm_metadata_keys=[], relationships={}, hash='97e7e7889a961cbedf9d8ca29499558b4b75b11e19c7c43dc243731d57e1d219', text=' move humanity forward. And we have multiple times, killed projects that we assess that we', start_char_idx=None, end_char_idx=None, text_template='{metadata_str}\\n\\n{content}', metadata_template='{key}: {value}', metadata_seperator='\\n'),\n",
       " Document(id_='8a810276-9d34-45b3-98b3-bb7191c01beb', embedding=None, metadata={'start': 1899.02}, excluded_embed_metadata_keys=[], excluded_llm_metadata_keys=[], relationships={}, hash='71ecd1f64afc1480a28c036229f626a08987f941ed80df49a7af4d223edd4285', text=\" financially sound based on ethical grounds. It turns out I've been surprising. Sometimes this made\", start_char_idx=None, end_char_idx=None, text_template='{metadata_str}\\n\\n{content}', metadata_template='{key}: {value}', metadata_seperator='\\n'),\n",
       " Document(id_='a61758d9-1537-4bcf-9ae8-b112a93fdf15', embedding=None, metadata={'start': 1905.18}, excluded_embed_metadata_keys=[], excluded_llm_metadata_keys=[], relationships={}, hash='94c6fce19a15ca31b56ef4ce19406901c7eab9a83687a427755a8b5ae56ef5fc', text=' at the creativity of people to come up with good ideas, sorry to come up with really bad ideas', start_char_idx=None, end_char_idx=None, text_template='{metadata_str}\\n\\n{content}', metadata_template='{key}: {value}', metadata_seperator='\\n'),\n",
       " Document(id_='934c17be-a38d-49f5-93cc-d2480f2c7a34', embedding=None, metadata={'start': 1911.24}, excluded_embed_metadata_keys=[], excluded_llm_metadata_keys=[], relationships={}, hash='63f9b871d94cde0ce65218083a26d765df5989a592e1e89a2c57849122a65f52', text=' that seem profitable, but really should not be built with a few projects on those grounds.', start_char_idx=None, end_char_idx=None, text_template='{metadata_str}\\n\\n{content}', metadata_template='{key}: {value}', metadata_seperator='\\n'),\n",
       " Document(id_='98da0b4a-5d34-4b37-acd5-2bade9660301', embedding=None, metadata={'start': 1918.32}, excluded_embed_metadata_keys=[], excluded_llm_metadata_keys=[], relationships={}, hash='f6e38b7cf940260d43af7a4397935a1683cb22561847a4f12849b2aefa665ca4', text=' And then I think it has to acknowledge that AI today does have problems with bias, fairness,', start_char_idx=None, end_char_idx=None, text_template='{metadata_str}\\n\\n{content}', metadata_template='{key}: {value}', metadata_seperator='\\n'),\n",
       " Document(id_='7906422f-de4b-4c52-b9ef-a0c41295add4', embedding=None, metadata={'start': 1923.64}, excluded_embed_metadata_keys=[], excluded_llm_metadata_keys=[], relationships={}, hash='6c0e22a78313c5327849ed70483213ad02ccd888c15f8fa30290841722de1831', text=' accuracy, but also, you know, technology is improving quickly. So, I see that AI systems today', start_char_idx=None, end_char_idx=None, text_template='{metadata_str}\\n\\n{content}', metadata_template='{key}: {value}', metadata_seperator='\\n'),\n",
       " Document(id_='c0043158-b15d-4b9a-bba9-e2f146ea0269', embedding=None, metadata={'start': 1930.16}, excluded_embed_metadata_keys=[], excluded_llm_metadata_keys=[], relationships={}, hash='55d0354db04b1cd590f4e271f9e629249a69fcefbf116572c921a664240f43a3', text=' less bias than six months ago and more fair than six months ago, which is not to dismiss the importance', start_char_idx=None, end_char_idx=None, text_template='{metadata_str}\\n\\n{content}', metadata_template='{key}: {value}', metadata_seperator='\\n'),\n",
       " Document(id_='c10ad851-ef2c-4fb8-962f-e602d4376888', embedding=None, metadata={'start': 1936.02}, excluded_embed_metadata_keys=[], excluded_llm_metadata_keys=[], relationships={}, hash='9cf6af361ed19f5cfc674a5dd19559d361cabfb49276d4edf452e9abd37c44b7', text=\" of these problems. They are problems and we should continue to work on them. But I'm also\", start_char_idx=None, end_char_idx=None, text_template='{metadata_str}\\n\\n{content}', metadata_template='{key}: {value}', metadata_seperator='\\n'),\n",
       " Document(id_='a1eb7d3b-1718-430a-81e3-4de3d676c3ab', embedding=None, metadata={'start': 1940.72}, excluded_embed_metadata_keys=[], excluded_llm_metadata_keys=[], relationships={}, hash='1f1a911272a28c839bb335c1927ccc2cf2181b5c6ce4e60468d134ae883293ab', text=' gratified at the number of AI tears working hard on these issues to make them much better.', start_char_idx=None, end_char_idx=None, text_template='{metadata_str}\\n\\n{content}', metadata_template='{key}: {value}', metadata_seperator='\\n'),\n",
       " Document(id_='ed7003c6-dd17-4b16-ae1f-d03fe0613657', embedding=None, metadata={'start': 1945.46}, excluded_embed_metadata_keys=[], excluded_llm_metadata_keys=[], relationships={}, hash='30cc4f6de5f5ded4f3a42b15c3e14c734c0d4ed2327625c97d1e1b30e27ed0a7', text=' When I think of the biggest risk of AI, I think that the biggest risk, one of the biggest', start_char_idx=None, end_char_idx=None, text_template='{metadata_str}\\n\\n{content}', metadata_template='{key}: {value}', metadata_seperator='\\n'),\n",
       " Document(id_='1cc8af1d-29da-4929-8698-5ce2c1fe2174', embedding=None, metadata={'start': 1949.7}, excluded_embed_metadata_keys=[], excluded_llm_metadata_keys=[], relationships={}, hash='a50f38f9389948593a4273e8c6e62a97289c4a081d0834256afe0416539927b8', text=' risk is the disruption to jobs. This is a diagram from a paper by our friend at the University of', start_char_idx=None, end_char_idx=None, text_template='{metadata_str}\\n\\n{content}', metadata_template='{key}: {value}', metadata_seperator='\\n'),\n",
       " Document(id_='09b8f58e-df67-4ee6-a4cd-534c37486bf6', embedding=None, metadata={'start': 1957.16}, excluded_embed_metadata_keys=[], excluded_llm_metadata_keys=[], relationships={}, hash='ebfd54928a2d893d7c43d8736697bd54b53025e38092c429a87a1a6739752d42', text=' Pennsylvania and some folks at OpenAI, analyzing the exposure of different jobs to AI automation.', start_char_idx=None, end_char_idx=None, text_template='{metadata_str}\\n\\n{content}', metadata_template='{key}: {value}', metadata_seperator='\\n'),\n",
       " Document(id_='a3c8e096-af38-4f47-aa63-7c336b5f4d8c', embedding=None, metadata={'start': 1964.36}, excluded_embed_metadata_keys=[], excluded_llm_metadata_keys=[], relationships={}, hash='f71cde9105e109192dabb982da6716f894030e29982e3fa51307301582682559', text=' And it turns out that whereas the previous wave of automation mainly the most exposed jobs', start_char_idx=None, end_char_idx=None, text_template='{metadata_str}\\n\\n{content}', metadata_template='{key}: {value}', metadata_seperator='\\n'),\n",
       " Document(id_='4fd7b5d0-ffb9-4d9e-8162-974d52b69f8a', embedding=None, metadata={'start': 1970.74}, excluded_embed_metadata_keys=[], excluded_llm_metadata_keys=[], relationships={}, hash='ee190defba8f2377eab1b8d2ad5ceba4e8c5fa7667346adea9bc4a2396739dfa', text=' were often the lower-wage jobs, such as when we put robots into factories. With this current', start_char_idx=None, end_char_idx=None, text_template='{metadata_str}\\n\\n{content}', metadata_template='{key}: {value}', metadata_seperator='\\n'),\n",
       " Document(id_='acef4a3e-67b8-4d3a-8ddc-0b0eb5a1b313', embedding=None, metadata={'start': 1977.14}, excluded_embed_metadata_keys=[], excluded_llm_metadata_keys=[], relationships={}, hash='04aa3dda5d78cd2007e3f03758730164446547a208f2671bf86f942e9ccb83f8', text=' wave of automation is actually the higher-wage jobs further the right of this axis that seems', start_char_idx=None, end_char_idx=None, text_template='{metadata_str}\\n\\n{content}', metadata_template='{key}: {value}', metadata_seperator='\\n'),\n",
       " Document(id_='17222c07-a964-4937-953a-645a6ab05f1e', embedding=None, metadata={'start': 1983.18}, excluded_embed_metadata_keys=[], excluded_llm_metadata_keys=[], relationships={}, hash='d378e3540443ba841f07563d1ac07e3f33161888c3b580d0db2ee830226d3eab', text=' to have more of their tasks exposed to AI automation. So, even as we create tremendous value using AI,', start_char_idx=None, end_char_idx=None, text_template='{metadata_str}\\n\\n{content}', metadata_template='{key}: {value}', metadata_seperator='\\n'),\n",
       " Document(id_='37700820-43dc-4585-a1ce-205c12e4e425', embedding=None, metadata={'start': 1990.72}, excluded_embed_metadata_keys=[], excluded_llm_metadata_keys=[], relationships={}, hash='3d1c300c7601c78d5bad8f05a76a6453362d12fc104baa499d9d3f5f1fecf50e', text=' I feel like as citizens and our corporations and the governments and really our society,', start_char_idx=None, end_char_idx=None, text_template='{metadata_str}\\n\\n{content}', metadata_template='{key}: {value}', metadata_seperator='\\n'),\n",
       " Document(id_='a8767a22-dbc6-40f4-9f63-e599cd3769e1', embedding=None, metadata={'start': 1996.78}, excluded_embed_metadata_keys=[], excluded_llm_metadata_keys=[], relationships={}, hash='6f8cdde668193dba3c84d93dfeddb2536e655f73607ba2579e3a653597de889d', text=' I feel a strong obligation to make sure that people, especially people who are lively, who', start_char_idx=None, end_char_idx=None, text_template='{metadata_str}\\n\\n{content}', metadata_template='{key}: {value}', metadata_seperator='\\n'),\n",
       " Document(id_='b46e8b56-73a3-424a-9591-43527ed6ff83', embedding=None, metadata={'start': 2002.82}, excluded_embed_metadata_keys=[], excluded_llm_metadata_keys=[], relationships={}, hash='fde2aa2073e212b78d10c0a57b52c02d37a160a48347097b5b6991fafddc89e7', text=' are disrupted, are still well taken care of, are still treated well. And then lastly,', start_char_idx=None, end_char_idx=None, text_template='{metadata_str}\\n\\n{content}', metadata_template='{key}: {value}', metadata_seperator='\\n'),\n",
       " Document(id_='6663ec78-29b4-479b-8e12-29f7391802c2', embedding=None, metadata={'start': 2012.1}, excluded_embed_metadata_keys=[], excluded_llm_metadata_keys=[], relationships={}, hash='ac3b7441e708525f3d8c7dd64ddb3e73315b74cc2ee4b686fb525900304948fa', text=\" it feels like every time there's a big wave of progress in AI, there's a big wave of hype\", start_char_idx=None, end_char_idx=None, text_template='{metadata_str}\\n\\n{content}', metadata_template='{key}: {value}', metadata_seperator='\\n'),\n",
       " Document(id_='8cba8897-256a-43b1-a555-120baf848038', embedding=None, metadata={'start': 2018.04}, excluded_embed_metadata_keys=[], excluded_llm_metadata_keys=[], relationships={}, hash='7c1bb393a10efb51679b663d0700558c744922dfdd39d48abedb4dbe79f7a4bf', text=' about artificial gender intelligence as well. When deep learning started to work really well 10', start_char_idx=None, end_char_idx=None, text_template='{metadata_str}\\n\\n{content}', metadata_template='{key}: {value}', metadata_seperator='\\n'),\n",
       " Document(id_='ba021275-b76c-4c7a-9afc-ac67921e86db', embedding=None, metadata={'start': 2022.48}, excluded_embed_metadata_keys=[], excluded_llm_metadata_keys=[], relationships={}, hash='0f64eaa2a4b0bed11babce6629af8d9be2c8ad88adadfbd708388b2ba723ae56', text=' years ago, there was a lot of hype about AI and now the gender of AI is working really well.', start_char_idx=None, end_char_idx=None, text_template='{metadata_str}\\n\\n{content}', metadata_template='{key}: {value}', metadata_seperator='\\n'),\n",
       " Document(id_='81a7d248-37cb-4b99-a502-3daa76638ce1', embedding=None, metadata={'start': 2026.8}, excluded_embed_metadata_keys=[], excluded_llm_metadata_keys=[], relationships={}, hash='2e13f463bec8d2f4821bcd4e167c6393fcd2165b425d04118b9c4b2af27fe4aa', text=\" There's another wave of hype about AI. But I think that artificial gender intelligence,\", start_char_idx=None, end_char_idx=None, text_template='{metadata_str}\\n\\n{content}', metadata_template='{key}: {value}', metadata_seperator='\\n'),\n",
       " Document(id_='441c0bc5-b79e-47df-8afb-8b5c5c9dbf37', embedding=None, metadata={'start': 2033.1}, excluded_embed_metadata_keys=[], excluded_llm_metadata_keys=[], relationships={}, hash='d7e344e62696385838becdd101448d9212a1a952518150b0a9b2b4828f499218', text=\" AI didn't do anything human can do, it still decades away, maybe 30 to 50 years, maybe even longer.\", start_char_idx=None, end_char_idx=None, text_template='{metadata_str}\\n\\n{content}', metadata_template='{key}: {value}', metadata_seperator='\\n'),\n",
       " Document(id_='e3e4ac6b-c2e5-4384-a66a-954f546ab0ed', embedding=None, metadata={'start': 2038.48}, excluded_embed_metadata_keys=[], excluded_llm_metadata_keys=[], relationships={}, hash='5c574b3ab95de858fa09721502661b35b8a077df91a318e862c699c832e590a5', text=\" I hope we'll see in our lifetimes. But I don't think there's any time soon. One of the challenges\", start_char_idx=None, end_char_idx=None, text_template='{metadata_str}\\n\\n{content}', metadata_template='{key}: {value}', metadata_seperator='\\n'),\n",
       " Document(id_='edc01710-2230-4089-8c52-5442a9252c8d', embedding=None, metadata={'start': 2043.86}, excluded_embed_metadata_keys=[], excluded_llm_metadata_keys=[], relationships={}, hash='1a56ddfbc6da9ba5a0456702fc0fee2cf86ac0e9cc0f59b1e917d04969bc486e', text=' is that the biological path to intelligence, like humans and the digital path to intelligence,', start_char_idx=None, end_char_idx=None, text_template='{metadata_str}\\n\\n{content}', metadata_template='{key}: {value}', metadata_seperator='\\n'),\n",
       " Document(id_='30b49afa-88e7-4d24-ad82-67c55c3b5265', embedding=None, metadata={'start': 2049.9}, excluded_embed_metadata_keys=[], excluded_llm_metadata_keys=[], relationships={}, hash='cc61ce1ff28e13cf72357c8ae0453094247a70ca0c5cf14c0ca2b36822484c7b', text=\" AI, they've taken very different paths. And the funny thing about the definition of AI is\", start_char_idx=None, end_char_idx=None, text_template='{metadata_str}\\n\\n{content}', metadata_template='{key}: {value}', metadata_seperator='\\n'),\n",
       " Document(id_='d94e3db9-fb23-4a63-b8b5-71c830e1ce0c', embedding=None, metadata={'start': 2057.0}, excluded_embed_metadata_keys=[], excluded_llm_metadata_keys=[], relationships={}, hash='482aa5a2101c9e92d7bae95c1d02cb038df4ca6faa044099776ec0291d431f97', text=' benchmarking this very different digital path to intelligence with really the biological path', start_char_idx=None, end_char_idx=None, text_template='{metadata_str}\\n\\n{content}', metadata_template='{key}: {value}', metadata_seperator='\\n'),\n",
       " Document(id_='13fd98b9-7c24-46eb-afae-8b5510664b74', embedding=None, metadata={'start': 2061.8}, excluded_embed_metadata_keys=[], excluded_llm_metadata_keys=[], relationships={}, hash='9faf6123ec470e08f93600f6ebfc31fd8d996f2f2315194c465c9d6a1d75ca71', text=' to intelligence. So I think, you know, Russian-Gashmoldos are smarter than any of us in certain', start_char_idx=None, end_char_idx=None, text_template='{metadata_str}\\n\\n{content}', metadata_template='{key}: {value}', metadata_seperator='\\n'),\n",
       " Document(id_='ba6b8cca-2fa1-4a70-a982-aa4b484289f0', embedding=None, metadata={'start': 2067.2}, excluded_embed_metadata_keys=[], excluded_llm_metadata_keys=[], relationships={}, hash='aa039e0173fea80921ed4a2065e2262db1324b841273fb8a40c2fa6bb6a1885a', text=' key dimensions, but much dumber than any of us in other dimensions. And so forcing it to do', start_char_idx=None, end_char_idx=None, text_template='{metadata_str}\\n\\n{content}', metadata_template='{key}: {value}', metadata_seperator='\\n'),\n",
       " Document(id_='6c6fbc30-2f6b-4d37-a2cc-332e6b85bd39', embedding=None, metadata={'start': 2072.76}, excluded_embed_metadata_keys=[], excluded_llm_metadata_keys=[], relationships={}, hash='fb47d0720452d33cbf42e024f05e5c2a4355ee5d79a837b0bb5f3acd41b168bc', text=\" everything a human can do is like a funny comparison. But I hope we'll get there, maybe hopefully\", start_char_idx=None, end_char_idx=None, text_template='{metadata_str}\\n\\n{content}', metadata_template='{key}: {value}', metadata_seperator='\\n'),\n",
       " Document(id_='14d12193-6832-40aa-a520-dbaf1401473f', embedding=None, metadata={'start': 2077.38}, excluded_embed_metadata_keys=[], excluded_llm_metadata_keys=[], relationships={}, hash='35576cf38559c7fe34431186a5cd5abd076d11c7e6cf850e47bb8d5688dda16a', text=\" within a lifetimes. And then there's also a lot of, I think, overblown hype about AI creating\", start_char_idx=None, end_char_idx=None, text_template='{metadata_str}\\n\\n{content}', metadata_template='{key}: {value}', metadata_seperator='\\n'),\n",
       " Document(id_='bdd14af2-f3b7-49a2-add1-56dd533dd924', embedding=None, metadata={'start': 2083.3}, excluded_embed_metadata_keys=[], excluded_llm_metadata_keys=[], relationships={}, hash='8cb309f81430412a16176879d1688bcefb35067e2ad066e635a801ae07ec0917', text=\" extinction risk for humanity. Candidly, I don't see it. I just don't see how AI creates any\", start_char_idx=None, end_char_idx=None, text_template='{metadata_str}\\n\\n{content}', metadata_template='{key}: {value}', metadata_seperator='\\n'),\n",
       " Document(id_='d0946a47-6d84-483a-8b5d-33c4f7a738b9', embedding=None, metadata={'start': 2088.7}, excluded_embed_metadata_keys=[], excluded_llm_metadata_keys=[], relationships={}, hash='e4872cfaa3054be9387a77c40752021dd325b30cc3d87caeca52f3707a11245c', text=\" meaningful extinction risk for humanity. I think that people worry we can't control AI,\", start_char_idx=None, end_char_idx=None, text_template='{metadata_str}\\n\\n{content}', metadata_template='{key}: {value}', metadata_seperator='\\n'),\n",
       " Document(id_='04e14b58-5556-4e98-b0a1-e0d9d5fe01a6', embedding=None, metadata={'start': 2096.38}, excluded_embed_metadata_keys=[], excluded_llm_metadata_keys=[], relationships={}, hash='b0e7d2698ae141b37c5c8a4c0ee2e1b1fe6757dab722d94f1fa9d0b445c6e59f', text=\" but we have lots of AI will be more powerful than any person. But we've lots of experience steering\", start_char_idx=None, end_char_idx=None, text_template='{metadata_str}\\n\\n{content}', metadata_template='{key}: {value}', metadata_seperator='\\n'),\n",
       " Document(id_='caf200b8-9880-4f76-9a8c-a22e2da14143', embedding=None, metadata={'start': 2102.14}, excluded_embed_metadata_keys=[], excluded_llm_metadata_keys=[], relationships={}, hash='8615088f2bc25b855dbbf3cc3fb1ea6f5c3a9b55346f86faa630acd02d07ebff', text=' very powerful entities such as corporations or nation states that are far more powerful than any', start_char_idx=None, end_char_idx=None, text_template='{metadata_str}\\n\\n{content}', metadata_template='{key}: {value}', metadata_seperator='\\n'),\n",
       " Document(id_='6360d185-c036-4a81-8795-172f6c3df781', embedding=None, metadata={'start': 2106.58}, excluded_embed_metadata_keys=[], excluded_llm_metadata_keys=[], relationships={}, hash='566b3fb86bbf98f5518696dcd1f7bb5fcd342cfdf8f05f69891cd79298ca4e76', text=' single person and making sure they for the most part benefit humanity. And also technology', start_char_idx=None, end_char_idx=None, text_template='{metadata_str}\\n\\n{content}', metadata_template='{key}: {value}', metadata_seperator='\\n'),\n",
       " Document(id_='e9c6bb46-96be-4134-8c65-607bd055a9ad', embedding=None, metadata={'start': 2112.96}, excluded_embed_metadata_keys=[], excluded_llm_metadata_keys=[], relationships={}, hash='09baf91b5697bdcff53b57bfbb17357864b42b64bfe6ba164d8a8487c9699d66', text=\" develops gradually. The so-called hot takeoff scenario, where it's not really working today,\", start_char_idx=None, end_char_idx=None, text_template='{metadata_str}\\n\\n{content}', metadata_template='{key}: {value}', metadata_seperator='\\n'),\n",
       " Document(id_='0df5bab8-cc71-44b2-9fe2-52351a3535dd', embedding=None, metadata={'start': 2118.92}, excluded_embed_metadata_keys=[], excluded_llm_metadata_keys=[], relationships={}, hash='ab64bbc0467f6ce0932418ff69b0cddf9dbac870d47bd2ffb2c3dd21ad8c5911', text=' and then suddenly one day overnight, it works brilliantly with Chief Super Intelligence takes', start_char_idx=None, end_char_idx=None, text_template='{metadata_str}\\n\\n{content}', metadata_template='{key}: {value}', metadata_seperator='\\n'),\n",
       " Document(id_='cbccc4f3-d17a-436a-935e-eb1256534a6f', embedding=None, metadata={'start': 2123.24}, excluded_embed_metadata_keys=[], excluded_llm_metadata_keys=[], relationships={}, hash='16b2bb98bbd966b5c7b9b2115aeb983ba79bad51d416f663f33c6299e15086e9', text=\" over the world. That's just not realistic. And I think AI technology will develop slowly,\", start_char_idx=None, end_char_idx=None, text_template='{metadata_str}\\n\\n{content}', metadata_template='{key}: {value}', metadata_seperator='\\n'),\n",
       " Document(id_='68634afe-7eb3-431b-a7f9-6923b6bd953a', embedding=None, metadata={'start': 2128.76}, excluded_embed_metadata_keys=[], excluded_llm_metadata_keys=[], relationships={}, hash='6fe5b9f2a637b1aee2367d89112d01854be821bcb52481e0abe3a2687ed3353f', text=' like all the technology, and then it gives us plenty of time to make sure that we provide', start_char_idx=None, end_char_idx=None, text_template='{metadata_str}\\n\\n{content}', metadata_template='{key}: {value}', metadata_seperator='\\n'),\n",
       " Document(id_='d0284f24-0315-43da-9486-b46fad5011e6', embedding=None, metadata={'start': 2133.42}, excluded_embed_metadata_keys=[], excluded_llm_metadata_keys=[], relationships={}, hash='68624c6426a68cc02916b9eed7703a200a64880c5d92b2e11cbb02c1f2ade582', text=' oversight and can manage it to be safe. And lastly, if you look at the real extinction risk of', start_char_idx=None, end_char_idx=None, text_template='{metadata_str}\\n\\n{content}', metadata_template='{key}: {value}', metadata_seperator='\\n'),\n",
       " Document(id_='258a92ee-b2df-4b61-9e7f-0e54f90be4f5', embedding=None, metadata={'start': 2139.0}, excluded_embed_metadata_keys=[], excluded_llm_metadata_keys=[], relationships={}, hash='023357b387f02de9c21743e7dff4be458d1718794b54047be6c582eddcddfe71', text=' humanity, such as fingers crossed an ex-pandemic or climate change leading to a massive', start_char_idx=None, end_char_idx=None, text_template='{metadata_str}\\n\\n{content}', metadata_template='{key}: {value}', metadata_seperator='\\n'),\n",
       " Document(id_='828de1c0-9431-49cf-ba4e-46c46d9648e1', embedding=None, metadata={'start': 2146.18}, excluded_embed_metadata_keys=[], excluded_llm_metadata_keys=[], relationships={}, hash='19d37ff462b1ea9d7be0f645f9430e285d42f8ef80cdecc5099e10225c4a4565', text=' depopulation of some parts of the planet, or much lower odds that maybe someday,', start_char_idx=None, end_char_idx=None, text_template='{metadata_str}\\n\\n{content}', metadata_template='{key}: {value}', metadata_seperator='\\n'),\n",
       " Document(id_='6f087eca-cd1d-48a1-8d43-7260df843a24', embedding=None, metadata={'start': 2151.3}, excluded_embed_metadata_keys=[], excluded_llm_metadata_keys=[], relationships={}, hash='76b009658d99ea96fa318872ef52c16aefdfc51f437e70f84995f64756fffefc', text=\" and as there are doing to us, whether they're done to the dinosaurs, I think we look at the actual\", start_char_idx=None, end_char_idx=None, text_template='{metadata_str}\\n\\n{content}', metadata_template='{key}: {value}', metadata_seperator='\\n'),\n",
       " Document(id_='01bd2329-56cf-4e7a-bc38-b840b520b23e', embedding=None, metadata={'start': 2156.32}, excluded_embed_metadata_keys=[], excluded_llm_metadata_keys=[], relationships={}, hash='c7e11472ffda07df7bfda3f9b6b38552d055fc6bf6630f2de6cbb7c2a574a33f', text=' real extinction risk to humanity. AI, having more intelligence, even artificial intelligence', start_char_idx=None, end_char_idx=None, text_template='{metadata_str}\\n\\n{content}', metadata_template='{key}: {value}', metadata_seperator='\\n'),\n",
       " Document(id_='b95eeb12-6d20-43ca-99ff-23a812f01eb5', embedding=None, metadata={'start': 2162.46}, excluded_embed_metadata_keys=[], excluded_llm_metadata_keys=[], relationships={}, hash='5b5eb783437141c229b1d9beec8f63a8cb871e2df5c7deda43c0e81b7cf81b60', text=' in the world, would be a key part of the solution. So I feel like if you want humanity to', start_char_idx=None, end_char_idx=None, text_template='{metadata_str}\\n\\n{content}', metadata_template='{key}: {value}', metadata_seperator='\\n'),\n",
       " Document(id_='7621c710-47c2-4aa2-a323-615c41ed6ea8', embedding=None, metadata={'start': 2167.22}, excluded_embed_metadata_keys=[], excluded_llm_metadata_keys=[], relationships={}, hash='3766513dce31ee05a90e27ada9c2f417291c1e02b668c9e65c75a6d0573ead66', text=' survive and thrive for the next thousand years, rather than slowing AI down, which some people', start_char_idx=None, end_char_idx=None, text_template='{metadata_str}\\n\\n{content}', metadata_template='{key}: {value}', metadata_seperator='\\n'),\n",
       " Document(id_='c33bfdae-71cf-43dd-8729-26f8e6bdbe09', embedding=None, metadata={'start': 2172.8}, excluded_embed_metadata_keys=[], excluded_llm_metadata_keys=[], relationships={}, hash='7257e004d027912b3b03188ada88f10b2cf595aa95e6492b9fd0f4d4aa2048f6', text=' propose, I would rather make AI go as fast as possible. So with that, just to summarize,', start_char_idx=None, end_char_idx=None, text_template='{metadata_str}\\n\\n{content}', metadata_template='{key}: {value}', metadata_seperator='\\n'),\n",
       " Document(id_='362e74e9-e385-4921-a642-349d008d3b95', embedding=None, metadata={'start': 2180.52}, excluded_embed_metadata_keys=[], excluded_llm_metadata_keys=[], relationships={}, hash='d9b9bc1f16825a553b646481d8456710cb6e71ded9a800d4b97a313dff35fcc3', text=' this is my last slide. I think that AI, as a general purpose technology,', start_char_idx=None, end_char_idx=None, text_template='{metadata_str}\\n\\n{content}', metadata_template='{key}: {value}', metadata_seperator='\\n'),\n",
       " Document(id_='e078dd8f-fee6-4506-8c98-648999869b35', embedding=None, metadata={'start': 2185.86}, excluded_embed_metadata_keys=[], excluded_llm_metadata_keys=[], relationships={}, hash='3d4642116bee4f951841a22fe0fdad004635d7230b6424125c6ff4d04a9b509e', text=' creates a lot of new opportunities for everyone, and a lot of the exciting and important work that', start_char_idx=None, end_char_idx=None, text_template='{metadata_str}\\n\\n{content}', metadata_template='{key}: {value}', metadata_seperator='\\n'),\n",
       " Document(id_='22edbefe-b730-4791-8e84-c26285b9abaf', embedding=None, metadata={'start': 2191.6}, excluded_embed_metadata_keys=[], excluded_llm_metadata_keys=[], relationships={}, hash='c4c2669111b110a1594c4acc6c55bf3cfbe65d3100ab39e454258d7a87b386e9', text=' lies ahead of us all is to go and build those concrete use cases. And hopefully in the future,', start_char_idx=None, end_char_idx=None, text_template='{metadata_str}\\n\\n{content}', metadata_template='{key}: {value}', metadata_seperator='\\n'),\n",
       " Document(id_='e64fe51e-96e9-4286-a5a7-a53a3bb68b2a', embedding=None, metadata={'start': 2198.8}, excluded_embed_metadata_keys=[], excluded_llm_metadata_keys=[], relationships={}, hash='9acf03fc693c84bc2a92c650d46964cdbbc7149c6f0964856f6a956304add030', text=' hopefully I have opportunities to maybe engage with more of you on those opportunities as well.', start_char_idx=None, end_char_idx=None, text_template='{metadata_str}\\n\\n{content}', metadata_template='{key}: {value}', metadata_seperator='\\n'),\n",
       " Document(id_='e738c79a-5590-4d56-8334-0daaea06fde6', embedding=None, metadata={'start': 2204.06}, excluded_embed_metadata_keys=[], excluded_llm_metadata_keys=[], relationships={}, hash='d04ede67416d1792fce7a2748cd8503ac9459ca8eb150ccc971e5c7b167d52b0', text=' So that, let me just say thank you all very much.', start_char_idx=None, end_char_idx=None, text_template='{metadata_str}\\n\\n{content}', metadata_template='{key}: {value}', metadata_seperator='\\n')]"
      ]
     },
     "execution_count": 30,
     "metadata": {},
     "output_type": "execute_result"
    }
   ],
   "source": [
    "docs"
   ]
  },
  {
   "cell_type": "code",
   "execution_count": 31,
   "id": "0ece272c-fc56-4073-9d08-365e04970839",
   "metadata": {
    "scrolled": true,
    "tags": []
   },
   "outputs": [],
   "source": [
    "from llama_index.vector_stores import ChromaVectorStore\n"
   ]
  },
  {
   "cell_type": "code",
   "execution_count": 32,
   "id": "5bdf6fae-7d25-4c75-b96d-4855e2628cb6",
   "metadata": {
    "tags": []
   },
   "outputs": [
    {
     "data": {
      "application/vnd.jupyter.widget-view+json": {
       "model_id": "9c11d6e4d8534cd986dc983803edf71b",
       "version_major": 2,
       "version_minor": 0
      },
      "text/plain": [
       "Parsing documents into nodes:   0%|          | 0/370 [00:00<?, ?it/s]"
      ]
     },
     "metadata": {},
     "output_type": "display_data"
    },
    {
     "data": {
      "application/vnd.jupyter.widget-view+json": {
       "model_id": "df4c84d30d6d435bad99ded130e1a215",
       "version_major": 2,
       "version_minor": 0
      },
      "text/plain": [
       "Generating embeddings:   0%|          | 0/370 [00:00<?, ?it/s]"
      ]
     },
     "metadata": {},
     "output_type": "display_data"
    }
   ],
   "source": [
    "\n",
    "# set up ChromaVectorStore and load in data\n",
    "vector_store = ChromaVectorStore(chroma_collection=chroma_collection)\n",
    "storage_context = StorageContext.from_defaults(vector_store=vector_store)\n",
    "service_context = ServiceContext.from_defaults(embed_model=embed_model)\n",
    "index = VectorStoreIndex.from_documents(\n",
    "    docs, storage_context=storage_context, service_context=service_context,\n",
    "show_progress=True,)\n"
   ]
  },
  {
   "cell_type": "code",
   "execution_count": 33,
   "id": "ce184f23-5c6e-470b-be35-6353e011ae34",
   "metadata": {
    "tags": []
   },
   "outputs": [],
   "source": [
    "retreiver = index.as_retriever(similarity_top_k=5)"
   ]
  },
  {
   "cell_type": "code",
   "execution_count": 43,
   "id": "593f456e-18aa-4db1-bbce-cfaae5472dbc",
   "metadata": {
    "tags": []
   },
   "outputs": [],
   "source": [
    "def search(query):\n",
    "    response = retreiver.retrieve(query)\n",
    "    return response"
   ]
  },
  {
   "cell_type": "code",
   "execution_count": 49,
   "id": "46f9fba1-4353-4f1a-beaf-fafdfe6c6ba9",
   "metadata": {
    "scrolled": true,
    "tags": []
   },
   "outputs": [
    {
     "name": "stdout",
     "output_type": "stream",
     "text": [
      "meaningful extinction risk for humanity. I think that people worry we can't control AI, 2088.7\n",
      "-------------------------\n",
      "real extinction risk to humanity. AI, having more intelligence, even artificial intelligence 2156.32\n",
      "-------------------------\n",
      "extinction risk for humanity. Candidly, I don't see it. I just don't see how AI creates any 2083.3\n",
      "-------------------------\n",
      "second. Just a few slides to talk about risks and social impact. So, AI is a very powerful 1881.58\n",
      "-------------------------\n",
      "When I think of the biggest risk of AI, I think that the biggest risk, one of the biggest 1945.46\n",
      "-------------------------\n"
     ]
    }
   ],
   "source": [
    "responses = search(\"What are the author's thoughts on the risks and benefits of AI for humanity\")\n",
    "for response in responses:\n",
    "    print(response.text, response.metadata.get(\"start\"))\n",
    "    print(25*\"-\")"
   ]
  },
  {
   "cell_type": "code",
   "execution_count": 63,
   "id": "e3bc98f4-2bfb-4564-ba5f-0756a49e379d",
   "metadata": {
    "tags": []
   },
   "outputs": [],
   "source": [
    "from IPython.display import display, HTML"
   ]
  },
  {
   "cell_type": "code",
   "execution_count": 60,
   "id": "246c64e0-6bbf-4b0e-b08b-60e04994267d",
   "metadata": {
    "tags": []
   },
   "outputs": [],
   "source": [
    "def display_youtube(video_id, start_time):\n",
    "    return display(\n",
    "        HTML(\n",
    "            f'''<iframe \n",
    "            width=\"560\" \n",
    "            height=\"315\" \n",
    "            src=\"https://www.youtube.com/embed/{video_id}?start={start_time}\" \n",
    "            frameborder=\"0\" \n",
    "            allowfullscreen>\n",
    "            </iframe>'''))\n"
   ]
  },
  {
   "cell_type": "code",
   "execution_count": 65,
   "id": "6661fe72-5afa-407b-a285-dd44a3ae5545",
   "metadata": {
    "tags": []
   },
   "outputs": [
    {
     "data": {
      "text/html": [
       "<iframe \n",
       "            width=\"560\" \n",
       "            height=\"315\" \n",
       "            src=\"https://www.youtube.com/embed/5p248yoa3oE?start=2088\" \n",
       "            frameborder=\"0\" \n",
       "            allowfullscreen>\n",
       "            </iframe>"
      ],
      "text/plain": [
       "<IPython.core.display.HTML object>"
      ]
     },
     "metadata": {},
     "output_type": "display_data"
    }
   ],
   "source": [
    "display_youtube(video_id, start_time=2088)"
   ]
  },
  {
   "cell_type": "code",
   "execution_count": 1,
   "id": "5a102e2f-3d2e-4281-acfc-da22ce7492b1",
   "metadata": {},
   "outputs": [],
   "source": [
    "import torch"
   ]
  },
  {
   "cell_type": "code",
   "execution_count": 2,
   "id": "0093bafa-2b37-42bd-98c4-6170684c4b76",
   "metadata": {
    "tags": []
   },
   "outputs": [
    {
     "data": {
      "text/plain": [
       "False"
      ]
     },
     "execution_count": 2,
     "metadata": {},
     "output_type": "execute_result"
    }
   ],
   "source": [
    "torch.cuda.is_available()"
   ]
  },
  {
   "cell_type": "code",
   "execution_count": null,
   "id": "5cbaff2d-6557-4292-84ba-8eed9e140237",
   "metadata": {},
   "outputs": [],
   "source": []
  }
 ],
 "metadata": {
  "kernelspec": {
   "display_name": "langchain224",
   "language": "python",
   "name": "langchain224"
  },
  "language_info": {
   "codemirror_mode": {
    "name": "ipython",
    "version": 3
   },
   "file_extension": ".py",
   "mimetype": "text/x-python",
   "name": "python",
   "nbconvert_exporter": "python",
   "pygments_lexer": "ipython3",
   "version": "3.10.10"
  }
 },
 "nbformat": 4,
 "nbformat_minor": 5
}
